{
 "cells": [
  {
   "cell_type": "markdown",
   "id": "f2f994f8",
   "metadata": {},
   "source": [
    "# Shallow Vs Deep Copy"
   ]
  },
  {
   "cell_type": "markdown",
   "id": "9589e3cd",
   "metadata": {},
   "source": [
    "## 1. Referencing"
   ]
  },
  {
   "cell_type": "code",
   "execution_count": 1,
   "id": "31ca0aff",
   "metadata": {},
   "outputs": [
    {
     "name": "stdout",
     "output_type": "stream",
     "text": [
      "10\n",
      "5\n"
     ]
    }
   ],
   "source": [
    "org = 5\n",
    "cpy_org = org\n",
    "\n",
    "# This creates a new variable. And is independent now.\n",
    "cpy_org = 10\n",
    "\n",
    "print(cpy_org)\n",
    "print(org)"
   ]
  },
  {
   "cell_type": "markdown",
   "id": "ab58ef16",
   "metadata": {},
   "source": [
    "## 2. With Mutable Types: list, dict, set\n",
    "- Assignment operator ``=`` doesn't makes an actual copy"
   ]
  },
  {
   "cell_type": "code",
   "execution_count": 2,
   "id": "b3dde11f",
   "metadata": {},
   "outputs": [
    {
     "name": "stdout",
     "output_type": "stream",
     "text": [
      "[-20, 1, 2, 3, 4, 10]\n",
      "[-20, 1, 2, 3, 4, 10]\n"
     ]
    }
   ],
   "source": [
    "org = [0, 1, 2, 3, 4]\n",
    "cpy = org\n",
    "\n",
    "# update items\n",
    "cpy[0] = -20\n",
    "cpy.append(10)\n",
    "\n",
    "# original gets affected\n",
    "print(cpy)\n",
    "print(org)"
   ]
  },
  {
   "cell_type": "markdown",
   "id": "d951134f",
   "metadata": {},
   "source": [
    "**Handelng Copying Issue with mutable types:**\n",
    "- **Shallow copy:** ``One level deep, only references of nested child objects``\n",
    "- **Deep Copy:** ``Full Independent Copy``"
   ]
  },
  {
   "cell_type": "code",
   "execution_count": 3,
   "id": "ba62c88f",
   "metadata": {},
   "outputs": [],
   "source": [
    "import copy"
   ]
  },
  {
   "cell_type": "markdown",
   "id": "42684f4a",
   "metadata": {},
   "source": [
    "**Shallow Copy**"
   ]
  },
  {
   "cell_type": "code",
   "execution_count": 4,
   "id": "2afb0d4f",
   "metadata": {},
   "outputs": [
    {
     "name": "stdout",
     "output_type": "stream",
     "text": [
      "[0, 1, 2, 3, 4]\n",
      "[0, 1, 2, 3, 4, 20]\n"
     ]
    }
   ],
   "source": [
    "org = [0, 1, 2, 3, 4]\n",
    "\n",
    "\n",
    "# create a copy of original\n",
    "cpy = copy.copy(org)\n",
    "\"\"\"\n",
    "or -> This works only if an element in one level deep\n",
    "cpy = org.copy()\n",
    "cpy = list(org)\n",
    "cpy = org[:] # list slicing\n",
    "\"\"\"\n",
    "\n",
    "# modify the copy only\n",
    "cpy.append(20)\n",
    "\n",
    "# original doesn't gets affected\n",
    "print(org)\n",
    "print(cpy)"
   ]
  },
  {
   "cell_type": "markdown",
   "id": "6ad7d4dd",
   "metadata": {},
   "source": [
    "**Issue With Shallow Copy:**\n",
    "- Doesn't works with nested items."
   ]
  },
  {
   "cell_type": "code",
   "execution_count": 5,
   "id": "eb2ed22c",
   "metadata": {},
   "outputs": [
    {
     "name": "stdout",
     "output_type": "stream",
     "text": [
      "[[200, 2], [3, 4], [5, 6]]\n",
      "[[200, 2], [3, 4], [5, 6]]\n"
     ]
    }
   ],
   "source": [
    "# A nested list item\n",
    "org = [[1, 2], [3, 4], [5, 6]]\n",
    "\n",
    "# Create a copy of original\n",
    "shallow_cpy = copy.copy(org)\n",
    "\n",
    "# Modify the first item of 0th index list\n",
    "shallow_cpy[0][0] = 200\n",
    "\n",
    "# This affects the original as well\n",
    "print(org)\n",
    "print(shallow_cpy)"
   ]
  },
  {
   "cell_type": "markdown",
   "id": "618b1f12",
   "metadata": {},
   "source": [
    "**Solution with nested item copy: Deepcopy**"
   ]
  },
  {
   "cell_type": "code",
   "execution_count": 6,
   "id": "10484bd9",
   "metadata": {},
   "outputs": [
    {
     "name": "stdout",
     "output_type": "stream",
     "text": [
      "[[1, 2], [3, 4], [5, 6]]\n",
      "[[200, 2], [3, 4], [5, 6]]\n"
     ]
    }
   ],
   "source": [
    "# A nested list item\n",
    "org = [[1, 2], [3, 4], [5, 6]]\n",
    "\n",
    "# Create a copy of original\n",
    "shallow_cpy = copy.deepcopy(org)\n",
    "\n",
    "# Modify the first item of 0th index list\n",
    "shallow_cpy[0][0] = 200\n",
    "\n",
    "# This now preserves the original one.\n",
    "print(org)\n",
    "print(shallow_cpy)"
   ]
  },
  {
   "cell_type": "markdown",
   "id": "091af352",
   "metadata": {},
   "source": [
    "## 3. With Custom Objects"
   ]
  },
  {
   "cell_type": "markdown",
   "id": "f1de1ba4",
   "metadata": {},
   "source": [
    "**Issue:**"
   ]
  },
  {
   "cell_type": "code",
   "execution_count": 7,
   "id": "1f9a65e5",
   "metadata": {},
   "outputs": [
    {
     "name": "stdout",
     "output_type": "stream",
     "text": [
      "B\n",
      "B\n"
     ]
    }
   ],
   "source": [
    "class Person:\n",
    "    def __init__(self, name, age):\n",
    "        self.name = name\n",
    "        self.age = age\n",
    "\n",
    "p1 = Person(\"A\", 32)\n",
    "\n",
    "# crete a copy of original p1\n",
    "p1_cpy = p1\n",
    "\n",
    "# modify copy\n",
    "p1_cpy.name = \"B\"\n",
    "\n",
    "# changes reflected\n",
    "print(p1.name)\n",
    "print(p1_cpy.name)"
   ]
  },
  {
   "cell_type": "markdown",
   "id": "ca92e39c",
   "metadata": {},
   "source": [
    "**Solution: using Shallow Copy**"
   ]
  },
  {
   "cell_type": "code",
   "execution_count": 8,
   "id": "bc1e3217",
   "metadata": {},
   "outputs": [
    {
     "name": "stdout",
     "output_type": "stream",
     "text": [
      "A\n",
      "B\n"
     ]
    }
   ],
   "source": [
    "p1 = Person(\"A\", 32)\n",
    "\n",
    "# crete a shallow copy of original p1\n",
    "p1_cpy = copy.copy(p1)\n",
    "\n",
    "# modify copy\n",
    "p1_cpy.name = \"B\"\n",
    "\n",
    "# changes reflected\n",
    "print(p1.name)\n",
    "print(p1_cpy.name)"
   ]
  },
  {
   "cell_type": "markdown",
   "id": "a3b73b15",
   "metadata": {},
   "source": [
    "## 4. Custom Objects: Deeper Structure"
   ]
  },
  {
   "cell_type": "markdown",
   "id": "06afe939",
   "metadata": {},
   "source": [
    "**Issue with Using Shallow Copy**"
   ]
  },
  {
   "cell_type": "code",
   "execution_count": 9,
   "id": "e138cf3b",
   "metadata": {},
   "outputs": [
    {
     "name": "stdout",
     "output_type": "stream",
     "text": [
      "Google\n",
      "Google\n"
     ]
    }
   ],
   "source": [
    "class Company:\n",
    "    def __init__(self, name):\n",
    "        self.name = name\n",
    "\n",
    "class Person:\n",
    "    def __init__(self, name, age, company):\n",
    "        self.name = name\n",
    "        self.age = age\n",
    "        self.company = company # <-------- nested here\n",
    "\n",
    "c1 = Company(\"Facebook\")\n",
    "p1 = Person(\"Jane Doe\", 21, c1)\n",
    "\n",
    "# create a shallow copy\n",
    "p1_copy = copy.copy(p1)\n",
    "\n",
    "# modify the copy\n",
    "p1_copy.company.name = \"Google\"\n",
    "\n",
    "\n",
    "# Changes Reflected\n",
    "print(p1.company.name)\n",
    "print(p1_copy.company.name)"
   ]
  },
  {
   "cell_type": "markdown",
   "id": "58332c3c",
   "metadata": {},
   "source": [
    "**Solution Using Deep Copy**"
   ]
  },
  {
   "cell_type": "code",
   "execution_count": 10,
   "id": "cd7382a0",
   "metadata": {},
   "outputs": [
    {
     "name": "stdout",
     "output_type": "stream",
     "text": [
      "Facebook\n",
      "Google\n"
     ]
    }
   ],
   "source": [
    "c1 = Company(\"Facebook\")\n",
    "p1 = Person(\"Jane Doe\", 21, c1)\n",
    "\n",
    "# create a deep copy\n",
    "p1_copy = copy.deepcopy(p1)\n",
    "\n",
    "# modify the copy\n",
    "p1_copy.company.name = \"Google\"\n",
    "\n",
    "\n",
    "# Changes Not Reflected\n",
    "print(p1.company.name)\n",
    "print(p1_copy.company.name)"
   ]
  }
 ],
 "metadata": {
  "kernelspec": {
   "display_name": "Python 3",
   "language": "python",
   "name": "python3"
  },
  "language_info": {
   "codemirror_mode": {
    "name": "ipython",
    "version": 3
   },
   "file_extension": ".py",
   "mimetype": "text/x-python",
   "name": "python",
   "nbconvert_exporter": "python",
   "pygments_lexer": "ipython3",
   "version": "3.8.8"
  }
 },
 "nbformat": 4,
 "nbformat_minor": 5
}
