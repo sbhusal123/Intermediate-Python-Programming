{
 "cells": [
  {
   "cell_type": "markdown",
   "id": "97f1323e",
   "metadata": {},
   "source": [
    "**Groupby**\n",
    "- Iterator that returns consecutive keys and groups from the iterable.\n",
    "- The key is a function computing a key value for each element"
   ]
  },
  {
   "cell_type": "code",
   "execution_count": 1,
   "id": "cb3ab96c",
   "metadata": {},
   "outputs": [],
   "source": [
    "from itertools import groupby"
   ]
  },
  {
   "cell_type": "markdown",
   "id": "66136c95",
   "metadata": {},
   "source": [
    "**Usage:** \n",
    "- ``groupby(<iteratable>, key=<callable>)``\n",
    "- Returns: key and a value. Where value is a ``<generator>``."
   ]
  },
  {
   "cell_type": "code",
   "execution_count": 2,
   "id": "9063a8ee",
   "metadata": {},
   "outputs": [
    {
     "name": "stdout",
     "output_type": "stream",
     "text": [
      "even [10, 14, 16, 22]\n",
      "odd [9, 3, 37]\n"
     ]
    }
   ],
   "source": [
    "n = [10, 14, 16, 22, 9, 3 , 37]\n",
    "\n",
    "def even_or_odd(val):\n",
    "     if val%2 == 0:\n",
    "       return \"even\"\n",
    "     else:  \n",
    "       return \"odd\"\n",
    "\n",
    "group_obj = groupby(n, even_or_odd)\n",
    "\n",
    "for key, group in group_obj:\n",
    "    print(key, list(group)) "
   ]
  },
  {
   "cell_type": "markdown",
   "id": "a478e326",
   "metadata": {},
   "source": [
    "**Usage with dictioary**"
   ]
  },
  {
   "cell_type": "code",
   "execution_count": 3,
   "id": "566700af",
   "metadata": {},
   "outputs": [],
   "source": [
    "persons = [\n",
    "    {'name': 'Ramesh', 'age': 32},\n",
    "    {'name': 'Hari', 'age': 37},\n",
    "    {'name': 'Shyam', 'age': 24},\n",
    "    {'name': 'Kiran', 'age': 25}\n",
    "]"
   ]
  },
  {
   "cell_type": "code",
   "execution_count": 4,
   "id": "fa5c1d3d",
   "metadata": {},
   "outputs": [
    {
     "name": "stdout",
     "output_type": "stream",
     "text": [
      "gt_30 [{'name': 'Ramesh', 'age': 32}, {'name': 'Hari', 'age': 37}]\n",
      "lt_30 [{'name': 'Shyam', 'age': 24}, {'name': 'Kiran', 'age': 25}]\n"
     ]
    }
   ],
   "source": [
    "age_gt_30_group = groupby(persons, key = lambda x: 'gt_30' if x['age'] > 30 else 'lt_30')\n",
    "\n",
    "for key, group in age_gt_30_group:\n",
    "    print(key, list(group))"
   ]
  }
 ],
 "metadata": {
  "kernelspec": {
   "display_name": "Python 3",
   "language": "python",
   "name": "python3"
  },
  "language_info": {
   "codemirror_mode": {
    "name": "ipython",
    "version": 3
   },
   "file_extension": ".py",
   "mimetype": "text/x-python",
   "name": "python",
   "nbconvert_exporter": "python",
   "pygments_lexer": "ipython3",
   "version": "3.8.8"
  }
 },
 "nbformat": 4,
 "nbformat_minor": 5
}
