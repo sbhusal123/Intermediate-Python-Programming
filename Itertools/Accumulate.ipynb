{
 "cells": [
  {
   "cell_type": "markdown",
   "id": "90f571e7",
   "metadata": {},
   "source": [
    "# Accumulate\n",
    "- Iterator that returns accumulated sums\n",
    "- Or accumulated results of other binary functions."
   ]
  },
  {
   "cell_type": "code",
   "execution_count": 1,
   "id": "20e1c03e",
   "metadata": {},
   "outputs": [],
   "source": [
    "from itertools import accumulate"
   ]
  },
  {
   "cell_type": "markdown",
   "id": "41f543ec",
   "metadata": {},
   "source": [
    "**i. Usage:**\n",
    "- ``accumulate(x, func=<callable accepting binary elements>)``\n",
    "- If func is not defines, returns sum."
   ]
  },
  {
   "cell_type": "code",
   "execution_count": 2,
   "id": "7ed73534",
   "metadata": {},
   "outputs": [
    {
     "name": "stdout",
     "output_type": "stream",
     "text": [
      "List:  [1, 2, 3, 4]\n",
      "Accumulated Sum:  [1, 3, 6, 10]\n"
     ]
    }
   ],
   "source": [
    "x = [1, 2, 3, 4]\n",
    "\n",
    "acc_sum = accumulate(x)\n",
    "\n",
    "print(\"List: \", x)\n",
    "print(\"Accumulated Sum: \", list(acc_sum))"
   ]
  },
  {
   "cell_type": "markdown",
   "id": "462ea11a",
   "metadata": {},
   "source": [
    "**Accumulated Difference**"
   ]
  },
  {
   "cell_type": "code",
   "execution_count": 3,
   "id": "771e8214",
   "metadata": {},
   "outputs": [
    {
     "name": "stdout",
     "output_type": "stream",
     "text": [
      "List:  [3, 4, 5, 6]\n",
      "Accumulated Difference:  [3, -1, -6, -12]\n"
     ]
    }
   ],
   "source": [
    "import operator\n",
    "\n",
    "x = [3, 4, 5, 6]\n",
    "\n",
    "acc_diff = accumulate(x, operator.sub)\n",
    "\n",
    "print(\"List: \", x)\n",
    "print(\"Accumulated Difference: \", list(acc_diff))"
   ]
  },
  {
   "cell_type": "markdown",
   "id": "7f5b85ee",
   "metadata": {},
   "source": [
    "**Accumulated Product**"
   ]
  },
  {
   "cell_type": "code",
   "execution_count": 4,
   "id": "c8630fd8",
   "metadata": {},
   "outputs": [
    {
     "name": "stdout",
     "output_type": "stream",
     "text": [
      "List:  [3, 4, 5, 6]\n",
      "Accumulated Difference:  [3, 12, 60, 360]\n"
     ]
    }
   ],
   "source": [
    "import operator\n",
    "\n",
    "x = [3, 4, 5, 6]\n",
    "\n",
    "acc_prod = accumulate(x, operator.mul)\n",
    "\n",
    "print(\"List: \", x)\n",
    "print(\"Accumulated Difference: \", list(acc_prod))"
   ]
  },
  {
   "cell_type": "markdown",
   "id": "2c30e24a",
   "metadata": {},
   "source": [
    "**Accumulated Max**"
   ]
  },
  {
   "cell_type": "code",
   "execution_count": 5,
   "id": "62679e4c",
   "metadata": {},
   "outputs": [
    {
     "name": "stdout",
     "output_type": "stream",
     "text": [
      "List:  [3, 10, 5, 6]\n",
      "Accumulated Difference:  [3, 10, 10, 10]\n"
     ]
    }
   ],
   "source": [
    "import operator\n",
    "\n",
    "x = [3, 10, 5, 6]\n",
    "\n",
    "acc_max = accumulate(x, max)\n",
    "\n",
    "print(\"List: \", x)\n",
    "print(\"Accumulated Difference: \", list(acc_max))"
   ]
  }
 ],
 "metadata": {
  "kernelspec": {
   "display_name": "Python 3",
   "language": "python",
   "name": "python3"
  },
  "language_info": {
   "codemirror_mode": {
    "name": "ipython",
    "version": 3
   },
   "file_extension": ".py",
   "mimetype": "text/x-python",
   "name": "python",
   "nbconvert_exporter": "python",
   "pygments_lexer": "ipython3",
   "version": "3.8.8"
  }
 },
 "nbformat": 4,
 "nbformat_minor": 5
}
