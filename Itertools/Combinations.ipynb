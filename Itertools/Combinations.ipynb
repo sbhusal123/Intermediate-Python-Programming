{
 "cells": [
  {
   "cell_type": "markdown",
   "id": "2b56d6a6",
   "metadata": {},
   "source": [
    "# Combinations\n",
    "Total number of combinations of n objects taken r at a time, $C(n, r)$\n",
    "\n",
    "$$C(n, r) = \\frac{n!}{(n-r)!r!}$$\n",
    "\n",
    "- Ordering doesn't matters"
   ]
  },
  {
   "cell_type": "code",
   "execution_count": 1,
   "id": "a220b749",
   "metadata": {},
   "outputs": [],
   "source": [
    "from itertools import combinations"
   ]
  },
  {
   "cell_type": "markdown",
   "id": "8c2c6beb",
   "metadata": {},
   "source": [
    "**Example 1:**\n",
    "A bag contains 2 red balls and 2 blue balls, if 2 balls is picked randomly, what is the combinations possible and number of combinations ?\n",
    "\n",
    "$$C(4, 2)= \\frac{4!}{(2-2)!2!}$$\n",
    "$$=\\frac{4 \\times 3 \\times 2!}{(4-2)!2!}$$\n",
    "$$=\\frac{4 \\times 3 }{2!}$$\n",
    "$$=\\frac{12}{2}=6$$"
   ]
  },
  {
   "cell_type": "code",
   "execution_count": 2,
   "id": "ca91555d",
   "metadata": {},
   "outputs": [
    {
     "name": "stdout",
     "output_type": "stream",
     "text": [
      "Combinations possible:  [('r1', 'r2'), ('r1', 'b1'), ('r1', 'b2'), ('r2', 'b1'), ('r2', 'b2'), ('b1', 'b2')]\n",
      "Total number of combinations:  6\n"
     ]
    }
   ],
   "source": [
    "bag = ['r1', 'r2', 'b1', 'b2']\n",
    "picked_items = 2\n",
    "\n",
    "comb = combinations(bag, picked_items)\n",
    "\n",
    "l_comb = list(comb)\n",
    "\n",
    "print(\"Combinations possible: \", l_comb)\n",
    "print(\"Total number of combinations: \", len(l_comb))"
   ]
  },
  {
   "cell_type": "markdown",
   "id": "16883af3",
   "metadata": {},
   "source": [
    "**ii. Combinations with replacement**\n",
    "- Repeated items"
   ]
  },
  {
   "cell_type": "code",
   "execution_count": 3,
   "id": "17ba79d2",
   "metadata": {},
   "outputs": [],
   "source": [
    "from itertools import combinations_with_replacement"
   ]
  },
  {
   "cell_type": "code",
   "execution_count": 4,
   "id": "b733c316",
   "metadata": {},
   "outputs": [
    {
     "name": "stdout",
     "output_type": "stream",
     "text": [
      "Combinations possible: \n",
      " [('r1', 'r1'), ('r1', 'r2'), ('r1', 'b1'), ('r1', 'b2'), ('r2', 'r2'), ('r2', 'b1'), ('r2', 'b2'), ('b1', 'b1'), ('b1', 'b2'), ('b2', 'b2')]\n",
      "\n",
      "Total number of combinations:  10\n"
     ]
    }
   ],
   "source": [
    "bag = ['r1', 'r2', 'b1', 'b2']\n",
    "picked_items = 2\n",
    "\n",
    "comb_wr = combinations_with_replacement(bag, picked_items)\n",
    "\n",
    "l_comb_wr = list(comb_wr)\n",
    "\n",
    "print(\"Combinations possible: \\n\", l_comb_wr)\n",
    "print(\"\\nTotal number of combinations: \", len(l_comb_wr))"
   ]
  }
 ],
 "metadata": {
  "kernelspec": {
   "display_name": "Python 3",
   "language": "python",
   "name": "python3"
  },
  "language_info": {
   "codemirror_mode": {
    "name": "ipython",
    "version": 3
   },
   "file_extension": ".py",
   "mimetype": "text/x-python",
   "name": "python",
   "nbconvert_exporter": "python",
   "pygments_lexer": "ipython3",
   "version": "3.8.8"
  }
 },
 "nbformat": 4,
 "nbformat_minor": 5
}
