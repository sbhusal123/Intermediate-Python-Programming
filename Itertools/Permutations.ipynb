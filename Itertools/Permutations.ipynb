{
 "cells": [
  {
   "cell_type": "markdown",
   "id": "d4e3db2a",
   "metadata": {},
   "source": [
    "# Permutations\n",
    "Total number of permutations of a set of n objects taken r at a time is given by:\n",
    "$$P(n, r) = n.(n-1).(n-2).(n-3)....(n-r+1); (n \\leq r)$$ \n",
    "$$P(n, r)=\\frac{n!}{(n-r)!}$$\n",
    "Where;\n",
    "$$n!=n \\times (n-1) \\times (n-2) \\times .... \\times 1$$\n",
    "\n",
    "- In case of permutations ordering of elements matters.\n",
    "\n",
    "**Note: 0!=1**"
   ]
  },
  {
   "cell_type": "code",
   "execution_count": 1,
   "id": "386d9563",
   "metadata": {},
   "outputs": [],
   "source": [
    "from itertools import permutations"
   ]
  },
  {
   "cell_type": "markdown",
   "id": "d0c60be6",
   "metadata": {},
   "source": [
    "**i. Usage**:\n",
    "- ``permutations(iteratable, r)``\n",
    "- Returns generator whose next element accessed using ``next(<generator>)``"
   ]
  },
  {
   "cell_type": "markdown",
   "id": "e87b627a",
   "metadata": {},
   "source": [
    "**Example 1:**\n",
    "- Find the permutation of 3 objects taken 2 at a time.\n",
    "\n",
    "Consider objects be: $O=\\{ a, b, c \\}$\n",
    "\n",
    "Then objects can be taken as: $\\{ a,b \\} , \\{ a, c\\} , \\{ b, a\\} , \\{ b, c\\}, \\{ c, a\\}, \\{ c, b\\}$ i.e **6 commbinations.**\n",
    "\n",
    "**Or:**\n",
    "$$P(3, 3) = \\frac{3!}{(3-3)!}=\\frac{3!}{0!}=6$$"
   ]
  },
  {
   "cell_type": "code",
   "execution_count": 2,
   "id": "5a05434f",
   "metadata": {},
   "outputs": [
    {
     "name": "stdout",
     "output_type": "stream",
     "text": [
      "Arrangements:  [('a', 'b'), ('a', 'c'), ('b', 'a'), ('b', 'c'), ('c', 'a'), ('c', 'b')]\n",
      "Total arrangement= 6\n"
     ]
    }
   ],
   "source": [
    "x = ['a', 'b', 'c']\n",
    "\n",
    "perm = permutations(x, 2) # this returns a generator\n",
    "\n",
    "l_perm = list(perm)\n",
    "print(\"Arrangements: \",l_perm)\n",
    "\n",
    "print(\"Total arrangement=\", len(l_perm))"
   ]
  },
  {
   "cell_type": "markdown",
   "id": "909157cf",
   "metadata": {},
   "source": [
    "**Example 2:**\n",
    "In how many ways can four boys and three girls can be seated in a row containing seven seats.\n",
    "\n",
    "- a. If they may seat anywhere. \n",
    "- b. If boys and girls must alternate.\n",
    "- c. If all three girls are together."
   ]
  },
  {
   "cell_type": "markdown",
   "id": "3e2b397f",
   "metadata": {},
   "source": [
    "**Ans: a**\n",
    "- If they may seat anywhere there are 7 persons and 7 seats.\n",
    "- Thus 7 seats can be occupied by 7 persons as: $P(7, 7)$\n",
    "\n",
    "$$P(7,7)=\\frac{7!}{(7-7)!}$$\n",
    "$$=\\frac{7!}{0!}$$\n",
    "$$=7!=7 \\times 6 \\times 5 \\times 4 \\times 3 \\times 2 \\times 1 = 5040$$"
   ]
  },
  {
   "cell_type": "code",
   "execution_count": 3,
   "id": "fc1763c2",
   "metadata": {},
   "outputs": [
    {
     "name": "stdout",
     "output_type": "stream",
     "text": [
      "5040\n"
     ]
    }
   ],
   "source": [
    "x = ['b1', 'b2', 'b3', 'b4', 'g1', 'g2', 'g3']\n",
    "print(len(list(permutations(x, 7))))"
   ]
  },
  {
   "cell_type": "markdown",
   "id": "e93b2292",
   "metadata": {},
   "source": [
    "**Ans: b**\n",
    "- If boys and girls sit alternatively.\n",
    "- 4 boys seat in 4 seats. $=P(4, 4)$\n",
    "- 3 girls seat in 3 seats. $=P(3, 3)$\n",
    "\n",
    "- Thus **total arrangement** $=P(3,3) \\times P(3,3) = 24 \\times 6=144$"
   ]
  },
  {
   "cell_type": "code",
   "execution_count": 4,
   "id": "b33855d9",
   "metadata": {},
   "outputs": [
    {
     "name": "stdout",
     "output_type": "stream",
     "text": [
      "Total no of arrangements: 144\n"
     ]
    }
   ],
   "source": [
    "boys = ['b1', 'b2', 'b3', 'b4']\n",
    "girls = ['g1', 'g2', 'g3']\n",
    "\n",
    "four_boy_in_four_seat = list(permutations(boys, 4))\n",
    "\n",
    "three_gitrs_in_three_seats = list(permutations(girls, 3))\n",
    "\n",
    "print(\"Total no of arrangements:\", len(four_boy_in_four_seat)*len(three_gitrs_in_three_seats))"
   ]
  },
  {
   "cell_type": "markdown",
   "id": "12fc2cec",
   "metadata": {},
   "source": [
    "**Ans: C**\n",
    "- If three girls are together.\n",
    "- Considering **3 girls as a single object.** Then n=1(3 girls as single obj) + 4(boys) = 5\n",
    "- Those **5 objects can be arragned as:** $P(5, 5) = 5! = 120$\n",
    "- Then **3 girls can be arranged as:** $P(3, 3) = 3!= 6$\n",
    "- Thus, **Total no of arrangement=** $P(5,5) \\times P(3,3) = 720$"
   ]
  },
  {
   "cell_type": "code",
   "execution_count": 5,
   "id": "8d052d71",
   "metadata": {},
   "outputs": [
    {
     "name": "stdout",
     "output_type": "stream",
     "text": [
      "No of arrangements= 720\n"
     ]
    }
   ],
   "source": [
    "boys = ['b1', 'b2', 'b3', 'b4']\n",
    "girls = ['g1', 'g2', 'g3']\n",
    "\n",
    "res_arr_3_girls_1_obj = boys.copy()\n",
    "res_arr_3_girls_1_obj.append(girls)\n",
    "\n",
    "n_res_arr_3_girls_1_obj = len(list(permutations(res_arr_3_girls_1_obj)))\n",
    "\n",
    "n_arr_3_girls = len(list(permutations(girls)))\n",
    "\n",
    "print(\"No of arrangements=\", n_res_arr_3_girls_1_obj * n_arr_3_girls)"
   ]
  }
 ],
 "metadata": {
  "kernelspec": {
   "display_name": "Python 3",
   "language": "python",
   "name": "python3"
  },
  "language_info": {
   "codemirror_mode": {
    "name": "ipython",
    "version": 3
   },
   "file_extension": ".py",
   "mimetype": "text/x-python",
   "name": "python",
   "nbconvert_exporter": "python",
   "pygments_lexer": "ipython3",
   "version": "3.8.8"
  }
 },
 "nbformat": 4,
 "nbformat_minor": 5
}
