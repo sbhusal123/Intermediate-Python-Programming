{
 "cells": [
  {
   "cell_type": "markdown",
   "id": "0abae9ed",
   "metadata": {},
   "source": [
    "# Itertools: Product\n",
    "- Used to compute the cartesian product"
   ]
  },
  {
   "cell_type": "code",
   "execution_count": 1,
   "id": "3eac2f55",
   "metadata": {},
   "outputs": [],
   "source": [
    "from itertools import product"
   ]
  },
  {
   "cell_type": "markdown",
   "id": "77f0f4af",
   "metadata": {},
   "source": [
    "**i. Usage**\n",
    "- ``product(iterables, repeat=n)``\n",
    "- Returns a generator whose next element can be accessed by ``next(<generator>)``"
   ]
  },
  {
   "cell_type": "code",
   "execution_count": 2,
   "id": "e92804b8",
   "metadata": {},
   "outputs": [
    {
     "data": {
      "text/plain": [
       "<itertools.product at 0x7fb7d81820c0>"
      ]
     },
     "execution_count": 2,
     "metadata": {},
     "output_type": "execute_result"
    }
   ],
   "source": [
    "x = [1, 2, 3]\n",
    "y = [1, 2, 3]\n",
    "\n",
    "prod = product(x, y) \n",
    "\n",
    "prod # returns an generator"
   ]
  },
  {
   "cell_type": "markdown",
   "id": "632c1431",
   "metadata": {},
   "source": [
    "**ii. Accessing Items**\n",
    "- Next element accessed using: ``next(<iteratables>)``.\n",
    "- As a list: ``list(<iteratables>)``"
   ]
  },
  {
   "cell_type": "code",
   "execution_count": 3,
   "id": "24a43d6a",
   "metadata": {},
   "outputs": [
    {
     "name": "stdout",
     "output_type": "stream",
     "text": [
      "Result as a list:\n",
      "[(1, 1), (1, 2), (1, 3), (2, 1), (2, 2), (2, 3), (3, 1), (3, 2), (3, 3)]\n"
     ]
    }
   ],
   "source": [
    "# print(\"Accessing iteratables:\")\n",
    "# print(next(prod))\n",
    "# print(next(prod))\n",
    "\n",
    "print(\"Result as a list:\")\n",
    "print(list(prod))"
   ]
  },
  {
   "cell_type": "markdown",
   "id": "40b741d3",
   "metadata": {},
   "source": [
    "**iii. Repeating**"
   ]
  },
  {
   "cell_type": "code",
   "execution_count": 4,
   "id": "7b1c8b98",
   "metadata": {},
   "outputs": [
    {
     "data": {
      "text/plain": [
       "[(1, 1, 1, 1),\n",
       " (1, 1, 1, 2),\n",
       " (1, 1, 1, 3),\n",
       " (1, 2, 1, 1),\n",
       " (1, 2, 1, 2),\n",
       " (1, 2, 1, 3),\n",
       " (1, 3, 1, 1),\n",
       " (1, 3, 1, 2),\n",
       " (1, 3, 1, 3)]"
      ]
     },
     "execution_count": 4,
     "metadata": {},
     "output_type": "execute_result"
    }
   ],
   "source": [
    "x = [1]\n",
    "y = [1, 2, 3]\n",
    "\n",
    "prod = product(x, y, repeat=2)\n",
    "\n",
    "l_prod = list(prod)\n",
    "\n",
    "l_prod"
   ]
  },
  {
   "cell_type": "markdown",
   "id": "d6ba6e20",
   "metadata": {},
   "source": [
    "**Calculating repeat = n**\n",
    "- Example with repeat=2"
   ]
  },
  {
   "cell_type": "markdown",
   "id": "02d60523",
   "metadata": {},
   "source": [
    "**With n=1**\n",
    "$$x=\\{1\\}$$\n",
    "$$y=\\{1, 2, 3\\}$$"
   ]
  },
  {
   "cell_type": "markdown",
   "id": "4af2fd23",
   "metadata": {},
   "source": [
    "$$x \\times y = \\{1\\} \\times \\{1, 2, 3\\}$$\n",
    "$$=\\{ (1, 1), (1, 2), (1, 3)\\}$$\n",
    "\n",
    "**Cardinality:**\n",
    "$n(x \\times y) = n(x) \\times n(y)$"
   ]
  },
  {
   "cell_type": "markdown",
   "id": "4d918ba3",
   "metadata": {},
   "source": [
    "**With n=2**\n",
    "\n",
    "$$(x \\times y) \\times (x \\times y) = \\{ (1, 1), (1, 2), (1, 3)\\} \\times \\{ (1, 1), (1, 2), (1, 3)\\}$$"
   ]
  },
  {
   "cell_type": "markdown",
   "id": "695abae4",
   "metadata": {},
   "source": [
    "$$\\{ (1, 1, 1, 1), (1, 1, 1, 2), (1, 1, 1, 3), (1, 2, 1, 1), (1, 2, 1, 2), (1, 2, 1, 3), (1, 3, 1, 1), (1, 3, 1, 2), (1, 3, 1, 3) \\}$$\n",
    "\n",
    "**Cardinality:**\n",
    "$n(x \\times y)_{repeat=2}=n(x \\times y) \\times n(x \\times y)$"
   ]
  }
 ],
 "metadata": {
  "kernelspec": {
   "display_name": "Python 3",
   "language": "python",
   "name": "python3"
  },
  "language_info": {
   "codemirror_mode": {
    "name": "ipython",
    "version": 3
   },
   "file_extension": ".py",
   "mimetype": "text/x-python",
   "name": "python",
   "nbconvert_exporter": "python",
   "pygments_lexer": "ipython3",
   "version": "3.8.8"
  }
 },
 "nbformat": 4,
 "nbformat_minor": 5
}
