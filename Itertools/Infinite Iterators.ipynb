{
 "cells": [
  {
   "cell_type": "markdown",
   "id": "c8ae5a6d",
   "metadata": {},
   "source": [
    "# Infinite Iterators\n",
    "- Iterates infinitely if stopping stopping criteria not mentioned.\n",
    "- count, cycle, repeat"
   ]
  },
  {
   "cell_type": "code",
   "execution_count": 1,
   "id": "1e6602a2",
   "metadata": {},
   "outputs": [],
   "source": [
    "from itertools import count, cycle, repeat"
   ]
  },
  {
   "cell_type": "markdown",
   "id": "add13e8c",
   "metadata": {},
   "source": [
    "# 1. Count\n",
    "- An iterator that returns evenly spaced values starting with number start\n",
    "- **Usage:** ``count(start=<int>, step=<int>)``\n",
    "- Default step=1."
   ]
  },
  {
   "cell_type": "code",
   "execution_count": 2,
   "id": "37b2226d",
   "metadata": {},
   "outputs": [
    {
     "name": "stdout",
     "output_type": "stream",
     "text": [
      "10\n",
      "11\n",
      "12\n",
      "13\n",
      "14\n",
      "15\n"
     ]
    }
   ],
   "source": [
    "for i in count(10): # with no step\n",
    "    print(i)\n",
    "    \n",
    "    # Stopping condition\n",
    "    if i >= 15:\n",
    "        break"
   ]
  },
  {
   "cell_type": "code",
   "execution_count": 3,
   "id": "be7e06ad",
   "metadata": {},
   "outputs": [
    {
     "name": "stdout",
     "output_type": "stream",
     "text": [
      "10\n",
      "15\n",
      "20\n",
      "25\n",
      "30\n",
      "35\n"
     ]
    }
   ],
   "source": [
    "for i in count(10, 5): # with step=5\n",
    "    print(i)\n",
    "    \n",
    "    # Stopping condition\n",
    "    if i >= 31:\n",
    "        break"
   ]
  },
  {
   "cell_type": "markdown",
   "id": "10b6ddc0",
   "metadata": {},
   "source": [
    "# 2. Cycle\n",
    "- Cycles through elements of iterator infinitely.\n",
    "- **Usage:** ``cycle(<iterator>)``"
   ]
  },
  {
   "cell_type": "code",
   "execution_count": 4,
   "id": "0ec53439",
   "metadata": {},
   "outputs": [
    {
     "name": "stdout",
     "output_type": "stream",
     "text": [
      "a\n",
      "b\n",
      "c\n",
      "a\n",
      "b\n",
      "c\n"
     ]
    }
   ],
   "source": [
    "x = ['a', 'b', 'c']\n",
    "\n",
    "result = []\n",
    "\n",
    "for item in cycle(x):\n",
    "    print(item)\n",
    "    result.append(item)\n",
    "    \n",
    "    #  Stopping condition\n",
    "    if result.count('c') >= 2:\n",
    "        break\n",
    "        "
   ]
  },
  {
   "cell_type": "markdown",
   "id": "e18936fb",
   "metadata": {},
   "source": [
    "# 3. Repeat\n",
    "- an iterator that returns object over and over again if times argument is not specified.\n",
    "- **Usage:** ``repeat(object, times=<int>)``"
   ]
  },
  {
   "cell_type": "code",
   "execution_count": 5,
   "id": "b15b4fdb",
   "metadata": {},
   "outputs": [
    {
     "name": "stdout",
     "output_type": "stream",
     "text": [
      "1\n",
      "1\n",
      "1\n",
      "1\n",
      "1\n"
     ]
    }
   ],
   "source": [
    "r = []\n",
    "for i in repeat(1):\n",
    "    print(i)\n",
    "    r.append(i)\n",
    "    if sum(r) >=5:\n",
    "        break\n"
   ]
  },
  {
   "cell_type": "code",
   "execution_count": 6,
   "id": "15b5d16c",
   "metadata": {},
   "outputs": [
    {
     "name": "stdout",
     "output_type": "stream",
     "text": [
      "5\n",
      "5\n"
     ]
    }
   ],
   "source": [
    "# With times=2\n",
    "for i in repeat(5, 2):\n",
    "    print(i)"
   ]
  },
  {
   "cell_type": "code",
   "execution_count": 7,
   "id": "0d11a856",
   "metadata": {},
   "outputs": [
    {
     "data": {
      "text/plain": [
       "[0, 1, 4, 9, 16, 25, 36, 49, 64, 81]"
      ]
     },
     "execution_count": 7,
     "metadata": {},
     "output_type": "execute_result"
    }
   ],
   "source": [
    "# pow([0-10], [2....])\n",
    "list(map(pow, range(10), repeat(2)))"
   ]
  }
 ],
 "metadata": {
  "kernelspec": {
   "display_name": "Python 3",
   "language": "python",
   "name": "python3"
  },
  "language_info": {
   "codemirror_mode": {
    "name": "ipython",
    "version": 3
   },
   "file_extension": ".py",
   "mimetype": "text/x-python",
   "name": "python",
   "nbconvert_exporter": "python",
   "pygments_lexer": "ipython3",
   "version": "3.8.8"
  }
 },
 "nbformat": 4,
 "nbformat_minor": 5
}
