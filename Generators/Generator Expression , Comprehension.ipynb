{
 "cells": [
  {
   "cell_type": "markdown",
   "id": "e63f9fbf",
   "metadata": {},
   "source": [
    "# Generator Expression, Comprehension\n",
    "- Similar to list comprehension\n",
    "- Written inside `()` brackets."
   ]
  },
  {
   "cell_type": "code",
   "execution_count": 1,
   "id": "6705c4ce",
   "metadata": {},
   "outputs": [],
   "source": [
    "even_n = (i for i in range(0,10) if i % 2 ==0)"
   ]
  },
  {
   "cell_type": "code",
   "execution_count": 2,
   "id": "0512c6fc",
   "metadata": {},
   "outputs": [
    {
     "data": {
      "text/plain": [
       "(0, 2, 4, 6)"
      ]
     },
     "execution_count": 2,
     "metadata": {},
     "output_type": "execute_result"
    }
   ],
   "source": [
    "next(even_n), next(even_n), next(even_n), next(even_n)"
   ]
  },
  {
   "cell_type": "code",
   "execution_count": 3,
   "id": "a7b42201",
   "metadata": {},
   "outputs": [
    {
     "data": {
      "text/plain": [
       "[0, 2, 4, 6, 8]"
      ]
     },
     "execution_count": 3,
     "metadata": {},
     "output_type": "execute_result"
    }
   ],
   "source": [
    "even_n = (i for i in range(0,10) if i % 2 ==0)\n",
    "list(even_n)"
   ]
  }
 ],
 "metadata": {
  "kernelspec": {
   "display_name": "Python 3",
   "language": "python",
   "name": "python3"
  },
  "language_info": {
   "codemirror_mode": {
    "name": "ipython",
    "version": 3
   },
   "file_extension": ".py",
   "mimetype": "text/x-python",
   "name": "python",
   "nbconvert_exporter": "python",
   "pygments_lexer": "ipython3",
   "version": "3.8.8"
  }
 },
 "nbformat": 4,
 "nbformat_minor": 5
}
