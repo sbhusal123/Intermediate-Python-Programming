{
 "cells": [
  {
   "cell_type": "markdown",
   "id": "f3371929",
   "metadata": {},
   "source": [
    "# Generators\n",
    "- Allows to declare a function that behaves like an iterator, i.e. it can be used in a for loop.\n",
    "- Instead of returning the iteratable (collection, sequence) returns current element when called with next(..).\n",
    "- Does so by yielding the next value. \n",
    "- Saves a memory when working with large data.\n",
    "- Next statement is not called untill next is called. Basically context is saved and executed after."
   ]
  },
  {
   "cell_type": "markdown",
   "id": "a12831b1",
   "metadata": {},
   "source": [
    "**Example**"
   ]
  },
  {
   "cell_type": "code",
   "execution_count": 1,
   "id": "d128e395",
   "metadata": {},
   "outputs": [],
   "source": [
    "def count_to_10():\n",
    "    for i in range(11):\n",
    "        yield i"
   ]
  },
  {
   "cell_type": "code",
   "execution_count": 2,
   "id": "b33d6121",
   "metadata": {},
   "outputs": [
    {
     "data": {
      "text/plain": [
       "function"
      ]
     },
     "execution_count": 2,
     "metadata": {},
     "output_type": "execute_result"
    }
   ],
   "source": [
    "type(count_to_10)"
   ]
  },
  {
   "cell_type": "code",
   "execution_count": 3,
   "id": "e9fead39",
   "metadata": {},
   "outputs": [
    {
     "data": {
      "text/plain": [
       "<generator object count_to_10 at 0x7fbea4570a50>"
      ]
     },
     "execution_count": 3,
     "metadata": {},
     "output_type": "execute_result"
    }
   ],
   "source": [
    "count_to_10()"
   ]
  },
  {
   "cell_type": "markdown",
   "id": "f7e7ae52",
   "metadata": {},
   "source": [
    "> Returns a generator object."
   ]
  },
  {
   "cell_type": "code",
   "execution_count": 4,
   "id": "9857caeb",
   "metadata": {},
   "outputs": [
    {
     "data": {
      "text/plain": [
       "(0, 1, 2)"
      ]
     },
     "execution_count": 4,
     "metadata": {},
     "output_type": "execute_result"
    }
   ],
   "source": [
    "c = count_to_10()\n",
    "next(c), next(c), next(c)"
   ]
  },
  {
   "cell_type": "markdown",
   "id": "56baee58",
   "metadata": {},
   "source": [
    "**Accessing all elements at once:**"
   ]
  },
  {
   "cell_type": "code",
   "execution_count": 5,
   "id": "98089bfe",
   "metadata": {},
   "outputs": [
    {
     "data": {
      "text/plain": [
       "[0, 1, 2, 3, 4, 5, 6, 7, 8, 9, 10]"
      ]
     },
     "execution_count": 5,
     "metadata": {},
     "output_type": "execute_result"
    }
   ],
   "source": [
    "c = count_to_10()\n",
    "list(c)"
   ]
  },
  {
   "cell_type": "markdown",
   "id": "f7d91510",
   "metadata": {},
   "source": [
    "**Example:**"
   ]
  },
  {
   "cell_type": "code",
   "execution_count": 6,
   "id": "a2203713",
   "metadata": {},
   "outputs": [],
   "source": [
    "def fib(n):\n",
    "    a, b = 0, 1\n",
    "    while a < n:\n",
    "        yield a\n",
    "        a,b = b, a+b"
   ]
  },
  {
   "cell_type": "code",
   "execution_count": 7,
   "id": "5bae4006",
   "metadata": {},
   "outputs": [
    {
     "data": {
      "text/plain": [
       "(0, 1, 1, 2, 3)"
      ]
     },
     "execution_count": 7,
     "metadata": {},
     "output_type": "execute_result"
    }
   ],
   "source": [
    "f = fib(5)\n",
    "next(f), next(f), next(f), next(f), next(f)"
   ]
  }
 ],
 "metadata": {
  "kernelspec": {
   "display_name": "Python 3",
   "language": "python",
   "name": "python3"
  },
  "language_info": {
   "codemirror_mode": {
    "name": "ipython",
    "version": 3
   },
   "file_extension": ".py",
   "mimetype": "text/x-python",
   "name": "python",
   "nbconvert_exporter": "python",
   "pygments_lexer": "ipython3",
   "version": "3.8.8"
  }
 },
 "nbformat": 4,
 "nbformat_minor": 5
}
