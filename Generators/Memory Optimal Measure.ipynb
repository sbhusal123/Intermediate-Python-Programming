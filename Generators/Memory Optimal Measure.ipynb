{
 "cells": [
  {
   "cell_type": "markdown",
   "id": "b990caab",
   "metadata": {},
   "source": [
    "# Demo Example illustrating Memory Optimization "
   ]
  },
  {
   "cell_type": "markdown",
   "id": "d3ebc831",
   "metadata": {},
   "source": [
    "**Without using generator:**"
   ]
  },
  {
   "cell_type": "code",
   "execution_count": 9,
   "id": "9346f323",
   "metadata": {},
   "outputs": [],
   "source": [
    "def firstn(n):\n",
    "    itm = []\n",
    "    for i in range(n):\n",
    "       itm.append(i)\n",
    "    return itm"
   ]
  },
  {
   "cell_type": "markdown",
   "id": "aa7605b4",
   "metadata": {},
   "source": [
    "**Using Generators:**"
   ]
  },
  {
   "cell_type": "code",
   "execution_count": 10,
   "id": "525c5e48",
   "metadata": {},
   "outputs": [],
   "source": [
    "def firstn_generator(n):\n",
    "    for i in range(n):\n",
    "        yield i"
   ]
  },
  {
   "cell_type": "markdown",
   "id": "0e6d37e9",
   "metadata": {},
   "source": [
    "**Measure of memory usage:**"
   ]
  },
  {
   "cell_type": "code",
   "execution_count": 7,
   "id": "9a9060d9",
   "metadata": {},
   "outputs": [],
   "source": [
    "import sys"
   ]
  },
  {
   "cell_type": "code",
   "execution_count": 14,
   "id": "22167c60",
   "metadata": {},
   "outputs": [
    {
     "name": "stdout",
     "output_type": "stream",
     "text": [
      "Size without generator 9016\n",
      "Size with generator 112\n"
     ]
    }
   ],
   "source": [
    "print(\"Size without generator {s}\".format(s=sys.getsizeof(firstn(1000))))\n",
    "print(\"Size with generator {s}\".format(s=sys.getsizeof(firstn_generator(1000))))"
   ]
  },
  {
   "cell_type": "markdown",
   "id": "a777541d",
   "metadata": {},
   "source": [
    "**Note:** Note that the generator way doesn't returns the whole element of sequence."
   ]
  }
 ],
 "metadata": {
  "kernelspec": {
   "display_name": "Python 3",
   "language": "python",
   "name": "python3"
  },
  "language_info": {
   "codemirror_mode": {
    "name": "ipython",
    "version": 3
   },
   "file_extension": ".py",
   "mimetype": "text/x-python",
   "name": "python",
   "nbconvert_exporter": "python",
   "pygments_lexer": "ipython3",
   "version": "3.8.8"
  }
 },
 "nbformat": 4,
 "nbformat_minor": 5
}
