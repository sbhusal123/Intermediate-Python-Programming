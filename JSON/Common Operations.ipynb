{
 "cells": [
  {
   "cell_type": "markdown",
   "id": "b91038eb",
   "metadata": {},
   "source": [
    "# JSON"
   ]
  },
  {
   "cell_type": "code",
   "execution_count": 1,
   "id": "0810fd88",
   "metadata": {},
   "outputs": [],
   "source": [
    "import json"
   ]
  },
  {
   "cell_type": "markdown",
   "id": "5ae24719",
   "metadata": {},
   "source": [
    "- **json.loads()** -> Loads string\n",
    "- **json.load()** -> Loads object\n",
    "\n",
    "- **json.dumps()** -> Dumps String\n",
    "- **json.dump()** -> Dump object"
   ]
  },
  {
   "cell_type": "markdown",
   "id": "17947655",
   "metadata": {},
   "source": [
    "**i. Dict to JSON**\n",
    "- json.dumps() -> Dumps string"
   ]
  },
  {
   "cell_type": "code",
   "execution_count": 2,
   "id": "3097747d",
   "metadata": {},
   "outputs": [
    {
     "name": "stdout",
     "output_type": "stream",
     "text": [
      "{\"fname\": \"Jane\", \"lname\": \"Doe\", \"age\": 20}\n",
      "<class 'str'>\n"
     ]
    }
   ],
   "source": [
    "d = {\n",
    "    \"fname\": \"Jane\",\n",
    "    \"lname\": \"Doe\",\n",
    "    \"age\": 20,\n",
    "}\n",
    "\n",
    "json_data = json.dumps(d)\n",
    "print(json_data)\n",
    "print(type(json_data))"
   ]
  },
  {
   "cell_type": "markdown",
   "id": "e9200bac",
   "metadata": {},
   "source": [
    "**ii. JSON to Dict**\n",
    "- json.loads() -> Loads String"
   ]
  },
  {
   "cell_type": "code",
   "execution_count": 3,
   "id": "ca7f35c8",
   "metadata": {},
   "outputs": [
    {
     "name": "stdout",
     "output_type": "stream",
     "text": [
      "{'fname': 'Jane', 'lname': 'Doe', 'age': 20}\n",
      "<class 'dict'>\n"
     ]
    }
   ],
   "source": [
    "dict_data = json.loads(json_data)\n",
    "print(dict_data)\n",
    "print(type(dict_data))"
   ]
  },
  {
   "cell_type": "markdown",
   "id": "caacc993",
   "metadata": {},
   "source": [
    "**iii. Formatting**"
   ]
  },
  {
   "cell_type": "code",
   "execution_count": 4,
   "id": "1100516c",
   "metadata": {},
   "outputs": [
    {
     "data": {
      "text/plain": [
       "'{\\n    \"age\": 20,\\n    \"fname\": \"Jane\",\\n    \"lname\": \"Doe\"\\n}'"
      ]
     },
     "execution_count": 4,
     "metadata": {},
     "output_type": "execute_result"
    }
   ],
   "source": [
    "json_data = json.dumps(dict_data, indent=4, sort_keys=True)\n",
    "json_data"
   ]
  },
  {
   "cell_type": "markdown",
   "id": "48bc8e12",
   "metadata": {},
   "source": [
    "**iv. Write JSON data into file**\n",
    "- ``json.dump(<dict>, <file_context>, **kwargs)``"
   ]
  },
  {
   "cell_type": "code",
   "execution_count": 5,
   "id": "2090b384",
   "metadata": {},
   "outputs": [],
   "source": [
    "with open('output_file.json', 'w') as file:\n",
    "    json.dump(dict_data, file, indent=4) #json.dump"
   ]
  },
  {
   "cell_type": "markdown",
   "id": "0a4672e9",
   "metadata": {},
   "source": [
    "**v. Read JSON file**\n",
    "- ``json.load(<file_context>)``"
   ]
  },
  {
   "cell_type": "code",
   "execution_count": 6,
   "id": "8ebf4ea2",
   "metadata": {},
   "outputs": [
    {
     "data": {
      "text/plain": [
       "{'first_name': 'Jane',\n",
       " 'last_name': 'Doe',\n",
       " 'address': 'NSW, Australia',\n",
       " 'orders': {'pan-cake': {'qty': '20', 'unit_cost': '5'},\n",
       "  'vanila-cream': {'qty': '20', 'unit_cost': '5'},\n",
       "  'paid': False}}"
      ]
     },
     "execution_count": 6,
     "metadata": {},
     "output_type": "execute_result"
    }
   ],
   "source": [
    "with open(\"input_file.json\") as file:\n",
    "    f = json.load(file)\n",
    "f"
   ]
  }
 ],
 "metadata": {
  "kernelspec": {
   "display_name": "Python 3",
   "language": "python",
   "name": "python3"
  },
  "language_info": {
   "codemirror_mode": {
    "name": "ipython",
    "version": 3
   },
   "file_extension": ".py",
   "mimetype": "text/x-python",
   "name": "python",
   "nbconvert_exporter": "python",
   "pygments_lexer": "ipython3",
   "version": "3.8.8"
  }
 },
 "nbformat": 4,
 "nbformat_minor": 5
}
