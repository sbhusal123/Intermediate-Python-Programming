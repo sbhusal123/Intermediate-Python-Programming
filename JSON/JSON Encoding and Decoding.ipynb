{
 "cells": [
  {
   "cell_type": "markdown",
   "id": "5d9bf5bc",
   "metadata": {},
   "source": [
    "# Json Encoding and Decoding\n",
    "- **Encoding:** Converts python native data(dict) type into json.\n",
    "- **Decoding:** Converts json data type into python native data type(dict)."
   ]
  },
  {
   "cell_type": "code",
   "execution_count": 1,
   "id": "b151ce44",
   "metadata": {},
   "outputs": [],
   "source": [
    "class Person:\n",
    "    \n",
    "    def __init__(self, fname, lname, age):\n",
    "        if age <=18:\n",
    "            raise ValueError(\"Age must be greater than or equal 18.\")\n",
    "        self.fname = fname\n",
    "        self.lname = lname\n",
    "        self.age = age\n",
    "        \n",
    "    def to_dict(self):\n",
    "        return {\n",
    "            \"fname\": self.fname,\n",
    "            \"lname\": self.lname,\n",
    "            \"age\": self.age\n",
    "        }\n",
    "    \n",
    "    def __repr__(self):\n",
    "        return f\"{self.fname} {self.lname} (age={self.age})\"\n",
    "\n",
    "class Item:\n",
    "    \n",
    "    def __init__(self, item_id, item_name, unit_price):\n",
    "        if unit_price <=0:\n",
    "            raise ValueError(\"Unit price must be greater than zero.\")\n",
    "        \n",
    "        self.item_id = item_id\n",
    "        self.item_name = item_name\n",
    "        self.unit_price = unit_price\n",
    "    \n",
    "    def to_dict(self):\n",
    "        return {\n",
    "            \"item_id\": self.item_id,\n",
    "            \"item_name\": self.item_name,\n",
    "            \"unit_price\": self.unit_price\n",
    "        }\n",
    "        \n",
    "    def __repr__(self):\n",
    "        return f'{self.item_name}(qty={self.qty}, unit_price={self.unit_price})'\n",
    "\n",
    "    \n",
    "class Order:\n",
    "    \n",
    "    def __init__(self, order_id, person):\n",
    "        if not isinstance(person, Person):\n",
    "            raise TypeError(\"Unsupported person assignment.\")\n",
    "        self.order_items = []\n",
    "        self.order_id = order_id\n",
    "        self.person=person\n",
    "        \n",
    "    def add_item(self, item, qty):\n",
    "        if qty <=0:\n",
    "            raise valueError(\"Quantity must greater or equal to 1.\")\n",
    "        if isinstance(item, Item):\n",
    "            self.order_items.append((item, qty))\n",
    "        else:\n",
    "            raise TypeError(\"Unsupported Item addition\")\n",
    "    \n",
    "    def order_item_to_dict(self):\n",
    "        ord_items = []\n",
    "        for item in self.order_items:\n",
    "            ord_items.append(dict(**item[0].to_dict(), qty=item[1]))\n",
    "        return ord_items"
   ]
  },
  {
   "cell_type": "code",
   "execution_count": 2,
   "id": "fb5f775f",
   "metadata": {},
   "outputs": [],
   "source": [
    "ramesh = Person(\"Ramesh\", \"Shrestha\", 20)\n",
    "\n",
    "ramesh_order = Order(2599, ramesh)\n",
    "\n",
    "item1 = Item(101, \"Item1\", 2000)\n",
    "item2 = Item(102, \"Item2\", 5000)\n",
    "\n",
    "ramesh_order.add_item(item1, 2)\n",
    "ramesh_order.add_item(item2, 1)"
   ]
  },
  {
   "cell_type": "markdown",
   "id": "14e15390",
   "metadata": {},
   "source": [
    "# OrderEncoder\n",
    "- Order object to dictionary"
   ]
  },
  {
   "cell_type": "code",
   "execution_count": 3,
   "id": "6f901524",
   "metadata": {},
   "outputs": [],
   "source": [
    "import json\n",
    "\n",
    "class OrderEncoder(json.JSONEncoder):\n",
    "    \n",
    "    def default(self, obj):\n",
    "        if not isinstance(obj, Order):\n",
    "            raise TypeError(\"Incompatible Order Type\")\n",
    "\n",
    "        order_data = {\n",
    "            'id': obj.order_id,\n",
    "            'person': obj.person.to_dict(),\n",
    "            'order_items': obj.order_item_to_dict(),\n",
    "            'type': obj.__class__.__name__\n",
    "        }\n",
    "        \n",
    "        return order_data"
   ]
  },
  {
   "cell_type": "code",
   "execution_count": 4,
   "id": "99b3e02e",
   "metadata": {},
   "outputs": [
    {
     "data": {
      "text/plain": [
       "'{\"id\": 2599, \"person\": {\"fname\": \"Ramesh\", \"lname\": \"Shrestha\", \"age\": 20}, \"order_items\": [{\"item_id\": 101, \"item_name\": \"Item1\", \"unit_price\": 2000, \"qty\": 2}, {\"item_id\": 102, \"item_name\": \"Item2\", \"unit_price\": 5000, \"qty\": 1}], \"type\": \"Order\"}'"
      ]
     },
     "execution_count": 4,
     "metadata": {},
     "output_type": "execute_result"
    }
   ],
   "source": [
    "orderJSON = OrderEncoder().encode(ramesh_order) # json.dumps(ramesh_order, cls=OrderEncoder)\n",
    "orderJSON"
   ]
  },
  {
   "cell_type": "markdown",
   "id": "8def9415",
   "metadata": {},
   "source": [
    "**Write JSON to file**\n",
    "- ``json.dump(<dict>, <fp>, cls=<EncoderClass>, indent=<int>)``"
   ]
  },
  {
   "cell_type": "code",
   "execution_count": 5,
   "id": "b14cc89c",
   "metadata": {},
   "outputs": [],
   "source": [
    "with open('order.json', 'w') as file:\n",
    "    json.dump(ramesh_order, file, cls=OrderEncoder, indent=4)"
   ]
  },
  {
   "cell_type": "markdown",
   "id": "60cb7663",
   "metadata": {},
   "source": [
    "# Order Decoder\n",
    "- Converts Order json data to Order Object."
   ]
  },
  {
   "cell_type": "code",
   "execution_count": 6,
   "id": "64be58ad",
   "metadata": {},
   "outputs": [],
   "source": [
    "def json_to_order_obj(obj):\n",
    "    \"\"\":\n",
    "       @params: \n",
    "           type<obj> : dict\n",
    "    \"\"\"\n",
    "    if obj['type'] != \"Order\":\n",
    "        raise TypeError(\"Invalid object. Please esure the json type corresponds to Order object.\")\n",
    "    \n",
    "    \n",
    "    person = Person(obj['person']['fname'], obj['person']['lname'], obj['person']['age'])\n",
    "    order_id = obj['id']\n",
    "    order = Order(order_id, person)\n",
    "    \n",
    "    order_item = []\n",
    "    \n",
    "    for item in obj['order_items']:\n",
    "        item_obj = Item(item['item_id'], item['item_name'], item['unit_price'])\n",
    "        qty = item['qty']\n",
    "        order.add_item(item_obj, qty)\n",
    "    \n",
    "    \n",
    "    return order"
   ]
  },
  {
   "cell_type": "code",
   "execution_count": 12,
   "id": "d4dacafa",
   "metadata": {},
   "outputs": [],
   "source": [
    "with open('order.json') as fp:\n",
    "    order = json_to_order_obj(json.load(fp))"
   ]
  }
 ],
 "metadata": {
  "kernelspec": {
   "display_name": "Python 3",
   "language": "python",
   "name": "python3"
  },
  "language_info": {
   "codemirror_mode": {
    "name": "ipython",
    "version": 3
   },
   "file_extension": ".py",
   "mimetype": "text/x-python",
   "name": "python",
   "nbconvert_exporter": "python",
   "pygments_lexer": "ipython3",
   "version": "3.8.8"
  }
 },
 "nbformat": 4,
 "nbformat_minor": 5
}
