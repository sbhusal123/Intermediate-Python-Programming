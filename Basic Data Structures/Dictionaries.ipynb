{
 "cells": [
  {
   "cell_type": "markdown",
   "id": "576e3e03",
   "metadata": {},
   "source": [
    "# Dictionary \n",
    "- Mutable\n",
    "- Unordered\n",
    "- Collection of key value paris"
   ]
  },
  {
   "cell_type": "markdown",
   "id": "ea60d101",
   "metadata": {},
   "source": [
    "# Basic Operations"
   ]
  },
  {
   "cell_type": "markdown",
   "id": "f2352c17",
   "metadata": {},
   "source": [
    "**i. Creation / Inititlization**\n",
    "- With curley braces, each item(key and value separated by columns) separated by comma.\n",
    "- With dict(key1=value1, key2=value2, ...)"
   ]
  },
  {
   "cell_type": "code",
   "execution_count": 1,
   "id": "408b38bb",
   "metadata": {},
   "outputs": [
    {
     "name": "stdout",
     "output_type": "stream",
     "text": [
      "{'key1': 'value1', 'key2': 'value2'}\n",
      "{'name': 'key2', 'age': 'value2'}\n"
     ]
    }
   ],
   "source": [
    "d1 = {\"key1\": \"value1\", \"key2\": \"value2\"}\n",
    "print(d1)\n",
    "\n",
    "d2 = dict(name=\"key2\", age=\"value2\")\n",
    "print(d2)\n",
    "\n",
    "d3 = {} # empty initialization"
   ]
  },
  {
   "cell_type": "markdown",
   "id": "e95e9ef3",
   "metadata": {},
   "source": [
    "**ii. Accessing Values**\n",
    "- dict[key]"
   ]
  },
  {
   "cell_type": "code",
   "execution_count": 2,
   "id": "08e7211e",
   "metadata": {},
   "outputs": [
    {
     "data": {
      "text/plain": [
       "'Max'"
      ]
     },
     "execution_count": 2,
     "metadata": {},
     "output_type": "execute_result"
    }
   ],
   "source": [
    "dd = {\"name\": \"Max\", \"age\": 30}\n",
    "\n",
    "dd[\"name\"]"
   ]
  },
  {
   "cell_type": "markdown",
   "id": "eb72f408",
   "metadata": {},
   "source": [
    "**iii. Adding Key Val**\n",
    "- dict[\"key\"] = value\n",
    "- If key already exists => value gets updated."
   ]
  },
  {
   "cell_type": "code",
   "execution_count": 3,
   "id": "1eb93ce2",
   "metadata": {},
   "outputs": [
    {
     "name": "stdout",
     "output_type": "stream",
     "text": [
      "{'name': 'Ramesh', 'age': 40, 'email': 'ramesh@example.com'}\n"
     ]
    }
   ],
   "source": [
    "dd = {\"name\": \"Ramesh\", \"age\": 30}\n",
    "\n",
    "dd[\"email\"] = \"ramesh@example.com\"\n",
    "\n",
    "dd[\"age\"] = 40 # updated\n",
    "\n",
    "print(dd)"
   ]
  },
  {
   "cell_type": "markdown",
   "id": "2cea6e8e",
   "metadata": {},
   "source": [
    "**iv. Deletion**\n",
    "- del dict[\"key\"]\n",
    "- dict.pop(\"key\") -> Inplace\n",
    "- dict.popitem() removes last item -> Inplace"
   ]
  },
  {
   "cell_type": "code",
   "execution_count": 4,
   "id": "9406c41a",
   "metadata": {},
   "outputs": [
    {
     "name": "stdout",
     "output_type": "stream",
     "text": [
      "{'age': 55, 'author': 'Book1', 'address': 'Address'}\n",
      "Book1\n",
      "('address', 'Address')\n",
      "{'age': 55}\n"
     ]
    }
   ],
   "source": [
    "dd = {\"name\": \"Harry\", \"age\": 55, \"author\": \"Book1\", \"address\": \"Address\"}\n",
    "\n",
    "del dd[\"name\"] # removes a key name along with it's value\n",
    "print(dd)\n",
    "\n",
    "popped = dd.pop(\"author\") # pops out and returns the key author\n",
    "print(popped)\n",
    "\n",
    "popped = dd.popitem() # pops out and returns the last item\n",
    "print(popped) # remaining key vals as a tuple\n",
    "\n",
    "print(dd)"
   ]
  },
  {
   "cell_type": "markdown",
   "id": "eab075a5",
   "metadata": {},
   "source": [
    "**vi. Get keys and items:**\n",
    "- Keys: dict.keys()\n",
    "- Values: dict.values()\n",
    "- Return type is a List."
   ]
  },
  {
   "cell_type": "code",
   "execution_count": 5,
   "id": "8b294721",
   "metadata": {},
   "outputs": [
    {
     "name": "stdout",
     "output_type": "stream",
     "text": [
      "dict_keys(['key1', 'key2', 'key3'])\n",
      "dict_values(['val1', 'val2', 'val3'])\n"
     ]
    }
   ],
   "source": [
    "x = {\"key1\": \"val1\", \"key2\": \"val2\", \"key3\": \"val3\"}\n",
    "\n",
    "print(x.keys())\n",
    "print(x.values())"
   ]
  },
  {
   "cell_type": "markdown",
   "id": "1c080cdd",
   "metadata": {},
   "source": [
    "**v. Checking keys, items:**\n",
    "- Check for keys:  \"key\" in dict.keys() \n",
    "- Check for :  \"key\" in dict.keys()"
   ]
  },
  {
   "cell_type": "code",
   "execution_count": 6,
   "id": "d4e4ff6c",
   "metadata": {},
   "outputs": [
    {
     "name": "stdout",
     "output_type": "stream",
     "text": [
      "True\n",
      "True\n"
     ]
    }
   ],
   "source": [
    "x = {\"name\": \"ramesh\", \"age\": 30}\n",
    "\n",
    "key_name_exists = \"name\" in x.keys()\n",
    "print(key_name_exists)\n",
    "\n",
    "value_30_exists = 30 in x.values()\n",
    "print(value_30_exists)"
   ]
  },
  {
   "cell_type": "markdown",
   "id": "a1a5b494",
   "metadata": {},
   "source": [
    "**vi. Copying**\n",
    "- **Caveat:** When reassigned, points to same memory location.\n",
    "- dict_cpy = dict.copy() or \n",
    "- dict_cpy = dict(my_dict)"
   ]
  },
  {
   "cell_type": "code",
   "execution_count": 7,
   "id": "2f0735e0",
   "metadata": {},
   "outputs": [
    {
     "name": "stdout",
     "output_type": "stream",
     "text": [
      "{'a': 1, 'b': 2, 'c': 3}\n"
     ]
    }
   ],
   "source": [
    "x = {\"a\": 1, \"b\": 2, \"c\": 3}\n",
    "\n",
    "x_cpy = x.copy()\n",
    "\n",
    "x_cpy[\"d\"] = 4 # add an item to copy\n",
    "\n",
    "# Original gets unmodified\n",
    "print(x)"
   ]
  },
  {
   "cell_type": "markdown",
   "id": "d2b5110d",
   "metadata": {},
   "source": [
    "**vii. Update, Merge two dict**\n",
    "- Update: dict1.update(dict2) , dict1 gets updated \n",
    "- Merge: {** dict1, ** dict2}"
   ]
  },
  {
   "cell_type": "code",
   "execution_count": 8,
   "id": "9b7e3ada",
   "metadata": {},
   "outputs": [
    {
     "name": "stdout",
     "output_type": "stream",
     "text": [
      "{'a': 5, 'b': 2, 'c': 3, 'd': 4}\n",
      "{'a': 5, 'b': 2, 'c': 3, 'd': 4}\n"
     ]
    }
   ],
   "source": [
    "d1 = {\"a\": 1, \"b\": 2}\n",
    "d2 = {\"c\": 3, \"d\": 4, \"a\": 5}\n",
    "\n",
    "d1.update(d2) # update dict 1\n",
    "print(d1)\n",
    "\n",
    "combined = {**d1, **d2} # combines dict 1 and dict 2\n",
    "print(combined)"
   ]
  },
  {
   "cell_type": "markdown",
   "id": "af4c4bd6",
   "metadata": {},
   "source": [
    "**viii. Sub Type Creation**\n",
    "- Tuple as a key: x = (1, 2), dd[x] = values\n",
    "- However lists cannot be used as a key cause the key is mutable.\n",
    "- Mutable types cannot be used as a key."
   ]
  },
  {
   "cell_type": "code",
   "execution_count": 9,
   "id": "de5554f1",
   "metadata": {},
   "outputs": [
    {
     "name": "stdout",
     "output_type": "stream",
     "text": [
      "{(1, 2): 3}\n"
     ]
    }
   ],
   "source": [
    "# As a tuple\n",
    "t_key = (1, 2)\n",
    "d_sum = {t_key: 3}\n",
    "print(d_sum)"
   ]
  },
  {
   "cell_type": "markdown",
   "id": "576b3a01",
   "metadata": {},
   "source": [
    "# Common Exceptions"
   ]
  },
  {
   "cell_type": "markdown",
   "id": "9cf38ca3",
   "metadata": {},
   "source": [
    "**i. KeyError**\n",
    "- Occurs when trying to access non existing key."
   ]
  },
  {
   "cell_type": "code",
   "execution_count": 10,
   "id": "e46789f1",
   "metadata": {},
   "outputs": [
    {
     "name": "stdout",
     "output_type": "stream",
     "text": [
      "<class 'KeyError'>\n"
     ]
    }
   ],
   "source": [
    "x = {\"name\": \"Max\", \"age\": 30}\n",
    "\n",
    "try:\n",
    "    x[\"last_name\"]\n",
    "except Exception as e:\n",
    "    print(e.__class__)"
   ]
  },
  {
   "cell_type": "markdown",
   "id": "1944d2b9",
   "metadata": {},
   "source": [
    "**ii. TypeError**\n",
    "- When key is of unhashable type. / List"
   ]
  },
  {
   "cell_type": "code",
   "execution_count": 11,
   "id": "7aa7356b",
   "metadata": {},
   "outputs": [
    {
     "name": "stdout",
     "output_type": "stream",
     "text": [
      "<class 'TypeError'>\n"
     ]
    }
   ],
   "source": [
    "# As a list -> Exception: TypeError\n",
    "l_key = [1, 2]\n",
    "\n",
    "try:\n",
    "    d_sum = {l_key: 3}\n",
    "except Exception as e:\n",
    "    print(e.__class__)"
   ]
  }
 ],
 "metadata": {
  "kernelspec": {
   "display_name": "Python 3",
   "language": "python",
   "name": "python3"
  },
  "language_info": {
   "codemirror_mode": {
    "name": "ipython",
    "version": 3
   },
   "file_extension": ".py",
   "mimetype": "text/x-python",
   "name": "python",
   "nbconvert_exporter": "python",
   "pygments_lexer": "ipython3",
   "version": "3.8.8"
  }
 },
 "nbformat": 4,
 "nbformat_minor": 5
}
