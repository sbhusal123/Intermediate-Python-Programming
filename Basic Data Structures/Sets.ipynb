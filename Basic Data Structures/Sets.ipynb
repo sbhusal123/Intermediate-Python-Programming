{
 "cells": [
  {
   "cell_type": "markdown",
   "id": "bf16ea96",
   "metadata": {},
   "source": [
    "# Sets\n",
    "- Unordered\n",
    "- Mutable\n",
    "- No Duplicate Elements"
   ]
  },
  {
   "cell_type": "markdown",
   "id": "404b90de",
   "metadata": {},
   "source": [
    "- **Doesn't allows indexing: TypeError**\n",
    "- **Frozenset:** Immutable version of set."
   ]
  },
  {
   "cell_type": "markdown",
   "id": "efd36a98",
   "metadata": {},
   "source": [
    "# Common Operations"
   ]
  },
  {
   "cell_type": "markdown",
   "id": "8497c482",
   "metadata": {},
   "source": [
    "**i. Initialization / Creation**\n",
    "- Elements inside curley braces {}.\n",
    "- With iteratalbles: set([i1, i2])"
   ]
  },
  {
   "cell_type": "code",
   "execution_count": 1,
   "id": "5842a427",
   "metadata": {
    "scrolled": true
   },
   "outputs": [
    {
     "name": "stdout",
     "output_type": "stream",
     "text": [
      "{1, 2, 3}\n",
      "{1, 2, 3, 4}\n"
     ]
    }
   ],
   "source": [
    "s1 = {1, 2, 1, 1, 2, 2, 3, }\n",
    "print(s1)\n",
    "\n",
    "s2 = set([1, 2, 3, 4]) # with iteratables\n",
    "print(s2)"
   ]
  },
  {
   "cell_type": "code",
   "execution_count": 2,
   "id": "625bb50c",
   "metadata": {},
   "outputs": [
    {
     "name": "stdout",
     "output_type": "stream",
     "text": [
      "{'o', 'e', 'H', 'l'}\n"
     ]
    }
   ],
   "source": [
    "s3 = set(\"Hello\")\n",
    "print(s3) # unique elements in a string."
   ]
  },
  {
   "cell_type": "markdown",
   "id": "b676cc34",
   "metadata": {},
   "source": [
    "**Caveats**\n",
    "- st = {} is recognized as a **dict**"
   ]
  },
  {
   "cell_type": "code",
   "execution_count": 3,
   "id": "60d52fa8",
   "metadata": {},
   "outputs": [
    {
     "data": {
      "text/plain": [
       "dict"
      ]
     },
     "execution_count": 3,
     "metadata": {},
     "output_type": "execute_result"
    }
   ],
   "source": [
    "s = {}\n",
    "type(s)"
   ]
  },
  {
   "cell_type": "markdown",
   "id": "aff6309e",
   "metadata": {},
   "source": [
    "**ii. Adding an element**\n",
    "- set.add(item)"
   ]
  },
  {
   "cell_type": "code",
   "execution_count": 4,
   "id": "09709ae9",
   "metadata": {
    "scrolled": true
   },
   "outputs": [
    {
     "name": "stdout",
     "output_type": "stream",
     "text": [
      "{1, 2, 3}\n"
     ]
    }
   ],
   "source": [
    "s5 = set()\n",
    "\n",
    "s5.add(1)\n",
    "s5.add(2)\n",
    "s5.add(3)\n",
    "\n",
    "print(s5)"
   ]
  },
  {
   "cell_type": "markdown",
   "id": "6855784a",
   "metadata": {},
   "source": [
    "**ii. Removing an Element:**\n",
    "- **set.remove(item)** gives an error if item doesnt exists.\n",
    "- **myset.discard(item)** also removes an item but doesn't throws any exception. \n",
    "- **myset.clear()** clear/empties the set.\n",
    "- **myset.pop()** returns arbitary item and removes it."
   ]
  },
  {
   "cell_type": "code",
   "execution_count": 5,
   "id": "ed764236",
   "metadata": {},
   "outputs": [
    {
     "name": "stdout",
     "output_type": "stream",
     "text": [
      "After removing 1:  {2, 3, 4, 5}\n",
      "Poped element is:  2\n",
      "After poping element {3, 4, 5}\n",
      "After clearing:  set()\n"
     ]
    }
   ],
   "source": [
    "s5 = {1, 2, 3, 4, 5}\n",
    "\n",
    "s5.remove(1)\n",
    "print(\"After removing 1: \",s5)\n",
    "\n",
    "s5.discard(100) # doesn't throws exeption, though 100 doesnt exists in s5.\n",
    "\n",
    "\n",
    "poped = s5.pop()\n",
    "print(\"Poped element is: \", poped)\n",
    "print(\"After poping element\", s5)\n",
    "\n",
    "\n",
    "s5.clear() # empties the set\n",
    "print(\"After clearing: \",s5)"
   ]
  },
  {
   "cell_type": "markdown",
   "id": "ce61afef",
   "metadata": {},
   "source": [
    "**Iterating through item same as list item itern**\n",
    "```python\n",
    "for item in set:\n",
    "    print(item)\n",
    "```\n",
    "**Checking item:**\n",
    "```python\n",
    "if <item> in s5:\n",
    "    print(\"Exists\")\n",
    "```"
   ]
  },
  {
   "cell_type": "markdown",
   "id": "49348e37",
   "metadata": {},
   "source": [
    "**iii. Inplace update:**\n",
    "- Updates to the existing set.\n",
    "- ``set1.update(set1)``"
   ]
  },
  {
   "cell_type": "code",
   "execution_count": 6,
   "id": "bba69471",
   "metadata": {},
   "outputs": [
    {
     "name": "stdout",
     "output_type": "stream",
     "text": [
      "{1, 2, 3, 4}\n"
     ]
    }
   ],
   "source": [
    "s1 = {1,2}\n",
    "s2 = {3,4}\n",
    "\n",
    "s1.update(s2) #updated s1\n",
    "print(s1)"
   ]
  },
  {
   "cell_type": "markdown",
   "id": "f9d5c2a7",
   "metadata": {},
   "source": [
    "**iv. Union of Sets**\n",
    "- Combines two sets.\n",
    "- No duplicates.\n",
    "- ``set1.union(set2)`` or ``s1 | s2``"
   ]
  },
  {
   "cell_type": "code",
   "execution_count": 7,
   "id": "b9a22306",
   "metadata": {},
   "outputs": [
    {
     "name": "stdout",
     "output_type": "stream",
     "text": [
      "Union is:  {1, 2, 3, 4, 5}\n"
     ]
    }
   ],
   "source": [
    "s1 = {1, 2, 3}\n",
    "s2 = {2, 3, 4, 5}\n",
    "\n",
    "s_uni = s1.union(s2) # or s1 | s2\n",
    "print(\"Union is: \",s_uni)"
   ]
  },
  {
   "cell_type": "markdown",
   "id": "b21c5613",
   "metadata": {},
   "source": [
    "**v. Intersection:**\n",
    "- Gives a common element between two sets.\n",
    "- ``set1.intersection(s2)`` or ``s1 & s2``"
   ]
  },
  {
   "cell_type": "code",
   "execution_count": 8,
   "id": "9f6f5dcc",
   "metadata": {
    "scrolled": false
   },
   "outputs": [
    {
     "name": "stdout",
     "output_type": "stream",
     "text": [
      "Intersection is:  {2, 3}\n"
     ]
    }
   ],
   "source": [
    "s1 = {1, 2, 3}\n",
    "s2 = {2, 3, 4, 5}\n",
    "\n",
    "s_int = s1.intersection(s2) # or s1 & s2\n",
    "print(\"Intersection is: \",s_int)"
   ]
  },
  {
   "cell_type": "markdown",
   "id": "d93c316b",
   "metadata": {},
   "source": [
    "**vi. Difference**\n",
    "- Elements in a set, which doesnt exists on other set.\n",
    "- ``set1.difference(set2)`` or ``set1-set2``"
   ]
  },
  {
   "cell_type": "code",
   "execution_count": 9,
   "id": "8f50b815",
   "metadata": {},
   "outputs": [
    {
     "name": "stdout",
     "output_type": "stream",
     "text": [
      "Difference s1-s2 is:  {1}\n",
      "Difference s2-s1 is:  {4, 5}\n"
     ]
    }
   ],
   "source": [
    "s1 = {1, 2, 3}\n",
    "s2 = {2, 3, 4, 5}\n",
    "\n",
    "s_diff = s1.difference(s2) # or s1-s2\n",
    "print(\"Difference s1-s2 is: \",s_diff)\n",
    "print(\"Difference s2-s1 is: \",(s2-s1))"
   ]
  },
  {
   "cell_type": "markdown",
   "id": "77d747f6",
   "metadata": {},
   "source": [
    "**vii. Inplace intersection, union and difference**\n",
    "- ``set1.<intersection/difference/symmetric_difference>_update(set2)``"
   ]
  },
  {
   "cell_type": "code",
   "execution_count": 10,
   "id": "e00968fa",
   "metadata": {},
   "outputs": [
    {
     "name": "stdout",
     "output_type": "stream",
     "text": [
      "Inplace intersection:  {4}\n",
      "Inplace differnce:  {1, 3}\n",
      "Symmetric difference: s1-s2 {1, 3, 5, 6}\n"
     ]
    }
   ],
   "source": [
    "s1 = {1, 3, 4}\n",
    "s2 = {4, 5, 6}\n",
    "\n",
    "s1.intersection_update(s2) # inplace intersection update\n",
    "print(\"Inplace intersection: \",s1)\n",
    "\n",
    "s1 = {1, 3, 4}\n",
    "s2 = {4, 5, 6}\n",
    "\n",
    "s1.difference_update(s2) # inplace difference difference\n",
    "print(\"Inplace differnce: \",s1)\n",
    "\n",
    "s1 = {1, 3, 4}\n",
    "s2 = {4, 5, 6}\n",
    "\n",
    "s1.symmetric_difference_update(s2) # symmetric difference: elements not common in both the sets\n",
    "print(\"Symmetric difference: s1-s2\",s1)"
   ]
  },
  {
   "cell_type": "markdown",
   "id": "937e9789",
   "metadata": {},
   "source": [
    "**viii. Check if Superset**\n",
    "- ``set1.issuperset(set2)``\n",
    "- Returns true if all the elements of s2 are in s1."
   ]
  },
  {
   "cell_type": "code",
   "execution_count": 11,
   "id": "2b845a10",
   "metadata": {},
   "outputs": [
    {
     "name": "stdout",
     "output_type": "stream",
     "text": [
      "Set 1 is superset of s2: True\n"
     ]
    }
   ],
   "source": [
    "s1 = {1, 2, 3, 4, 5}\n",
    "s2 = {1, 4}\n",
    "\n",
    "is_s1_superset_of_s2 = s1.issuperset(s2)\n",
    "print(\"Set 1 is superset of s2:\", is_s1_superset_of_s2)"
   ]
  },
  {
   "cell_type": "markdown",
   "id": "35d012e0",
   "metadata": {},
   "source": [
    "**ix. Check if subset:**\n",
    "- ``set1.issubset(s2)``\n",
    "- Returns True if set1 contains some elements of s2."
   ]
  },
  {
   "cell_type": "code",
   "execution_count": 12,
   "id": "ff581a12",
   "metadata": {},
   "outputs": [
    {
     "name": "stdout",
     "output_type": "stream",
     "text": [
      "S1 is subset of S2:  True\n"
     ]
    }
   ],
   "source": [
    "s1 = {1, 3}\n",
    "s2 = {1, 3, 4, 5}\n",
    "\n",
    "s1_issubset_s2 = s1.issubset(s2)\n",
    "print(\"S1 is subset of S2: \", s1_issubset_s2)"
   ]
  },
  {
   "cell_type": "markdown",
   "id": "484e4532",
   "metadata": {},
   "source": [
    "**ix. Check if disjoint:**\n",
    "- ``set1.isdisjoint(s2)``\n",
    "- Returns True if no common elements between s1 and s2."
   ]
  },
  {
   "cell_type": "code",
   "execution_count": 13,
   "id": "5607a5ac",
   "metadata": {},
   "outputs": [
    {
     "name": "stdout",
     "output_type": "stream",
     "text": [
      "S1 and S2 djsjoint:  True\n"
     ]
    }
   ],
   "source": [
    "s1 = {1, 2}\n",
    "s2 = {3, 4}\n",
    "\n",
    "is_disjoint = s1.isdisjoint(s2)\n",
    "\n",
    "print(\"S1 and S2 djsjoint: \", is_disjoint)"
   ]
  },
  {
   "cell_type": "markdown",
   "id": "37beffd6",
   "metadata": {},
   "source": [
    "**Creating a copy:**\n",
    "```python\n",
    "s2 = s1.copy()\n",
    "```"
   ]
  },
  {
   "cell_type": "markdown",
   "id": "ab81daef",
   "metadata": {},
   "source": [
    "# Exceptions"
   ]
  },
  {
   "cell_type": "markdown",
   "id": "88b49512",
   "metadata": {},
   "source": [
    "**i. KeyError**\n",
    "- Occurs when removing non existing element."
   ]
  },
  {
   "cell_type": "code",
   "execution_count": 14,
   "id": "b7fb0c86",
   "metadata": {
    "scrolled": true
   },
   "outputs": [
    {
     "name": "stdout",
     "output_type": "stream",
     "text": [
      "<class 'KeyError'>\n"
     ]
    }
   ],
   "source": [
    "x = set([1, 3])\n",
    "\n",
    "try:\n",
    "    x.remove(5) # removing item, that doesnt exists\n",
    "except Exception as e:\n",
    "    print(e.__class__)"
   ]
  },
  {
   "cell_type": "markdown",
   "id": "e6347f4d",
   "metadata": {},
   "source": [
    "**ii. TypeError:**\n",
    "- Occurs when trying to add unhashable types to set."
   ]
  },
  {
   "cell_type": "code",
   "execution_count": 15,
   "id": "85fd8566",
   "metadata": {
    "scrolled": true
   },
   "outputs": [
    {
     "name": "stdout",
     "output_type": "stream",
     "text": [
      "<class 'TypeError'>\n"
     ]
    }
   ],
   "source": [
    "x = set()\n",
    "\n",
    "try:\n",
    "    x.add([1,2,3]) # adding a list, which is unhashable, immutable\n",
    "except Exception as e:\n",
    "    print(e.__class__)"
   ]
  },
  {
   "cell_type": "markdown",
   "id": "9947843b",
   "metadata": {},
   "source": [
    "# Frozen Set\n",
    "- Immutable version of original set."
   ]
  },
  {
   "cell_type": "code",
   "execution_count": 16,
   "id": "e24aa2da",
   "metadata": {},
   "outputs": [
    {
     "name": "stdout",
     "output_type": "stream",
     "text": [
      "frozenset({1, 2, 3})\n"
     ]
    }
   ],
   "source": [
    "a = frozenset([1, 2, 3])\n",
    "print(a)"
   ]
  }
 ],
 "metadata": {
  "kernelspec": {
   "display_name": "Python 3",
   "language": "python",
   "name": "python3"
  },
  "language_info": {
   "codemirror_mode": {
    "name": "ipython",
    "version": 3
   },
   "file_extension": ".py",
   "mimetype": "text/x-python",
   "name": "python",
   "nbconvert_exporter": "python",
   "pygments_lexer": "ipython3",
   "version": "3.8.8"
  }
 },
 "nbformat": 4,
 "nbformat_minor": 5
}
