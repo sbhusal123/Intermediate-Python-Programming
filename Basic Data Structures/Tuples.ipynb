{
 "cells": [
  {
   "cell_type": "markdown",
   "id": "d09206ee",
   "metadata": {},
   "source": [
    "# Tuples\n",
    "- Collection Data Type\n",
    "- Ordered\n",
    "- Immutable: Cannot be modified from original state.\n",
    "- More effieicnt when working with large data."
   ]
  },
  {
   "cell_type": "code",
   "execution_count": 48,
   "id": "1bbcf340",
   "metadata": {},
   "outputs": [
    {
     "name": "stdout",
     "output_type": "stream",
     "text": [
      "96 bytes\n",
      "80 bytes\n"
     ]
    }
   ],
   "source": [
    "import sys\n",
    "\n",
    "x_l = [1, 2, 3, \"xx\", \"yy\"]\n",
    "x_t = (1, 2, 3, \"xx\", \"yy\")\n",
    "\n",
    "print(sys.getsizeof(x_l), \"bytes\")\n",
    "print(sys.getsizeof(x_t), \"bytes\")"
   ]
  },
  {
   "cell_type": "markdown",
   "id": "05ef000d",
   "metadata": {},
   "source": [
    "- **Comparatively space required for a tuple to store same items < lists.**"
   ]
  },
  {
   "cell_type": "code",
   "execution_count": 47,
   "id": "71cf2c35",
   "metadata": {},
   "outputs": [
    {
     "name": "stdout",
     "output_type": "stream",
     "text": [
      "0.008841938000841765\n",
      "0.0012730229973385576\n"
     ]
    }
   ],
   "source": [
    "import timeit\n",
    "\n",
    "time_l = timeit.timeit(stmt=\"[1, 2, 3, 4, 5]\", number=100000) # repeat stmt for number of times\n",
    "time_t = timeit.timeit(stmt=\"(1, 2, 3, 4, 5)\", number=100000) \n",
    "\n",
    "print(time_l)\n",
    "print(time_t)"
   ]
  },
  {
   "cell_type": "markdown",
   "id": "96fd1db3",
   "metadata": {},
   "source": [
    "**Time required to perform operations on tuples < lists**\n",
    "\n",
    "\n",
    "**Thus tuple is both memory and time efficient data structure.**"
   ]
  },
  {
   "cell_type": "markdown",
   "id": "f230f80b",
   "metadata": {},
   "source": [
    "# 1. Basic Operations"
   ]
  },
  {
   "cell_type": "markdown",
   "id": "900332f5",
   "metadata": {},
   "source": [
    "**i. Creation / Initialization**\n",
    "- (item1, item2, ...)\n",
    "- (item1 ,) . Note that for a single element **,** is needed.\n",
    "- var = item1, item2, item3, var is still a tuple."
   ]
  },
  {
   "cell_type": "code",
   "execution_count": 2,
   "id": "87ada7eb",
   "metadata": {},
   "outputs": [
    {
     "name": "stdout",
     "output_type": "stream",
     "text": [
      "<class 'tuple'>\n",
      "<class 'tuple'>\n",
      "<class 'tuple'>\n"
     ]
    }
   ],
   "source": [
    "x = (1,)\n",
    "y = (1, 2, 3)\n",
    "z = 1, 2, 3\n",
    "\n",
    "print(type(x))\n",
    "print(type(y))\n",
    "print(type(z))"
   ]
  },
  {
   "cell_type": "markdown",
   "id": "894477d2",
   "metadata": {},
   "source": [
    "**ii. From iteratable**"
   ]
  },
  {
   "cell_type": "code",
   "execution_count": 5,
   "id": "cf080e22",
   "metadata": {},
   "outputs": [
    {
     "name": "stdout",
     "output_type": "stream",
     "text": [
      "<class 'tuple'>\n",
      "(1, 2, 3, 4)\n"
     ]
    }
   ],
   "source": [
    "ll = [1, 2, 3, 4]\n",
    "x = tuple(ll)\n",
    "\n",
    "print(type(x))\n",
    "print(x)"
   ]
  },
  {
   "cell_type": "markdown",
   "id": "26e5e9f5",
   "metadata": {},
   "source": [
    "- **Indexing, Slicing Same as that of list**\n",
    "- **No support for inplace operations**\n",
    "- **Checkig item existence same as that of list.**"
   ]
  },
  {
   "cell_type": "markdown",
   "id": "b9c915a6",
   "metadata": {},
   "source": [
    "**iii. Item referencing**"
   ]
  },
  {
   "cell_type": "code",
   "execution_count": 36,
   "id": "c31e1dfd",
   "metadata": {},
   "outputs": [
    {
     "name": "stdout",
     "output_type": "stream",
     "text": [
      "Max\n",
      "12\n"
     ]
    }
   ],
   "source": [
    "name, age = \"Max\", 12\n",
    "\n",
    "print(name)\n",
    "print(age)"
   ]
  },
  {
   "cell_type": "markdown",
   "id": "1a8b5efa",
   "metadata": {},
   "source": [
    "**iv. Unpacking**\n",
    "- Resulting item in list, if size > 1."
   ]
  },
  {
   "cell_type": "code",
   "execution_count": 40,
   "id": "a2d423c0",
   "metadata": {},
   "outputs": [
    {
     "name": "stdout",
     "output_type": "stream",
     "text": [
      "1\n",
      "[2, 3]\n",
      "1\n"
     ]
    }
   ],
   "source": [
    "tt = (1, 2, 3, 4)\n",
    "i1, *i2, i3 = tt\n",
    "\n",
    "print(i1) # 1\n",
    "print(i2) # 2, 3\n",
    "print(i1) # 4"
   ]
  },
  {
   "cell_type": "code",
   "execution_count": null,
   "id": "6d104791",
   "metadata": {},
   "outputs": [],
   "source": []
  },
  {
   "cell_type": "markdown",
   "id": "0edaf2d0",
   "metadata": {},
   "source": [
    "**iv. Reassignment**\n",
    "- Being an immutable DS, gives an error if tried to modify."
   ]
  },
  {
   "cell_type": "code",
   "execution_count": 7,
   "id": "64c989a5",
   "metadata": {},
   "outputs": [
    {
     "ename": "TypeError",
     "evalue": "'tuple' object does not support item assignment",
     "output_type": "error",
     "traceback": [
      "\u001b[0;31m---------------------------------------------------------------------------\u001b[0m",
      "\u001b[0;31mTypeError\u001b[0m                                 Traceback (most recent call last)",
      "\u001b[0;32m<ipython-input-7-10d5b4d241c7>\u001b[0m in \u001b[0;36m<module>\u001b[0;34m\u001b[0m\n\u001b[1;32m      1\u001b[0m \u001b[0mx\u001b[0m \u001b[0;34m=\u001b[0m \u001b[0;34m(\u001b[0m\u001b[0;36m1\u001b[0m\u001b[0;34m,\u001b[0m \u001b[0;36m2\u001b[0m\u001b[0;34m)\u001b[0m\u001b[0;34m\u001b[0m\u001b[0;34m\u001b[0m\u001b[0m\n\u001b[0;32m----> 2\u001b[0;31m \u001b[0mx\u001b[0m\u001b[0;34m[\u001b[0m\u001b[0;36m2\u001b[0m\u001b[0;34m]\u001b[0m \u001b[0;34m=\u001b[0m \u001b[0;36m3\u001b[0m \u001b[0;31m# does not support item assignment\u001b[0m\u001b[0;34m\u001b[0m\u001b[0;34m\u001b[0m\u001b[0m\n\u001b[0m",
      "\u001b[0;31mTypeError\u001b[0m: 'tuple' object does not support item assignment"
     ]
    }
   ],
   "source": [
    "x = (1, 2)\n",
    "x[2] = 3 # does not support item assignment"
   ]
  }
 ],
 "metadata": {
  "kernelspec": {
   "display_name": "Python 3",
   "language": "python",
   "name": "python3"
  },
  "language_info": {
   "codemirror_mode": {
    "name": "ipython",
    "version": 3
   },
   "file_extension": ".py",
   "mimetype": "text/x-python",
   "name": "python",
   "nbconvert_exporter": "python",
   "pygments_lexer": "ipython3",
   "version": "3.8.8"
  }
 },
 "nbformat": 4,
 "nbformat_minor": 5
}
