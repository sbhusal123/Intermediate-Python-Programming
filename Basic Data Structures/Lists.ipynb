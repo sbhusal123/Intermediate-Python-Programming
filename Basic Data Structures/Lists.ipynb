{
 "cells": [
  {
   "cell_type": "markdown",
   "id": "6377e010",
   "metadata": {},
   "source": [
    "# Lists"
   ]
  },
  {
   "cell_type": "markdown",
   "id": "2fd7c0b8",
   "metadata": {},
   "source": [
    "# 1. Common Operations"
   ]
  },
  {
   "cell_type": "markdown",
   "id": "0fdbafb1",
   "metadata": {},
   "source": [
    "# 1. Creation / Initialization"
   ]
  },
  {
   "cell_type": "markdown",
   "id": "b21bcf7a",
   "metadata": {},
   "source": [
    "**i. Creation / Initialization**"
   ]
  },
  {
   "cell_type": "code",
   "execution_count": 1,
   "id": "6ee5dfe7",
   "metadata": {},
   "outputs": [
    {
     "data": {
      "text/plain": [
       "[1, 2, 3]"
      ]
     },
     "execution_count": 1,
     "metadata": {},
     "output_type": "execute_result"
    }
   ],
   "source": [
    "# elements inside the square brakets\n",
    "x = [1, 2, 3]\n",
    "\n",
    "# or\n",
    "x = list()\n",
    "x.append(1)\n",
    "x.append(2)\n",
    "x.append(3)\n",
    "\n",
    "x"
   ]
  },
  {
   "cell_type": "markdown",
   "id": "1c775f83",
   "metadata": {},
   "source": [
    "**ii. Element Indexing**"
   ]
  },
  {
   "cell_type": "code",
   "execution_count": 2,
   "id": "97a77639",
   "metadata": {},
   "outputs": [
    {
     "name": "stdout",
     "output_type": "stream",
     "text": [
      "2\n",
      "3\n"
     ]
    }
   ],
   "source": [
    "# 2nd last items:\n",
    "print(x[-2]) # -> 2\n",
    "\n",
    "# second item:\n",
    "print(x[2]) # -> 3"
   ]
  },
  {
   "cell_type": "markdown",
   "id": "6ddefc62",
   "metadata": {},
   "source": [
    "**iii. Iterate through items**"
   ]
  },
  {
   "cell_type": "code",
   "execution_count": 3,
   "id": "16cf4090",
   "metadata": {},
   "outputs": [
    {
     "name": "stdout",
     "output_type": "stream",
     "text": [
      "1\n",
      "2\n",
      "3\n"
     ]
    }
   ],
   "source": [
    "for item in x:\n",
    "    print(item)"
   ]
  },
  {
   "cell_type": "markdown",
   "id": "ba5c3c24",
   "metadata": {},
   "source": [
    "**iv. Checking item**"
   ]
  },
  {
   "cell_type": "code",
   "execution_count": 4,
   "id": "5ec9e302",
   "metadata": {},
   "outputs": [
    {
     "name": "stdout",
     "output_type": "stream",
     "text": [
      "False\n",
      "True\n"
     ]
    }
   ],
   "source": [
    "print(4 in x) # 4 doesnt exists\n",
    "print(3 in x) # 3 does exists"
   ]
  },
  {
   "cell_type": "markdown",
   "id": "b6954e0d",
   "metadata": {},
   "source": [
    "**v. Insert to specific index**\n",
    "- list.insert(index, item). Note that index starts from 0.\n",
    "- Negative index => indexing starts from end."
   ]
  },
  {
   "cell_type": "code",
   "execution_count": 5,
   "id": "0cd6c179",
   "metadata": {},
   "outputs": [
    {
     "data": {
      "text/plain": [
       "[1, 5, 3, 2, 6]"
      ]
     },
     "execution_count": 5,
     "metadata": {},
     "output_type": "execute_result"
    }
   ],
   "source": [
    "y = [1, 5, 6]\n",
    "\n",
    "y.insert(2, 3)\n",
    "y.insert(-1, 2)  #insert to 2nd last\n",
    "\n",
    "y"
   ]
  },
  {
   "cell_type": "markdown",
   "id": "3e3e7207",
   "metadata": {},
   "source": [
    "**vi. Get last item**\n",
    "- list.pop()\n",
    "- Note that the element gets removed from list."
   ]
  },
  {
   "cell_type": "code",
   "execution_count": 6,
   "id": "13b49094",
   "metadata": {},
   "outputs": [
    {
     "name": "stdout",
     "output_type": "stream",
     "text": [
      "7\n",
      "6\n"
     ]
    },
    {
     "data": {
      "text/plain": [
       "[5]"
      ]
     },
     "execution_count": 6,
     "metadata": {},
     "output_type": "execute_result"
    }
   ],
   "source": [
    "y = [5, 6, 7]\n",
    "print(y.pop())\n",
    "print(y.pop())\n",
    "y"
   ]
  },
  {
   "cell_type": "markdown",
   "id": "8f9a4738",
   "metadata": {},
   "source": [
    "**vii. Removal of item**\n",
    "- **Rmove specific item:** list.remove(item)\n",
    "- **Remove all items:** list.clear()"
   ]
  },
  {
   "cell_type": "code",
   "execution_count": 7,
   "id": "f9314664",
   "metadata": {},
   "outputs": [
    {
     "name": "stdout",
     "output_type": "stream",
     "text": [
      "[1, 3, 5]\n",
      "[]\n"
     ]
    }
   ],
   "source": [
    "b = [1, 2, 3, 5]\n",
    "\n",
    "b.remove(2) # remove specific items\n",
    "print(b)\n",
    "\n",
    "b.clear() # remove all items\n",
    "print(b)"
   ]
  },
  {
   "cell_type": "markdown",
   "id": "a01885e8",
   "metadata": {},
   "source": [
    "**viii. Reverse, Sort the list: Inplace**\n",
    "- list.reverse()\n",
    "- list.sort()\n",
    "- Note that x=list.sorted() returns None as these operations are inplace."
   ]
  },
  {
   "cell_type": "code",
   "execution_count": 20,
   "id": "2754dcf2",
   "metadata": {},
   "outputs": [
    {
     "name": "stdout",
     "output_type": "stream",
     "text": [
      "[1, 2, 6, 3]\n",
      "[1, 2, 3, 6]\n"
     ]
    }
   ],
   "source": [
    "x = [3, 6, 2, 1]\n",
    "\n",
    "x.reverse() # reverse\n",
    "print(x)\n",
    "\n",
    "x.sort() #sort\n",
    "print(x)"
   ]
  },
  {
   "cell_type": "markdown",
   "id": "64e44be3",
   "metadata": {},
   "source": [
    "**ix. Sorting: Outplace**"
   ]
  },
  {
   "cell_type": "code",
   "execution_count": 21,
   "id": "ec5306e6",
   "metadata": {},
   "outputs": [
    {
     "name": "stdout",
     "output_type": "stream",
     "text": [
      "False\n"
     ]
    }
   ],
   "source": [
    "x = [3, 6, 2, 1]\n",
    "\n",
    "srtd = sorted(x) # new sorted list\n",
    "print(x == srtd)"
   ]
  },
  {
   "cell_type": "markdown",
   "id": "98eb1a7a",
   "metadata": {},
   "source": [
    "**x.Extending / Concatenation**"
   ]
  },
  {
   "cell_type": "code",
   "execution_count": 22,
   "id": "dbca792d",
   "metadata": {},
   "outputs": [
    {
     "name": "stdout",
     "output_type": "stream",
     "text": [
      "[1, 2, 3, 4, 5, 6]\n"
     ]
    }
   ],
   "source": [
    "l1 = [1, 2, 3]\n",
    "l2 = [4, 5, 6]\n",
    "\n",
    "extnded = l1 + l2\n",
    "print(extnded)"
   ]
  },
  {
   "cell_type": "markdown",
   "id": "65ed4e55",
   "metadata": {},
   "source": [
    "**xi. List Indexing**\n",
    "- list[start:end]. Note that end element is not included.\n",
    "- list[start:]. Start index el to last element.\n",
    "- list[start:-nth]. Start index to nth+1 last element.\n",
    "- list[:-nth]. Beginning to nth+1 indexed last element.\n",
    "- list[::n]. Every element with index multiple of n upto last element.\n",
    "- list[::-1]. Reverse"
   ]
  },
  {
   "cell_type": "code",
   "execution_count": 11,
   "id": "58ff7fb4",
   "metadata": {},
   "outputs": [
    {
     "name": "stdout",
     "output_type": "stream",
     "text": [
      "[1, 2]\n",
      "[1, 2, 3, 4, 5, 6, 7]\n",
      "[1, 3, 5, 7, 9]\n"
     ]
    }
   ],
   "source": [
    "ll = [1, 2, 3, 4, 5, 6, 7, 8, 9]\n",
    "\n",
    "print(ll[0:2]) # [1st, 2nd]\n",
    "\n",
    "print(ll[:-2]) # beginning to 2nd last\n",
    "\n",
    "print(ll[::2])"
   ]
  },
  {
   "cell_type": "markdown",
   "id": "fca187af",
   "metadata": {},
   "source": [
    "**xii. Referencing:**\n",
    "- By default when assiging a list to new variable. Same memory location is shared.\n",
    "- So if original is modified, other one gets modified too.\n",
    "- Caveat!!: If the purpose if to create a copy of a list and perform some operation, this is not a good idea."
   ]
  },
  {
   "cell_type": "code",
   "execution_count": 12,
   "id": "e003225b",
   "metadata": {},
   "outputs": [
    {
     "name": "stdout",
     "output_type": "stream",
     "text": [
      "[1, 2, 3, 3]\n",
      "[1, 2, 3, 3]\n"
     ]
    }
   ],
   "source": [
    "x = [1, 2, 3]\n",
    "y = x\n",
    "\n",
    "x.append(3)\n",
    "\n",
    "# Note that on changing x, y changes\n",
    "print(x)\n",
    "print(y)"
   ]
  },
  {
   "cell_type": "markdown",
   "id": "ea99a2e1",
   "metadata": {},
   "source": [
    "**xiii. Copy of a list**\n",
    "- list.copy()   or\n",
    "- new_list = list[:]\n"
   ]
  },
  {
   "cell_type": "code",
   "execution_count": 13,
   "id": "9ec82321",
   "metadata": {},
   "outputs": [
    {
     "data": {
      "text/plain": [
       "[1, 3, 5, 7]"
      ]
     },
     "execution_count": 13,
     "metadata": {},
     "output_type": "execute_result"
    }
   ],
   "source": [
    "x = [1, 3, 5, 7]\n",
    "\n",
    "# Copy of x\n",
    "y = x.copy()\n",
    "\n",
    "# Note that on modifying x, y still remains same\n",
    "x.append(3)\n",
    "y\n"
   ]
  },
  {
   "cell_type": "markdown",
   "id": "bb7453f5",
   "metadata": {},
   "source": [
    "**xiv. List Comprehension / One Liner**"
   ]
  },
  {
   "cell_type": "code",
   "execution_count": 16,
   "id": "ac7ee3fa",
   "metadata": {},
   "outputs": [
    {
     "name": "stdout",
     "output_type": "stream",
     "text": [
      "[1, 4, 9]\n"
     ]
    }
   ],
   "source": [
    "x = [1, 2, 3]\n",
    "sq_x = [i*i for i in x]\n",
    "print(sq_x)"
   ]
  },
  {
   "cell_type": "markdown",
   "id": "63196f45",
   "metadata": {},
   "source": [
    "# 8. Common Exceptions"
   ]
  },
  {
   "cell_type": "markdown",
   "id": "5a23d209",
   "metadata": {},
   "source": [
    "**i. IndexError:**\n",
    "- Occurs when index > size"
   ]
  },
  {
   "cell_type": "code",
   "execution_count": 14,
   "id": "a326964c",
   "metadata": {},
   "outputs": [
    {
     "name": "stdout",
     "output_type": "stream",
     "text": [
      "list index out of range\n"
     ]
    }
   ],
   "source": [
    "t = [1, 2, 3, 4]\n",
    "try:\n",
    "    t[100]\n",
    "except IndexError as e:\n",
    "    print(e)"
   ]
  },
  {
   "cell_type": "markdown",
   "id": "b14cd884",
   "metadata": {},
   "source": [
    "**ii. ValueError**\n",
    "- Occurs when trying to access non existing items."
   ]
  },
  {
   "cell_type": "code",
   "execution_count": 15,
   "id": "1d390d4e",
   "metadata": {},
   "outputs": [
    {
     "name": "stdout",
     "output_type": "stream",
     "text": [
      "list.remove(x): x not in list\n"
     ]
    }
   ],
   "source": [
    "try:\n",
    "    t.remove(100)\n",
    "except ValueError as e:\n",
    "    print(e)"
   ]
  }
 ],
 "metadata": {
  "kernelspec": {
   "display_name": "Python 3",
   "language": "python",
   "name": "python3"
  },
  "language_info": {
   "codemirror_mode": {
    "name": "ipython",
    "version": 3
   },
   "file_extension": ".py",
   "mimetype": "text/x-python",
   "name": "python",
   "nbconvert_exporter": "python",
   "pygments_lexer": "ipython3",
   "version": "3.8.8"
  }
 },
 "nbformat": 4,
 "nbformat_minor": 5
}
