{
 "cells": [
  {
   "cell_type": "markdown",
   "id": "faf98d9f",
   "metadata": {},
   "source": [
    "# Process Vs Threads"
   ]
  },
  {
   "cell_type": "markdown",
   "id": "82bb2558",
   "metadata": {},
   "source": [
    "## 1. Process\n",
    "- An instance of a program"
   ]
  },
  {
   "cell_type": "markdown",
   "id": "335ed67f",
   "metadata": {},
   "source": [
    "**Pros:**"
   ]
  },
  {
   "cell_type": "markdown",
   "id": "582e03da",
   "metadata": {},
   "source": [
    "- Takes Advantage of multiple CPU and cores.\n",
    "- Separate memory space, memory is not shared.\n",
    "- Great for CPU bound processes.\n",
    "- New processes is stated independently from other processes.\n",
    "- Are interruptible / killable.\n",
    "- One GIL for each process."
   ]
  },
  {
   "cell_type": "markdown",
   "id": "4d5ec36b",
   "metadata": {},
   "source": [
    "**Cons:**"
   ]
  },
  {
   "cell_type": "markdown",
   "id": "4c71d9ea",
   "metadata": {},
   "source": [
    "- Heavyweight\n",
    "- Starting a process is slower than starting a thread.\n",
    "- Requires more memory.\n",
    "- IPC (Inter process communication) is difficult."
   ]
  },
  {
   "cell_type": "markdown",
   "id": "f99163ad",
   "metadata": {},
   "source": [
    "**Process Lifecycle**"
   ]
  },
  {
   "cell_type": "markdown",
   "id": "8423f9b4",
   "metadata": {},
   "source": [
    "![ProcessLifecycle.png](ProcessLifecycle.png)"
   ]
  },
  {
   "cell_type": "markdown",
   "id": "db4c3cfa",
   "metadata": {},
   "source": [
    "**External Resources:**"
   ]
  },
  {
   "cell_type": "markdown",
   "id": "4812e520",
   "metadata": {},
   "source": [
    "- [Read More ... Process Life Cycle](https://prepinsta.com/operating-systems/process-life-cycle/)\n",
    "- [Process Synchronization](https://www.geeksforgeeks.org/introduction-of-process-synchronization/)\n",
    "- [CS401: Synchronization](https://learn.saylor.org/mod/book/tool/print/index.php?id=26453&chapterid=966)"
   ]
  },
  {
   "cell_type": "markdown",
   "id": "d030a9ac",
   "metadata": {},
   "source": [
    "## 2. Threads"
   ]
  },
  {
   "cell_type": "markdown",
   "id": "225eea61",
   "metadata": {},
   "source": [
    "- An entity within a that can be process that can be scheduled."
   ]
  },
  {
   "cell_type": "markdown",
   "id": "90143bdb",
   "metadata": {},
   "source": [
    "**Pros:**"
   ]
  },
  {
   "cell_type": "markdown",
   "id": "d8eeae68",
   "metadata": {},
   "source": [
    "- All Threads within a process share a same memory.\n",
    "- Leightweight.\n",
    "- Starting a thread is faster than starting a process.\n",
    "- Great for CPU bound tasks."
   ]
  },
  {
   "cell_type": "markdown",
   "id": "88d5000a",
   "metadata": {},
   "source": [
    "**Cons:**"
   ]
  },
  {
   "cell_type": "markdown",
   "id": "f78a31eb",
   "metadata": {},
   "source": [
    "- Limited by GIL: Only one thread at a time.\n",
    "- No effect for CPU bound tasks.\n",
    "- Not interruptable / killable.\n",
    "- May cause race condition if critical section is not handled properly.\n",
    "\n",
    "> The critical section is a code segment where the shared variables can be accessed. An atomic action is required in a critical section i.e. only one process can execute in its critical section at a time\n"
   ]
  }
 ],
 "metadata": {
  "kernelspec": {
   "display_name": "Python 3",
   "language": "python",
   "name": "python3"
  },
  "language_info": {
   "codemirror_mode": {
    "name": "ipython",
    "version": 3
   },
   "file_extension": ".py",
   "mimetype": "text/x-python",
   "name": "python",
   "nbconvert_exporter": "python",
   "pygments_lexer": "ipython3",
   "version": "3.8.8"
  }
 },
 "nbformat": 4,
 "nbformat_minor": 5
}
