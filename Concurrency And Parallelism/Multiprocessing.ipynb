{
 "cells": [
  {
   "cell_type": "markdown",
   "id": "4c605faf",
   "metadata": {},
   "source": [
    "# Imports"
   ]
  },
  {
   "cell_type": "code",
   "execution_count": 1,
   "id": "4f4ef56d",
   "metadata": {},
   "outputs": [],
   "source": [
    "from multiprocessing import Process\n",
    "import os\n",
    "import time"
   ]
  },
  {
   "cell_type": "markdown",
   "id": "595372af",
   "metadata": {},
   "source": [
    "**Define a Function to be run by multiple processes:**"
   ]
  },
  {
   "cell_type": "code",
   "execution_count": 2,
   "id": "2d6354bb",
   "metadata": {},
   "outputs": [],
   "source": [
    "def square_number(n):\n",
    "    for i in range(100):\n",
    "        time.sleep(0.1)\n",
    "        i * i"
   ]
  },
  {
   "cell_type": "code",
   "execution_count": 3,
   "id": "633021ba",
   "metadata": {},
   "outputs": [],
   "source": [
    "processes = []\n",
    "num_processes = os.cpu_count()    "
   ]
  },
  {
   "cell_type": "markdown",
   "id": "bdc323e7",
   "metadata": {},
   "source": [
    "**Define A Process:**"
   ]
  },
  {
   "cell_type": "code",
   "execution_count": 4,
   "id": "22168c67",
   "metadata": {},
   "outputs": [],
   "source": [
    "# create processes\n",
    "for i in range(0, num_processes):\n",
    "    p = Process(target=square_number, args=(5, )) # target = <callable>, args = <tuple>\n",
    "    # p = Process(target=square_number) # with no arguments\n",
    "    \n",
    "    processes.append(p)"
   ]
  },
  {
   "cell_type": "markdown",
   "id": "b362b4a6",
   "metadata": {},
   "source": [
    "**Start A Process:**"
   ]
  },
  {
   "cell_type": "code",
   "execution_count": 5,
   "id": "9a2a26fa",
   "metadata": {},
   "outputs": [],
   "source": [
    "for p in processes:\n",
    "    p.start()"
   ]
  },
  {
   "cell_type": "markdown",
   "id": "9c569f7b",
   "metadata": {},
   "source": [
    "**Join Processes:**\n",
    "- Block the main process / thread untill completion of these processes."
   ]
  },
  {
   "cell_type": "code",
   "execution_count": 6,
   "id": "bc9c035d",
   "metadata": {},
   "outputs": [],
   "source": [
    "for p in processes:\n",
    "    p.join()"
   ]
  },
  {
   "cell_type": "markdown",
   "id": "e9e00ede",
   "metadata": {},
   "source": [
    "![RuningProcesses.png](./RuningProcesse.png)"
   ]
  }
 ],
 "metadata": {
  "kernelspec": {
   "display_name": "Python 3",
   "language": "python",
   "name": "python3"
  },
  "language_info": {
   "codemirror_mode": {
    "name": "ipython",
    "version": 3
   },
   "file_extension": ".py",
   "mimetype": "text/x-python",
   "name": "python",
   "nbconvert_exporter": "python",
   "pygments_lexer": "ipython3",
   "version": "3.8.8"
  }
 },
 "nbformat": 4,
 "nbformat_minor": 5
}
