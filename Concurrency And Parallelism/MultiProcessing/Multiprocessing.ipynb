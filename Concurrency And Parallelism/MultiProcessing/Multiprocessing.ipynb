{
 "cells": [
  {
   "cell_type": "markdown",
   "id": "1875a47a",
   "metadata": {},
   "source": [
    "# Imports"
   ]
  },
  {
   "cell_type": "code",
   "execution_count": 1,
   "id": "c6ba6e07",
   "metadata": {},
   "outputs": [],
   "source": [
    "from multiprocessing import Process\n",
    "import os\n",
    "import time"
   ]
  },
  {
   "cell_type": "markdown",
   "id": "cacb60a3",
   "metadata": {},
   "source": [
    "**Define a Function to be run by multiple processes:**"
   ]
  },
  {
   "cell_type": "code",
   "execution_count": 2,
   "id": "21acc5d0",
   "metadata": {},
   "outputs": [],
   "source": [
    "def square_number(n):\n",
    "    for i in range(100):\n",
    "        time.sleep(0.1)\n",
    "        i * i"
   ]
  },
  {
   "cell_type": "code",
   "execution_count": 3,
   "id": "a6db3ed8",
   "metadata": {},
   "outputs": [],
   "source": [
    "processes = []\n",
    "num_processes = os.cpu_count()    "
   ]
  },
  {
   "cell_type": "markdown",
   "id": "9eac29e7",
   "metadata": {},
   "source": [
    "**Define A Process:**"
   ]
  },
  {
   "cell_type": "code",
   "execution_count": 4,
   "id": "355ec055",
   "metadata": {},
   "outputs": [],
   "source": [
    "# create processes\n",
    "for i in range(0, num_processes):\n",
    "    p = Process(target=square_number, args=(5, )) # target = <callable>, args = <tuple>\n",
    "    # p = Process(target=square_number) # with no arguments\n",
    "    \n",
    "    processes.append(p)"
   ]
  },
  {
   "cell_type": "markdown",
   "id": "ee7a07f5",
   "metadata": {},
   "source": [
    "**Start A Process:**"
   ]
  },
  {
   "cell_type": "code",
   "execution_count": 5,
   "id": "8e067218",
   "metadata": {},
   "outputs": [],
   "source": [
    "for p in processes:\n",
    "    p.start()"
   ]
  },
  {
   "cell_type": "markdown",
   "id": "ae02c69b",
   "metadata": {},
   "source": [
    "**Join Processes:**\n",
    "- Block the main process / thread untill completion of these processes."
   ]
  },
  {
   "cell_type": "code",
   "execution_count": 6,
   "id": "d7b5684c",
   "metadata": {},
   "outputs": [],
   "source": [
    "for p in processes:\n",
    "    p.join()"
   ]
  },
  {
   "cell_type": "markdown",
   "id": "dd71d433",
   "metadata": {},
   "source": [
    "![RuningProcesses.png](./RuningProcesse.png)"
   ]
  },
  {
   "cell_type": "markdown",
   "id": "039a29f5",
   "metadata": {},
   "source": [
    "**4 Program Level Processes, 1 Python Main Process**"
   ]
  }
 ],
 "metadata": {
  "kernelspec": {
   "display_name": "Python 3",
   "language": "python",
   "name": "python3"
  },
  "language_info": {
   "codemirror_mode": {
    "name": "ipython",
    "version": 3
   },
   "file_extension": ".py",
   "mimetype": "text/x-python",
   "name": "python",
   "nbconvert_exporter": "python",
   "pygments_lexer": "ipython3",
   "version": "3.8.8"
  }
 },
 "nbformat": 4,
 "nbformat_minor": 5
}
