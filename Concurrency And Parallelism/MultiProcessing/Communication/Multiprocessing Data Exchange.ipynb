{
 "cells": [
  {
   "cell_type": "markdown",
   "id": "da72b083",
   "metadata": {},
   "source": [
    "# Multiprocessing Data Exchange\n",
    "- Inter Process Communincation (IPC)\n",
    "- As the two process resides in the different memory location, using a global vars wont work.\n",
    "- Alternative provided by python: ``Value, Array``\n",
    "- [Guidlines and Docs](https://docs.python.org/3/library/multiprocessing.html#programming-guidelines)\n",
    "\n",
    "\n",
    "**Cons:**\n",
    "- Context Switching in case of multiprocessing is time consuming.\n",
    "- GIL allows the processes to run on single core only.\n",
    "- Not good for multiprocessing.\n",
    "- May suffer from deadlock, race condition."
   ]
  },
  {
   "cell_type": "markdown",
   "id": "9d311a8d",
   "metadata": {},
   "source": [
    "**Imports**\n",
    "- ``Value`` can be used for single object.\n",
    "- ``Array`` for collection of data items."
   ]
  },
  {
   "cell_type": "code",
   "execution_count": 1,
   "id": "a3ffd6ae",
   "metadata": {},
   "outputs": [],
   "source": [
    "from multiprocessing import Process, Value, Array, Lock\n",
    "import time\n",
    "import os"
   ]
  },
  {
   "cell_type": "markdown",
   "id": "c3d2be29",
   "metadata": {},
   "source": [
    "## Shared Value"
   ]
  },
  {
   "cell_type": "markdown",
   "id": "512a4fb9",
   "metadata": {},
   "source": [
    "**Shared Value among the processes**\n",
    "- ``Value(<type>, <initial_value>)``\n",
    "- `i` => Integer\n",
    "- Can be accessed using: `<Value>.value`"
   ]
  },
  {
   "cell_type": "code",
   "execution_count": 2,
   "id": "9b1bbe56",
   "metadata": {},
   "outputs": [],
   "source": [
    "balance = Value('i', 100)\n",
    "lock = Lock()"
   ]
  },
  {
   "cell_type": "markdown",
   "id": "cb17a8cf",
   "metadata": {},
   "source": [
    "**Increase / Decrease balance**\n",
    "- Each used by two of the processes."
   ]
  },
  {
   "cell_type": "code",
   "execution_count": 3,
   "id": "b138cfd0",
   "metadata": {},
   "outputs": [],
   "source": [
    "def increase_balance(balance, amount, lock):\n",
    "    \"\"\"Increase balance\"\"\"\n",
    "    with lock:\n",
    "        local_copy = balance.value # get the global balance value\n",
    "        local_copy += amount # update amount\n",
    "        time.sleep(0.2) # heavy computation\n",
    "        balance.value = local_copy # update value\n",
    "    \n",
    "\n",
    "def decrease_balance(balance, amount, lock):\n",
    "    \"\"\"Decreasae Balance\"\"\"\n",
    "    with lock:\n",
    "        local_copy = balance.value # get the global balance value\n",
    "        local_copy -= amount # update amount\n",
    "        time.sleep(0.2) # heavy computation\n",
    "        balance.value = local_copy # update value\n",
    "    \n",
    "    "
   ]
  },
  {
   "cell_type": "markdown",
   "id": "f1e35ce9",
   "metadata": {},
   "source": [
    "**Process Initialization**"
   ]
  },
  {
   "cell_type": "code",
   "execution_count": 4,
   "id": "fbbc837d",
   "metadata": {},
   "outputs": [],
   "source": [
    "processes = []\n",
    "for i in range(5):\n",
    "    p_inc_bal = Process(target=increase_balance, args=(balance, 100, lock))\n",
    "    p_dec_bal = Process(target=decrease_balance, args=(balance, 50, lock))\n",
    "    processes.append(p_inc_bal)\n",
    "    processes.append(p_dec_bal)"
   ]
  },
  {
   "cell_type": "markdown",
   "id": "46fce6bc",
   "metadata": {},
   "source": [
    "**Start a process:**"
   ]
  },
  {
   "cell_type": "code",
   "execution_count": 5,
   "id": "3a4c2d5c",
   "metadata": {},
   "outputs": [],
   "source": [
    "for p in processes:\n",
    "    p.start()"
   ]
  },
  {
   "cell_type": "markdown",
   "id": "9728017a",
   "metadata": {},
   "source": [
    "**Join Process:**\n",
    "- Wait / block the main process untill the completion of other processes. "
   ]
  },
  {
   "cell_type": "code",
   "execution_count": 6,
   "id": "a41ba626",
   "metadata": {},
   "outputs": [],
   "source": [
    "for p in processes:\n",
    "    p.join()"
   ]
  },
  {
   "cell_type": "code",
   "execution_count": 7,
   "id": "af6849cc",
   "metadata": {},
   "outputs": [
    {
     "name": "stdout",
     "output_type": "stream",
     "text": [
      "Final Balance = 350\n"
     ]
    }
   ],
   "source": [
    "print(f\"Final Balance = {balance.value}\")"
   ]
  },
  {
   "cell_type": "markdown",
   "id": "d4fd8c10",
   "metadata": {},
   "source": [
    "## Shared Array"
   ]
  },
  {
   "cell_type": "code",
   "execution_count": 8,
   "id": "2cba53c7",
   "metadata": {},
   "outputs": [],
   "source": [
    "def increase_item_val(sh_array, amount, lock):\n",
    "    \"\"\"\n",
    "    Cannot be accessed this way\n",
    "    for i in sh_array:\n",
    "        i += amount\n",
    "    \"\"\"\n",
    "    for i in range(0, len(sh_array)):\n",
    "        with lock:\n",
    "            time.sleep(0.1)\n",
    "            sh_array[i] += amount\n",
    "\n",
    "def decrease_item_val(sh_array, amount, lock):\n",
    "    for i in range(0, len(sh_array)):\n",
    "        with lock:\n",
    "            time.sleep(0.1)\n",
    "            sh_array[i] -= amount"
   ]
  },
  {
   "cell_type": "code",
   "execution_count": 9,
   "id": "abb1e269",
   "metadata": {},
   "outputs": [
    {
     "name": "stdout",
     "output_type": "stream",
     "text": [
      "Initial Value: [0, 1, 2, 3, 4, 5, 6, 7, 8, 9]\n"
     ]
    }
   ],
   "source": [
    "shared_array = Array('i', [i for i in range(0, 10)])\n",
    "print(f\"Initial Value: {shared_array[:]}\")"
   ]
  },
  {
   "cell_type": "code",
   "execution_count": 10,
   "id": "df61eb0c",
   "metadata": {},
   "outputs": [],
   "source": [
    "lock = Lock()"
   ]
  },
  {
   "cell_type": "code",
   "execution_count": 11,
   "id": "e3842e59",
   "metadata": {},
   "outputs": [],
   "source": [
    "p_inc = Process(target=increase_item_val, args=(shared_array, 10, lock))\n",
    "p_dec = Process(target=decrease_item_val, args=(shared_array, 5, lock))\n"
   ]
  },
  {
   "cell_type": "code",
   "execution_count": 12,
   "id": "587d8e97",
   "metadata": {},
   "outputs": [],
   "source": [
    "p_inc.start()\n",
    "p_dec.start()"
   ]
  },
  {
   "cell_type": "code",
   "execution_count": 13,
   "id": "878e31a7",
   "metadata": {},
   "outputs": [],
   "source": [
    "p_inc.join()\n",
    "p_dec.join()"
   ]
  },
  {
   "cell_type": "code",
   "execution_count": 14,
   "id": "4befe515",
   "metadata": {},
   "outputs": [
    {
     "name": "stdout",
     "output_type": "stream",
     "text": [
      "Final value: [5, 6, 7, 8, 9, 10, 11, 12, 13, 14]\n"
     ]
    }
   ],
   "source": [
    "print(f\"Final value: {shared_array[:]}\")"
   ]
  }
 ],
 "metadata": {
  "kernelspec": {
   "display_name": "Python 3",
   "language": "python",
   "name": "python3"
  },
  "language_info": {
   "codemirror_mode": {
    "name": "ipython",
    "version": 3
   },
   "file_extension": ".py",
   "mimetype": "text/x-python",
   "name": "python",
   "nbconvert_exporter": "python",
   "pygments_lexer": "ipython3",
   "version": "3.8.8"
  }
 },
 "nbformat": 4,
 "nbformat_minor": 5
}
