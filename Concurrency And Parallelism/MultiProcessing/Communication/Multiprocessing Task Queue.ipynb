{
 "cells": [
  {
   "cell_type": "markdown",
   "id": "16f3fcae",
   "metadata": {},
   "source": [
    "# Multiprocessing IPC with Multiple Queues\n",
    "\n",
    "**Problem:**\n",
    "- Process1: Calculate square of a number in a process.\n",
    "- Process2: Calculate the square root of the number we get from the process1.\n",
    "\n",
    "**Archetecting The Solution**\n",
    "![IPC Multiple Queues](./IPCMultipleQueues.jpg)\n",
    "\n",
    "**Resources:**\n",
    "- [Multiprocessing Queue Docs](https://docs.python.org/3/library/multiprocessing.html#multiprocessing.Queue)"
   ]
  },
  {
   "cell_type": "markdown",
   "id": "407d5581",
   "metadata": {},
   "source": [
    "# Solution 1:  Wait between the processes starting time.\n",
    "- Not a recommended solution."
   ]
  },
  {
   "cell_type": "code",
   "execution_count": 1,
   "id": "2ffa7e74",
   "metadata": {},
   "outputs": [],
   "source": [
    "from multiprocessing import Process, Lock\n",
    "from multiprocessing import Queue\n",
    "\n",
    "import math, time"
   ]
  },
  {
   "cell_type": "code",
   "execution_count": 2,
   "id": "b70849db",
   "metadata": {},
   "outputs": [],
   "source": [
    "def calculate_square(sq_q, sqrt_q):\n",
    "    \"\"\"Calculate the square of number in queue\n",
    "        @params: sq_q <Queue>, Queue containing the number whose square is to be calc.\n",
    "        @params: sqrt_q <Queue>, Queue containing the number whose square root is to be calc.\n",
    "    \"\"\"\n",
    "    while not sq_q.empty():\n",
    "        itm = sq_q.get()\n",
    "        print(f\"Calculating sq of: {itm}\")\n",
    "        square = itm * itm\n",
    "        sqrt_q.put(square)\n",
    "\n",
    "def calculate_sqroot(sqrt_q, result_q):\n",
    "    \"\"\"Calculate the sq root of number in queue\n",
    "       @params: sqrt_q <Queue>, Queue containing the number whose sq_root is to be calc.\n",
    "       @params: result_q <Queue>, Queue containing the final result\n",
    "    \"\"\"\n",
    "    while not sqrt_q.empty():\n",
    "        itm = sqrt_q.get()\n",
    "        print(f\"Calculating sqrt of: {itm}\")\n",
    "        sqrt = math.sqrt(itm)\n",
    "        result_q.put(sqrt)"
   ]
  },
  {
   "cell_type": "code",
   "execution_count": 3,
   "id": "014ce9f1",
   "metadata": {},
   "outputs": [],
   "source": [
    "sq_q = Queue()\n",
    "sqrt_q = Queue()\n",
    "result_q = Queue()"
   ]
  },
  {
   "cell_type": "code",
   "execution_count": 4,
   "id": "236a547a",
   "metadata": {},
   "outputs": [],
   "source": [
    "for i in range(5, 20):\n",
    "    sq_q.put(i)"
   ]
  },
  {
   "cell_type": "code",
   "execution_count": 5,
   "id": "c081eac8",
   "metadata": {},
   "outputs": [],
   "source": [
    "p_sq = Process(target=calculate_square, args=(sq_q, sqrt_q))\n",
    "p_sqrt = Process(target=calculate_sqroot, args=(sqrt_q, result_q))"
   ]
  },
  {
   "cell_type": "code",
   "execution_count": 6,
   "id": "5f0cbc97",
   "metadata": {},
   "outputs": [
    {
     "name": "stdout",
     "output_type": "stream",
     "text": [
      "Calculating sq of: 5\n",
      "Calculating sq of: 6\n",
      "Calculating sq of: 7\n",
      "Calculating sq of: 8\n",
      "Calculating sq of: 9\n",
      "Calculating sqrt of: 25Calculating sq of: 10\n",
      "\n",
      "Calculating sq of: 11\n",
      "Calculating sqrt of: 36Calculating sq of: 12\n",
      "\n",
      "Calculating sqrt of: 49Calculating sq of: 13\n",
      "Calculating sqrt of: 64\n",
      "Calculating sq of: 14\n",
      "\n",
      "Calculating sqrt of: 81Calculating sq of: 15\n",
      "\n",
      "Calculating sq of: 16Calculating sqrt of: 100\n",
      "\n",
      "Calculating sqrt of: 121Calculating sq of: 17\n",
      "\n",
      "Calculating sq of: 18\n",
      "Calculating sq of: 19Calculating sqrt of: 144\n",
      "\n",
      "Calculating sqrt of: 169\n",
      "Calculating sqrt of: 196\n",
      "Calculating sqrt of: 225\n",
      "Calculating sqrt of: 256\n",
      "Calculating sqrt of: 289\n",
      "Calculating sqrt of: 324\n",
      "Calculating sqrt of: 361\n"
     ]
    }
   ],
   "source": [
    "p_sq.start()\n",
    "time.sleep(0.1) # wait for 0.1 second\n",
    "p_sqrt.start()"
   ]
  },
  {
   "cell_type": "code",
   "execution_count": 7,
   "id": "be8bf6ce",
   "metadata": {},
   "outputs": [],
   "source": [
    "p_sq.join()\n",
    "p_sqrt.join()"
   ]
  },
  {
   "cell_type": "code",
   "execution_count": 8,
   "id": "9242aac1",
   "metadata": {},
   "outputs": [
    {
     "name": "stdout",
     "output_type": "stream",
     "text": [
      "5.0\n",
      "6.0\n",
      "7.0\n",
      "8.0\n",
      "9.0\n",
      "10.0\n",
      "11.0\n",
      "12.0\n",
      "13.0\n",
      "14.0\n",
      "15.0\n",
      "16.0\n",
      "17.0\n",
      "18.0\n",
      "19.0\n"
     ]
    }
   ],
   "source": [
    "while not result_q.empty():\n",
    "    print(result_q.get())"
   ]
  },
  {
   "cell_type": "markdown",
   "id": "3af26155",
   "metadata": {},
   "source": [
    "# Solution 2: Wait untill the result queue is full\n",
    "\n",
    "**From the Docs:**\n",
    "- [multiprocessing.Queue([maxsize])](https://docs.python.org/3/library/multiprocessing.html#multiprocessing.Queue)\n",
    "\n",
    "- **Queue.full()**\n",
    "> Return True if the queue is empty, False otherwise. Because of multithreading/multiprocessing semantics, this is not reliable.\n",
    "\n",
    "\n",
    "- **Queue.get()**\n",
    "> Remove and return an item from the queue. If **optional args block** is True (the default) and **timeout is None (the default),** block if necessary until an item is available. If timeout is a positive number, it blocks at most timeout seconds and raises the queue.Empty exception if no item was available within that time. Otherwise (block is False), return an item if one is immediately available, else raise the queue.Empty exception (timeout is ignored in that case)."
   ]
  },
  {
   "cell_type": "code",
   "execution_count": 9,
   "id": "ca118b34",
   "metadata": {},
   "outputs": [],
   "source": [
    "def calculate_square(sq_q, sqrt_q):\n",
    "    while not sq_q.empty():\n",
    "        itm = sq_q.get()\n",
    "        print(f\"Calculating sq of: {itm}\")\n",
    "        square = itm * itm\n",
    "        sqrt_q.put(square)\n",
    "\n",
    "def calculate_sqroot(sqrt_q, result_q):\n",
    "    while not result_q.full(): # untill the result queue is full\n",
    "        itm = sqrt_q.get() # this blocks the process unless there's a item to consume\n",
    "        print(f\"Calculating sqrt of: {itm}\")\n",
    "        sqrt = math.sqrt(itm)\n",
    "        result_q.put(sqrt)"
   ]
  },
  {
   "cell_type": "code",
   "execution_count": 10,
   "id": "a2c434ec",
   "metadata": {},
   "outputs": [],
   "source": [
    "items = [i for i in range(5, 20)]"
   ]
  },
  {
   "cell_type": "code",
   "execution_count": 11,
   "id": "9c139363",
   "metadata": {},
   "outputs": [],
   "source": [
    "sq_q = Queue()\n",
    "sqrt_q = Queue()\n",
    "result_q = Queue(maxsize=len(items)) # maximum size, -> Needed to test weather queue is full"
   ]
  },
  {
   "cell_type": "code",
   "execution_count": 12,
   "id": "ae85fe48",
   "metadata": {},
   "outputs": [],
   "source": [
    "for i in items:\n",
    "    sq_q.put(i)"
   ]
  },
  {
   "cell_type": "code",
   "execution_count": 13,
   "id": "f220aa9d",
   "metadata": {},
   "outputs": [],
   "source": [
    "p_sq = Process(target=calculate_square, args=(sq_q, sqrt_q))\n",
    "p_sqrt = Process(target=calculate_sqroot, args=(sqrt_q, result_q))"
   ]
  },
  {
   "cell_type": "code",
   "execution_count": 14,
   "id": "9b14f0cd",
   "metadata": {},
   "outputs": [
    {
     "name": "stdout",
     "output_type": "stream",
     "text": [
      "Calculating sq of: 5\n",
      "Calculating sq of: 6Calculating sqrt of: 25\n",
      "\n",
      "Calculating sq of: 7Calculating sqrt of: 36\n",
      "\n",
      "Calculating sqrt of: 49\n",
      "Calculating sq of: 8\n",
      "Calculating sq of: 9Calculating sqrt of: 64\n",
      "Calculating sq of: 10\n",
      "Calculating sq of: 11\n",
      "Calculating sq of: 12\n",
      "Calculating sq of: 13\n",
      "Calculating sq of: 14\n",
      "\n",
      "Calculating sq of: 15\n",
      "Calculating sqrt of: 81Calculating sq of: 16\n",
      "\n",
      "Calculating sqrt of: 100Calculating sq of: 17\n",
      "Calculating sq of: 18\n",
      "\n",
      "Calculating sqrt of: 121Calculating sq of: 19\n",
      "\n",
      "Calculating sqrt of: 144\n",
      "Calculating sqrt of: 169\n",
      "Calculating sqrt of: 196\n",
      "Calculating sqrt of: 225\n",
      "Calculating sqrt of: 256\n",
      "Calculating sqrt of: 289\n",
      "Calculating sqrt of: 324\n",
      "Calculating sqrt of: 361\n"
     ]
    }
   ],
   "source": [
    "p_sq.start()\n",
    "p_sqrt.start()"
   ]
  },
  {
   "cell_type": "code",
   "execution_count": 15,
   "id": "7d93621e",
   "metadata": {},
   "outputs": [],
   "source": [
    "p_sq.join()\n",
    "p_sqrt.join()"
   ]
  },
  {
   "cell_type": "code",
   "execution_count": 16,
   "id": "0add6ffe",
   "metadata": {},
   "outputs": [
    {
     "name": "stdout",
     "output_type": "stream",
     "text": [
      "5.0\n",
      "6.0\n",
      "7.0\n",
      "8.0\n",
      "9.0\n",
      "10.0\n",
      "11.0\n",
      "12.0\n",
      "13.0\n",
      "14.0\n",
      "15.0\n",
      "16.0\n",
      "17.0\n",
      "18.0\n",
      "19.0\n"
     ]
    }
   ],
   "source": [
    "while not result_q.empty():\n",
    "    print(result_q.get())"
   ]
  },
  {
   "cell_type": "markdown",
   "id": "307985aa",
   "metadata": {},
   "source": [
    "# Solution 3: Using JoinableQueue\n",
    "- [Joinable Queue Docs](https://docs.python.org/3/library/multiprocessing.html#multiprocessing.JoinableQueue)\n",
    "- JoinableQueue, a Queue subclass, is a queue which additionally has **task_done()** and **join()** methods.\n",
    "\n",
    "## Pros from APis:\n",
    "\n",
    "**i. task_done()**\n",
    "> Indicate that a formerly enqueued task is complete. Used by queue consumers. For each ``get()`` used to fetch a task, a subsequent call to ``task_done()`` tells the queue that the processing on the task is complete.\n",
    "\n",
    "\n",
    "> If a ``join()`` is currently blocking, it will resume when all items have been processed (meaning that a ``task_done()`` call was received for every item that had been ``put()`` into the queue).\n",
    "\n",
    "> Raises a ``ValueError`` if called more times than there were items placed in the queue.\n",
    "\n",
    "**ii. join()**\n",
    "> Block until all items in the queue have been gotten and processed.\n",
    "\n",
    "> The count of unfinished tasks goes up whenever an item is added to the queue. The count goes down whenever a consumer calls ``task_done()`` to indicate that the item was retrieved and all work on it is complete. When the count of unfinished tasks drops to zero, ``join()`` unblocks."
   ]
  },
  {
   "cell_type": "code",
   "execution_count": 17,
   "id": "a8d5f8fc",
   "metadata": {},
   "outputs": [],
   "source": [
    "from multiprocessing import JoinableQueue"
   ]
  },
  {
   "cell_type": "code",
   "execution_count": 18,
   "id": "a1e677f8",
   "metadata": {},
   "outputs": [],
   "source": [
    "def calculate_square(sq_q, sqrt_q):\n",
    "    while True:\n",
    "        itm = sq_q.get()\n",
    "        print(f\"Calculating sq of: {itm}\")\n",
    "        square = itm * itm\n",
    "        sqrt_q.put(square)\n",
    "        sq_q.task_done()\n",
    "\n",
    "def calculate_sqroot(sqrt_q, result_q):\n",
    "    while True:\n",
    "        itm = sqrt_q.get() # this blocks the process unless there's a item to consume\n",
    "        print(f\"Calculating sqrt of: {itm}\")\n",
    "        sqrt = math.sqrt(itm)\n",
    "        result_q.put(sqrt)\n",
    "        sqrt_q.task_done()"
   ]
  },
  {
   "cell_type": "code",
   "execution_count": 19,
   "id": "d0c55a92",
   "metadata": {},
   "outputs": [],
   "source": [
    "items = [i for i in range(5, 20)]"
   ]
  },
  {
   "cell_type": "code",
   "execution_count": 20,
   "id": "f8d28563",
   "metadata": {},
   "outputs": [],
   "source": [
    "sq_q = JoinableQueue()\n",
    "sqrt_q = JoinableQueue()\n",
    "result_q = JoinableQueue()"
   ]
  },
  {
   "cell_type": "code",
   "execution_count": 21,
   "id": "cbe001d3",
   "metadata": {},
   "outputs": [],
   "source": [
    "for i in items:\n",
    "    sq_q.put(i)"
   ]
  },
  {
   "cell_type": "code",
   "execution_count": 22,
   "id": "610515a6",
   "metadata": {},
   "outputs": [],
   "source": [
    "p_sq = Process(target=calculate_square, args=(sq_q, sqrt_q))\n",
    "p_sqrt = Process(target=calculate_sqroot, args=(sqrt_q, result_q))"
   ]
  },
  {
   "cell_type": "code",
   "execution_count": 23,
   "id": "9c5af85b",
   "metadata": {},
   "outputs": [
    {
     "name": "stdout",
     "output_type": "stream",
     "text": [
      "Calculating sq of: 5\n",
      "Calculating sq of: 6\n",
      "Calculating sq of: 7Calculating sqrt of: 25\n",
      "\n",
      "Calculating sqrt of: 36\n",
      "Calculating sq of: 8Calculating sqrt of: 49\n",
      "\n",
      "Calculating sq of: 9Calculating sqrt of: 64\n",
      "\n",
      "Calculating sq of: 10Calculating sqrt of: 81\n",
      "\n",
      "Calculating sqrt of: 100Calculating sq of: 11\n",
      "\n",
      "Calculating sq of: 12\n",
      "Calculating sqrt of: 121\n",
      "Calculating sq of: 13\n",
      "Calculating sq of: 14\n",
      "Calculating sqrt of: 144Calculating sq of: 15\n",
      "\n",
      "Calculating sq of: 16\n",
      "Calculating sq of: 17Calculating sqrt of: 169\n",
      "Calculating sq of: 18\n",
      "Calculating sq of: 19\n",
      "\n",
      "Calculating sqrt of: 196\n",
      "Calculating sqrt of: 225\n",
      "Calculating sqrt of: 256\n",
      "Calculating sqrt of: 289\n",
      "Calculating sqrt of: 324\n",
      "Calculating sqrt of: 361\n"
     ]
    }
   ],
   "source": [
    "p_sq.start()\n",
    "p_sqrt.start()"
   ]
  },
  {
   "cell_type": "code",
   "execution_count": 24,
   "id": "adb1b3b4",
   "metadata": {},
   "outputs": [],
   "source": [
    "sq_q.join()\n",
    "sqrt_q.join()\n",
    "# result_q.join() no need to join this queue"
   ]
  },
  {
   "cell_type": "code",
   "execution_count": 25,
   "id": "2097ee9c",
   "metadata": {},
   "outputs": [
    {
     "name": "stdout",
     "output_type": "stream",
     "text": [
      "5.0\n",
      "6.0\n",
      "7.0\n",
      "8.0\n",
      "9.0\n",
      "10.0\n",
      "11.0\n",
      "12.0\n",
      "13.0\n",
      "14.0\n",
      "15.0\n",
      "16.0\n",
      "17.0\n",
      "18.0\n",
      "19.0\n"
     ]
    }
   ],
   "source": [
    "while not result_q.empty():\n",
    "    print(result_q.get())"
   ]
  }
 ],
 "metadata": {
  "kernelspec": {
   "display_name": "Python 3",
   "language": "python",
   "name": "python3"
  },
  "language_info": {
   "codemirror_mode": {
    "name": "ipython",
    "version": 3
   },
   "file_extension": ".py",
   "mimetype": "text/x-python",
   "name": "python",
   "nbconvert_exporter": "python",
   "pygments_lexer": "ipython3",
   "version": "3.8.8"
  }
 },
 "nbformat": 4,
 "nbformat_minor": 5
}
