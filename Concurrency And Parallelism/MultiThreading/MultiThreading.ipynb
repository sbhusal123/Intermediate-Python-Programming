{
 "cells": [
  {
   "cell_type": "markdown",
   "id": "8bb63966",
   "metadata": {},
   "source": [
    "# Imports"
   ]
  },
  {
   "cell_type": "code",
   "execution_count": 1,
   "id": "c6643ea8",
   "metadata": {},
   "outputs": [],
   "source": [
    "from threading import Thread\n",
    "import os\n",
    "import time"
   ]
  },
  {
   "cell_type": "markdown",
   "id": "439eadaf",
   "metadata": {},
   "source": [
    "**Define a Function to be run by multiple threads:**"
   ]
  },
  {
   "cell_type": "code",
   "execution_count": 2,
   "id": "90b0f8f9",
   "metadata": {},
   "outputs": [],
   "source": [
    "def square_number(n):\n",
    "    for i in range(100):\n",
    "        time.sleep(0.1)\n",
    "        i * i"
   ]
  },
  {
   "cell_type": "code",
   "execution_count": 3,
   "id": "3093799c",
   "metadata": {},
   "outputs": [],
   "source": [
    "threads = []\n",
    "num_threads = 10"
   ]
  },
  {
   "cell_type": "markdown",
   "id": "e7382d39",
   "metadata": {},
   "source": [
    "**Define A Process:**"
   ]
  },
  {
   "cell_type": "code",
   "execution_count": 4,
   "id": "7c77d25a",
   "metadata": {},
   "outputs": [],
   "source": [
    "# create processes\n",
    "for _ in range(0, num_threads):\n",
    "    t = Thread(target=square_number, args=(5, )) # target = <callable>, args = <tuple>\n",
    "    threads.append(t)"
   ]
  },
  {
   "cell_type": "markdown",
   "id": "18774b59",
   "metadata": {},
   "source": [
    "**Start A Process:**"
   ]
  },
  {
   "cell_type": "code",
   "execution_count": 5,
   "id": "e07f73ce",
   "metadata": {},
   "outputs": [],
   "source": [
    "for t in threads:\n",
    "    t.start()"
   ]
  },
  {
   "cell_type": "markdown",
   "id": "b29550c9",
   "metadata": {},
   "source": [
    "**Join Processes:**\n",
    "- Block the main process / thread untill completion of these processes."
   ]
  },
  {
   "cell_type": "code",
   "execution_count": 6,
   "id": "8c354222",
   "metadata": {},
   "outputs": [],
   "source": [
    "for t in threads:\n",
    "    t.join()"
   ]
  }
 ],
 "metadata": {
  "kernelspec": {
   "display_name": "Python 3",
   "language": "python",
   "name": "python3"
  },
  "language_info": {
   "codemirror_mode": {
    "name": "ipython",
    "version": 3
   },
   "file_extension": ".py",
   "mimetype": "text/x-python",
   "name": "python",
   "nbconvert_exporter": "python",
   "pygments_lexer": "ipython3",
   "version": "3.8.8"
  }
 },
 "nbformat": 4,
 "nbformat_minor": 5
}
