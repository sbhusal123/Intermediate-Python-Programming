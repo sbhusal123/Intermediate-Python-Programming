{
 "cells": [
  {
   "cell_type": "markdown",
   "id": "de0c261c",
   "metadata": {},
   "source": [
    "**Imports**"
   ]
  },
  {
   "cell_type": "code",
   "execution_count": 1,
   "id": "7de50db4",
   "metadata": {},
   "outputs": [],
   "source": [
    "from threading import Thread, Lock, current_thread # threading core\n",
    "from queue import Queue # queue for safe data exchange\n",
    "\n",
    "import time"
   ]
  },
  {
   "cell_type": "markdown",
   "id": "bef0483f",
   "metadata": {},
   "source": [
    "## Queue Data Structure:"
   ]
  },
  {
   "cell_type": "markdown",
   "id": "486bbdf8",
   "metadata": {},
   "source": [
    "- Linear data structure.\n",
    "- Thread Safe.\n",
    "- Operates in FIFO (First In First Out) principle.\n",
    "- Example: Customer waiting in queue (line) to be served, where a customer who came first is server first.\n",
    "- Can be used as a task queue in multithreading or multiprocessing environment.\n",
    "- [Docs](https://docs.python.org/3/library/queue.html)"
   ]
  },
  {
   "cell_type": "markdown",
   "id": "36e5e228",
   "metadata": {},
   "source": [
    "**Operations In Queue:**"
   ]
  },
  {
   "cell_type": "code",
   "execution_count": 2,
   "id": "159ac020",
   "metadata": {},
   "outputs": [],
   "source": [
    "# Declare queue object\n",
    "q = Queue()"
   ]
  },
  {
   "cell_type": "markdown",
   "id": "2497d036",
   "metadata": {},
   "source": [
    "**insert / put item in queue**"
   ]
  },
  {
   "cell_type": "code",
   "execution_count": 3,
   "id": "3cf5a063",
   "metadata": {},
   "outputs": [],
   "source": [
    "q.put(1) # 1\n",
    "q.put(2) # 2, 1\n",
    "q.put(3) # 3, 2, 1"
   ]
  },
  {
   "cell_type": "markdown",
   "id": "d974a2f4",
   "metadata": {},
   "source": [
    "**Get and remove first item.**"
   ]
  },
  {
   "cell_type": "code",
   "execution_count": 4,
   "id": "db486aff",
   "metadata": {},
   "outputs": [
    {
     "name": "stdout",
     "output_type": "stream",
     "text": [
      "1\n"
     ]
    }
   ],
   "source": [
    "# Get and remove first item.\n",
    "first = q.get()\n",
    "print(first)"
   ]
  },
  {
   "cell_type": "markdown",
   "id": "63d489eb",
   "metadata": {},
   "source": [
    "**Blocking untill items served:**\n",
    "- ``Queue.join()``\n",
    "- Similar to ``Thread.join()`` blocks the main thread.\n",
    "- Blocks until all items in the queue have been gotten and processed.\n",
    "- count of unfinished tasks goes up whenever an item is added **Queue.put(item)** to the queue."
   ]
  },
  {
   "cell_type": "markdown",
   "id": "d7e4b85d",
   "metadata": {},
   "source": [
    "**Completion of Task:**"
   ]
  },
  {
   "cell_type": "markdown",
   "id": "f619b213",
   "metadata": {},
   "source": [
    "- ``Queue.task_done()``\n",
    "- Indicate that a formerly enqueued task is complete\n",
    "- Used by consumer thread (or worker) to notify that the processing of task is completed.\n",
    "\n",
    "> If a Queue.join() is blocking the main thread, it resumes when all items have been processed\n",
    "i.e. for all the item in queue, **task_done()** was called."
   ]
  },
  {
   "cell_type": "markdown",
   "id": "dce85915",
   "metadata": {},
   "source": [
    "## Example: Producer Consumer With Queue\n",
    "- We put the task in the queue.\n",
    "- More than one threads as a consumer (or worker).\n",
    "- Consumer thread randomly picks the data and processed the item in queue."
   ]
  },
  {
   "cell_type": "markdown",
   "id": "25e82211",
   "metadata": {},
   "source": [
    "![Thread Worker Task Queue](./ThreadTaskQueue.png)"
   ]
  },
  {
   "cell_type": "markdown",
   "id": "7ed8af1c",
   "metadata": {},
   "source": [
    "**Define a task queue:**"
   ]
  },
  {
   "cell_type": "code",
   "execution_count": 5,
   "id": "801b993a",
   "metadata": {},
   "outputs": [],
   "source": [
    "task_queue = Queue()\n",
    "lock = Lock()"
   ]
  },
  {
   "cell_type": "markdown",
   "id": "707cb6d4",
   "metadata": {},
   "source": [
    "**Worker method**\n",
    "- Caution: Use a lock for critical section operation."
   ]
  },
  {
   "cell_type": "code",
   "execution_count": 6,
   "id": "651c3cf6",
   "metadata": {},
   "outputs": [],
   "source": [
    "def worker(q, lock):\n",
    "    while True:\n",
    "        item = q.get() # if queue is empty, gets blocked and waits untill items available\n",
    "        \n",
    "        with lock:\n",
    "            print(f'Task: [{item}] recieved by {current_thread()}')\n",
    "            time.sleep(1) # wait for IO bound operation\n",
    "            print(f'Finished processing [{item}]')\n",
    "            print(\"\\n\")\n",
    "        q.task_done()"
   ]
  },
  {
   "cell_type": "markdown",
   "id": "b07ea238",
   "metadata": {},
   "source": [
    "**Consumer: Three worker threads:**\n",
    "- Daemon Thread\n",
    "> The threads which are always going to run in the background that provides supports to main or non-daemon threads, those background executing threads are considered as Daemon Threads. The Daemon Thread does not block the main thread from exiting and continues to run in the background."
   ]
  },
  {
   "cell_type": "code",
   "execution_count": 7,
   "id": "ab2a2bd9",
   "metadata": {},
   "outputs": [],
   "source": [
    "for _ in range(0, 3):\n",
    "    t = Thread(target=worker, args=(task_queue, lock))\n",
    "    t.daemon = True\n",
    "    t.start()"
   ]
  },
  {
   "cell_type": "markdown",
   "id": "38f28155",
   "metadata": {},
   "source": [
    "**Inserting 10 tasks in our task queue:**"
   ]
  },
  {
   "cell_type": "code",
   "execution_count": 8,
   "id": "c560086c",
   "metadata": {},
   "outputs": [
    {
     "name": "stdout",
     "output_type": "stream",
     "text": [
      "Task: [0] recieved by <Thread(Thread-4, started daemon 140542480234240)>\n"
     ]
    }
   ],
   "source": [
    "for task in range(0, 10):\n",
    "    task_queue.put(task)"
   ]
  },
  {
   "cell_type": "markdown",
   "id": "d9fff931",
   "metadata": {},
   "source": [
    "**Wait untill all the items in queue served.**\n",
    "- There's no need to block the threads we created.\n",
    "- Main thread can be itself by calling task_queue.join()"
   ]
  },
  {
   "cell_type": "code",
   "execution_count": 9,
   "id": "33b7e081",
   "metadata": {},
   "outputs": [
    {
     "name": "stdout",
     "output_type": "stream",
     "text": [
      "Finished processing [0]\n",
      "\n",
      "\n",
      "Task: [3] recieved by <Thread(Thread-4, started daemon 140542480234240)>\n",
      "Finished processing [3]\n",
      "\n",
      "\n",
      "Task: [4] recieved by <Thread(Thread-4, started daemon 140542480234240)>\n",
      "Finished processing [4]\n",
      "\n",
      "\n",
      "Task: [5] recieved by <Thread(Thread-4, started daemon 140542480234240)>\n",
      "Finished processing [5]\n",
      "\n",
      "\n",
      "Task: [6] recieved by <Thread(Thread-4, started daemon 140542480234240)>\n",
      "Finished processing [6]\n",
      "\n",
      "\n",
      "Task: [7] recieved by <Thread(Thread-4, started daemon 140542480234240)>\n",
      "Finished processing [7]\n",
      "\n",
      "\n",
      "Task: [2] recieved by <Thread(Thread-5, started daemon 140542000232192)>\n",
      "Finished processing [2]\n",
      "\n",
      "\n",
      "Task: [1] recieved by <Thread(Thread-6, started daemon 140541991839488)>\n",
      "Finished processing [1]\n",
      "\n",
      "\n",
      "Task: [8] recieved by <Thread(Thread-4, started daemon 140542480234240)>\n",
      "Finished processing [8]\n",
      "\n",
      "\n",
      "Task: [9] recieved by <Thread(Thread-5, started daemon 140542000232192)>\n",
      "Finished processing [9]\n",
      "\n",
      "\n"
     ]
    }
   ],
   "source": [
    "task_queue.join()"
   ]
  },
  {
   "cell_type": "markdown",
   "id": "1edad825",
   "metadata": {},
   "source": [
    "**How does the threads die, even though in a worker we've infinite while loop?**\n",
    ">Cause we've demonized the thread, i'e when the main thread stops its execution or is killed,\n",
    "all the other threads are killed.\n",
    "\n",
    "**Template: Alternative implementation without daemonizing the Threads**\n",
    "- Signaling the breaking of infinite while loop.\n",
    "- Worker below can be terminated by putting None in the task queue."
   ]
  },
  {
   "cell_type": "code",
   "execution_count": 10,
   "id": "1e281263",
   "metadata": {},
   "outputs": [],
   "source": [
    "def worker(q, lock):\n",
    "    while True:\n",
    "        item = q.get() # if queue is empty, gets blocked and waits untill items available\n",
    "        if item == None: # signaling the breaking of infinite loop\n",
    "            break\n",
    "        with lock:\n",
    "            print(f'Task: [{item}] recieved by {current_thread()}')\n",
    "            time.sleep(1) # wait for IO bound operation\n",
    "            print(f'Finished processing [{item}]')\n",
    "            print(\"\\n\")\n",
    "        q.task_done()"
   ]
  }
 ],
 "metadata": {
  "kernelspec": {
   "display_name": "Python 3",
   "language": "python",
   "name": "python3"
  },
  "language_info": {
   "codemirror_mode": {
    "name": "ipython",
    "version": 3
   },
   "file_extension": ".py",
   "mimetype": "text/x-python",
   "name": "python",
   "nbconvert_exporter": "python",
   "pygments_lexer": "ipython3",
   "version": "3.8.8"
  }
 },
 "nbformat": 4,
 "nbformat_minor": 5
}
