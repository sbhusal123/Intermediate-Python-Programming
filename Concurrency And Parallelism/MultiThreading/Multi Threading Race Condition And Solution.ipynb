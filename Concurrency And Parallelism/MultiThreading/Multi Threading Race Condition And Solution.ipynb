{
 "cells": [
  {
   "cell_type": "markdown",
   "id": "8bb63966",
   "metadata": {},
   "source": [
    "# Race Condition Example"
   ]
  },
  {
   "cell_type": "markdown",
   "id": "557b3c7a",
   "metadata": {},
   "source": [
    "**Imports**"
   ]
  },
  {
   "cell_type": "code",
   "execution_count": 1,
   "id": "0b705cdb",
   "metadata": {},
   "outputs": [],
   "source": [
    "from threading import Thread\n",
    "import os\n",
    "import time"
   ]
  },
  {
   "cell_type": "markdown",
   "id": "1b3b77d6",
   "metadata": {},
   "source": [
    "**Our global variable: May be stored in database**"
   ]
  },
  {
   "cell_type": "code",
   "execution_count": 2,
   "id": "b8146d7c",
   "metadata": {},
   "outputs": [],
   "source": [
    "balance = 50"
   ]
  },
  {
   "cell_type": "markdown",
   "id": "648faa27",
   "metadata": {},
   "source": [
    "**Methods Performing Transaction:**\n",
    "- Note that we're simulating the IO operation with sleep before saving to global state."
   ]
  },
  {
   "cell_type": "code",
   "execution_count": 3,
   "id": "e53af2f7",
   "metadata": {},
   "outputs": [],
   "source": [
    "def increase_balance(amount):\n",
    "    \"\"\"Increases the balance by passed amout\"\"\"\n",
    "    global balance\n",
    "    bl = balance # local copy\n",
    "    bl += amount # increase balance by amount\n",
    "    \n",
    "    time.sleep(2) # wait / perform IO operation\n",
    "    \n",
    "    balance = bl # write to global state\n",
    "\n",
    "def decrease_balance(amount):\n",
    "    \"\"\"Decreases the balance by passed amout\"\"\"\n",
    "    global balance\n",
    "    bl = balance # local copy\n",
    "    bl -= amount # decrease balance by amount\n",
    "    \n",
    "    time.sleep(2) # wait / perform IO operation\n",
    "    \n",
    "    balance = bl # write to global state"
   ]
  },
  {
   "cell_type": "markdown",
   "id": "1425bb5d",
   "metadata": {},
   "source": [
    "**Initialize the threads:**\n",
    "- Each thread increases / decreases the balance by 100."
   ]
  },
  {
   "cell_type": "code",
   "execution_count": 4,
   "id": "5f818f17",
   "metadata": {},
   "outputs": [],
   "source": [
    "inc_thread = Thread(target=increase_balance, args=(100, )) # increase balance by 100\n",
    "dec_thread = Thread(target=decrease_balance, args=(100,)) # decrease balance by 100"
   ]
  },
  {
   "cell_type": "markdown",
   "id": "3ef0652f",
   "metadata": {},
   "source": [
    "**Start Threads:**"
   ]
  },
  {
   "cell_type": "code",
   "execution_count": 5,
   "id": "06c867cf",
   "metadata": {},
   "outputs": [],
   "source": [
    "inc_thread.start()\n",
    "dec_thread.start()"
   ]
  },
  {
   "cell_type": "markdown",
   "id": "070eed7d",
   "metadata": {},
   "source": [
    "**Join**\n",
    "- Block main thread untill completion of those two threads."
   ]
  },
  {
   "cell_type": "code",
   "execution_count": 6,
   "id": "c6643ea8",
   "metadata": {},
   "outputs": [
    {
     "name": "stdout",
     "output_type": "stream",
     "text": [
      "Balance after transaction is: -50\n"
     ]
    }
   ],
   "source": [
    "inc_thread.join()\n",
    "dec_thread.join()\n",
    "\n",
    "print(f\"Balance after transaction is: {balance}\")"
   ]
  },
  {
   "cell_type": "markdown",
   "id": "f7445206",
   "metadata": {},
   "source": [
    "**What's the issue here ?**\n",
    "- Here we've 2 threads, each increasing and decreasing the balance by 100. Initial balance is 50.\n",
    "- **Expected Result:** ``50+100-100=50``\n",
    "- **Result We're getting:** ``-50``"
   ]
  },
  {
   "cell_type": "markdown",
   "id": "99806cd8",
   "metadata": {},
   "source": [
    "**Why is there's a incostitent balance ?**\n",
    "\n",
    "- While one of the thread (which might be performing increament or decreament ) was sleeping for 2 seconds (performing) IO tasks.\n",
    "\n",
    "- As a thread waiting for IO (sleep) goes into sleep other thread arrived to the point and does the operation.\n",
    "\n",
    "- A **potential race condition.**"
   ]
  },
  {
   "cell_type": "markdown",
   "id": "93a0d7ee",
   "metadata": {},
   "source": [
    "# Solution\n",
    "- Using mutex / lock.\n",
    "- What lock does is, it allows the critical section to be accessed by only one single thread."
   ]
  },
  {
   "cell_type": "markdown",
   "id": "7bc93f26",
   "metadata": {},
   "source": [
    "**Imports**"
   ]
  },
  {
   "cell_type": "code",
   "execution_count": 7,
   "id": "2ab5dc2d",
   "metadata": {},
   "outputs": [],
   "source": [
    "from threading import Lock"
   ]
  },
  {
   "cell_type": "code",
   "execution_count": 8,
   "id": "a6ec9f96",
   "metadata": {},
   "outputs": [],
   "source": [
    "def increase_balance(amount, lock):\n",
    "    \"\"\"Increases the balance by passed amout\"\"\"\n",
    "    global balance\n",
    "    \n",
    "    lock.acquire() # Acquire lock\n",
    "    \n",
    "    bl = balance # local copy\n",
    "    bl += amount # increase balance by amount\n",
    "    time.sleep(2) # wait / perform IO operation\n",
    "    balance = bl # write to global state\n",
    "    \n",
    "    lock.release() # Release lock\n",
    "\n",
    "def decrease_balance(amount, lock):\n",
    "    \"\"\"Decreases the balance by passed amout\"\"\"\n",
    "    global balance\n",
    "    \n",
    "    # lock as a context\n",
    "    with lock:  \n",
    "        bl = balance # local copy\n",
    "        bl -= amount # decrease balance by amount\n",
    "        time.sleep(2) # wait / perform IO operation\n",
    "        balance = bl # write to global state\n",
    "    "
   ]
  },
  {
   "cell_type": "code",
   "execution_count": 9,
   "id": "77a33df1",
   "metadata": {},
   "outputs": [],
   "source": [
    "balance = 50"
   ]
  },
  {
   "cell_type": "markdown",
   "id": "75a08fcf",
   "metadata": {},
   "source": [
    "**Initialize the Lock**"
   ]
  },
  {
   "cell_type": "code",
   "execution_count": 10,
   "id": "14185445",
   "metadata": {},
   "outputs": [],
   "source": [
    "lock = Lock()"
   ]
  },
  {
   "cell_type": "code",
   "execution_count": 12,
   "id": "ae258e0f",
   "metadata": {},
   "outputs": [
    {
     "name": "stdout",
     "output_type": "stream",
     "text": [
      "Balance after transaction is: 50\n"
     ]
    }
   ],
   "source": [
    "inc_thread = Thread(target=increase_balance, args=(100, lock)) # increase balance by 100\n",
    "dec_thread = Thread(target=decrease_balance, args=(100, lock)) # decrease balance by 100\n",
    "\n",
    "inc_thread.start()\n",
    "dec_thread.start()\n",
    "\n",
    "inc_thread.join()\n",
    "dec_thread.join()\n",
    "\n",
    "print(f\"Balance after transaction is: {balance}\")"
   ]
  }
 ],
 "metadata": {
  "kernelspec": {
   "display_name": "Python 3",
   "language": "python",
   "name": "python3"
  },
  "language_info": {
   "codemirror_mode": {
    "name": "ipython",
    "version": 3
   },
   "file_extension": ".py",
   "mimetype": "text/x-python",
   "name": "python",
   "nbconvert_exporter": "python",
   "pygments_lexer": "ipython3",
   "version": "3.8.8"
  }
 },
 "nbformat": 4,
 "nbformat_minor": 5
}
