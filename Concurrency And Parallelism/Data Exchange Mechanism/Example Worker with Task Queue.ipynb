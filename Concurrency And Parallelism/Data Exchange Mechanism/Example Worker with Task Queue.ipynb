{
 "cells": [
  {
   "cell_type": "markdown",
   "id": "dc469e8b",
   "metadata": {},
   "source": [
    "**Imports**"
   ]
  },
  {
   "cell_type": "code",
   "execution_count": 1,
   "id": "69a8c6be",
   "metadata": {},
   "outputs": [],
   "source": [
    "from threading import Thread, Lock, current_thread # threading core\n",
    "from queue import Queue # queue for safe data exchange"
   ]
  },
  {
   "cell_type": "markdown",
   "id": "1e95103b",
   "metadata": {},
   "source": [
    "## Queue Data Structure:"
   ]
  },
  {
   "cell_type": "markdown",
   "id": "9fd06ff8",
   "metadata": {},
   "source": [
    "- Linear data structure.\n",
    "- Thread Safe.\n",
    "- Operates in FIFO (First In First Out) principle.\n",
    "- Example: Customer waiting in queue (line) to be served, where a customer who came first is server first.\n",
    "- Can be used as a task queue in multithreading or multiprocessing environment.\n",
    "- [Docs](https://docs.python.org/3/library/queue.html)"
   ]
  },
  {
   "cell_type": "markdown",
   "id": "118e6e9a",
   "metadata": {},
   "source": [
    "**Operations In Queue:**"
   ]
  },
  {
   "cell_type": "code",
   "execution_count": 2,
   "id": "8818a604",
   "metadata": {},
   "outputs": [],
   "source": [
    "# Declare queue object\n",
    "q = Queue()"
   ]
  },
  {
   "cell_type": "markdown",
   "id": "0471f86a",
   "metadata": {},
   "source": [
    "**insert / put item in queue**"
   ]
  },
  {
   "cell_type": "code",
   "execution_count": 3,
   "id": "ec18a16d",
   "metadata": {},
   "outputs": [],
   "source": [
    "q.put(1) # 1\n",
    "q.put(2) # 2, 1\n",
    "q.put(3) # 3, 2, 1"
   ]
  },
  {
   "cell_type": "markdown",
   "id": "52584e59",
   "metadata": {},
   "source": [
    "**Get and remove first item.**"
   ]
  },
  {
   "cell_type": "code",
   "execution_count": 4,
   "id": "07448afb",
   "metadata": {},
   "outputs": [
    {
     "name": "stdout",
     "output_type": "stream",
     "text": [
      "1\n"
     ]
    }
   ],
   "source": [
    "# Get and remove first item.\n",
    "first = q.get()\n",
    "print(first)"
   ]
  },
  {
   "cell_type": "markdown",
   "id": "f9ce181d",
   "metadata": {},
   "source": [
    "**Blocking untill items served:**\n",
    "- ``Queue.join()``\n",
    "- Similar to ``Thread.join()`` blocks the main thread.\n",
    "- Blocks until all items in the queue have been gotten and processed.\n",
    "- count of unfinished tasks goes up whenever an item is added **Queue.put(item)** to the queue."
   ]
  },
  {
   "cell_type": "markdown",
   "id": "14c6c86a",
   "metadata": {},
   "source": [
    "**Completion of Task:**"
   ]
  },
  {
   "cell_type": "markdown",
   "id": "654894af",
   "metadata": {},
   "source": [
    "- ``Queue.task_done()``\n",
    "- Indicate that a formerly enqueued task is complete\n",
    "- Used by consumer thread (or worker) to notify that the processing of task is completed.\n",
    "\n",
    "> If a Queue.join() is blocking the main thread, it resumes when all items have been processed\n",
    "i.e. for all the item in queue, **task_done()** was called."
   ]
  },
  {
   "cell_type": "markdown",
   "id": "fcafc75e",
   "metadata": {},
   "source": [
    "## Example: Producer Consumer With Queue\n",
    "- We put the task in the queue.\n",
    "- More than one threads as a consumer (or worker).\n",
    "- Consumer thread randomly picks the data and processed the item in queue."
   ]
  },
  {
   "cell_type": "markdown",
   "id": "52284c15",
   "metadata": {},
   "source": [
    "![Thread Worker Task Queue](./ThreadTaskQueue.png)"
   ]
  },
  {
   "cell_type": "markdown",
   "id": "954fb1cb",
   "metadata": {},
   "source": [
    "**Define a task queue:**"
   ]
  },
  {
   "cell_type": "code",
   "execution_count": 5,
   "id": "365a1b9d",
   "metadata": {},
   "outputs": [],
   "source": [
    "task_queue = Queue()"
   ]
  },
  {
   "cell_type": "markdown",
   "id": "78d23aa8",
   "metadata": {},
   "source": [
    "**Worker method**"
   ]
  },
  {
   "cell_type": "code",
   "execution_count": 6,
   "id": "246a7f29",
   "metadata": {},
   "outputs": [],
   "source": [
    "def worker(q):\n",
    "    while True:\n",
    "        item = q.get() # if queue is empty, gets blocked and waits untill items available\n",
    "        print(f'Task: [{item}] recieved by {current_thread()}')\n",
    "        print(f'Finished processing [{item}]')\n",
    "        print(\"\\n\")\n",
    "        q.task_done()"
   ]
  },
  {
   "cell_type": "markdown",
   "id": "8b8f2534",
   "metadata": {},
   "source": [
    "**Consumer: Three worker threads:**\n",
    "- Daemon Thread\n",
    "> The threads which are always going to run in the background that provides supports to main or non-daemon threads, those background executing threads are considered as Daemon Threads. The Daemon Thread does not block the main thread from exiting and continues to run in the background."
   ]
  },
  {
   "cell_type": "code",
   "execution_count": 7,
   "id": "59b3555b",
   "metadata": {},
   "outputs": [],
   "source": [
    "for _ in range(0, 3):\n",
    "    t = Thread(target=worker, args=(task_queue,))\n",
    "    t.daemon = True\n",
    "    t.start()"
   ]
  },
  {
   "cell_type": "markdown",
   "id": "69a4da7c",
   "metadata": {},
   "source": [
    "**Inserting 10 tasks in our task queue:**"
   ]
  },
  {
   "cell_type": "code",
   "execution_count": 8,
   "id": "147ca155",
   "metadata": {},
   "outputs": [
    {
     "name": "stdout",
     "output_type": "stream",
     "text": [
      "Task: [0] recieved by <Thread(Thread-6, started daemon 140705611642624)>\n",
      "Finished processing [0]\n",
      "\n",
      "\n",
      "Task: [1] recieved by <Thread(Thread-5, started daemon 140706031048448)>\n",
      "Finished processing [1]\n",
      "\n",
      "\n",
      "Task: [2] recieved by <Thread(Thread-4, started daemon 140706039441152)>\n",
      "Finished processing [2]\n",
      "\n",
      "\n",
      "Task: [3] recieved by <Thread(Thread-4, started daemon 140706039441152)>\n",
      "Finished processing [3]\n",
      "\n",
      "\n",
      "Task: [4] recieved by <Thread(Thread-4, started daemon 140706039441152)>Task: [5] recieved by <Thread(Thread-5, started daemon 140706031048448)>Task: [6] recieved by <Thread(Thread-6, started daemon 140705611642624)>\n",
      "Finished processing [4]\n",
      "\n",
      "\n",
      "Task: [7] recieved by <Thread(Thread-4, started daemon 140706039441152)>\n",
      "Finished processing [7]\n",
      "\n",
      "\n",
      "\n",
      "Finished processing [5]\n",
      "\n",
      "\n",
      "Task: [8] recieved by <Thread(Thread-5, started daemon 140706031048448)>\n",
      "Finished processing [8]\n",
      "\n",
      "\n",
      "Task: [9] recieved by <Thread(Thread-5, started daemon 140706031048448)>\n",
      "Finished processing [9]\n",
      "\n",
      "\n"
     ]
    }
   ],
   "source": [
    "for task in range(0, 10):\n",
    "    task_queue.put(task)"
   ]
  },
  {
   "cell_type": "markdown",
   "id": "c235430a",
   "metadata": {},
   "source": [
    "**Wait untill all the items in queue served.**\n",
    "- There's no need to block the threads we created.\n",
    "- Main thread can be itself by calling task_queue.join()"
   ]
  },
  {
   "cell_type": "code",
   "execution_count": 9,
   "id": "6ffe2a3f",
   "metadata": {},
   "outputs": [
    {
     "name": "stdout",
     "output_type": "stream",
     "text": [
      "\n",
      "Finished processing [6]\n",
      "\n",
      "\n"
     ]
    }
   ],
   "source": [
    "task_queue.join()"
   ]
  }
 ],
 "metadata": {
  "kernelspec": {
   "display_name": "Python 3",
   "language": "python",
   "name": "python3"
  },
  "language_info": {
   "codemirror_mode": {
    "name": "ipython",
    "version": 3
   },
   "file_extension": ".py",
   "mimetype": "text/x-python",
   "name": "python",
   "nbconvert_exporter": "python",
   "pygments_lexer": "ipython3",
   "version": "3.8.8"
  }
 },
 "nbformat": 4,
 "nbformat_minor": 5
}
