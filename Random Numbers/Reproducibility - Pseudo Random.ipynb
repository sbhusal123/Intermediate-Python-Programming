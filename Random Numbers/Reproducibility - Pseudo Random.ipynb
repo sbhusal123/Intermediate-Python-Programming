{
 "cells": [
  {
   "cell_type": "markdown",
   "id": "4e482b8e",
   "metadata": {},
   "source": [
    "# Reproducibility"
   ]
  },
  {
   "cell_type": "code",
   "execution_count": 1,
   "id": "bf6e994f",
   "metadata": {},
   "outputs": [],
   "source": [
    "import random"
   ]
  },
  {
   "cell_type": "markdown",
   "id": "1cefdfd1",
   "metadata": {},
   "source": [
    "The seed() method is used to initialize the random number generator.\n",
    "\n"
   ]
  },
  {
   "cell_type": "code",
   "execution_count": 17,
   "id": "f4d65d9e",
   "metadata": {
    "scrolled": true
   },
   "outputs": [
    {
     "name": "stdout",
     "output_type": "stream",
     "text": [
      "0.13436424411240122\n",
      "2\n"
     ]
    }
   ],
   "source": [
    "random.seed(1)\n",
    "print(random.random())\n",
    "print(random.randint(1, 10))"
   ]
  },
  {
   "cell_type": "markdown",
   "id": "8bcc0957",
   "metadata": {},
   "source": [
    "**Reseed with 1 value.**"
   ]
  },
  {
   "cell_type": "code",
   "execution_count": 23,
   "id": "1c08db0d",
   "metadata": {},
   "outputs": [
    {
     "name": "stdout",
     "output_type": "stream",
     "text": [
      "0.13436424411240122\n",
      "2\n"
     ]
    }
   ],
   "source": [
    "random.seed(1)\n",
    "print(random.random())\n",
    "print(random.randint(1, 10))"
   ]
  },
  {
   "cell_type": "markdown",
   "id": "e668bb8e",
   "metadata": {},
   "source": [
    "Exactly the same number if seeded(initialized) with same initial value."
   ]
  }
 ],
 "metadata": {
  "kernelspec": {
   "display_name": "Python 3",
   "language": "python",
   "name": "python3"
  },
  "language_info": {
   "codemirror_mode": {
    "name": "ipython",
    "version": 3
   },
   "file_extension": ".py",
   "mimetype": "text/x-python",
   "name": "python",
   "nbconvert_exporter": "python",
   "pygments_lexer": "ipython3",
   "version": "3.8.8"
  }
 },
 "nbformat": 4,
 "nbformat_minor": 5
}
