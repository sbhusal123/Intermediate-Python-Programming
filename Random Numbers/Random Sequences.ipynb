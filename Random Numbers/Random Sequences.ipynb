{
 "cells": [
  {
   "cell_type": "markdown",
   "id": "e71975d7",
   "metadata": {},
   "source": [
    "# Selecting Random Items From Sequences"
   ]
  },
  {
   "cell_type": "code",
   "execution_count": 2,
   "id": "7d920c17",
   "metadata": {},
   "outputs": [],
   "source": [
    "import random"
   ]
  },
  {
   "cell_type": "code",
   "execution_count": 4,
   "id": "f486adc5",
   "metadata": {},
   "outputs": [],
   "source": [
    "mylist = list(\"ABCDEFGHIJKL\")"
   ]
  },
  {
   "cell_type": "markdown",
   "id": "659665c7",
   "metadata": {},
   "source": [
    "**Selecting a single element from Sequence**"
   ]
  },
  {
   "cell_type": "code",
   "execution_count": 9,
   "id": "05c9a275",
   "metadata": {},
   "outputs": [
    {
     "data": {
      "text/plain": [
       "'L'"
      ]
     },
     "execution_count": 9,
     "metadata": {},
     "output_type": "execute_result"
    }
   ],
   "source": [
    "choice = random.choice(mylist)\n",
    "choice"
   ]
  },
  {
   "cell_type": "markdown",
   "id": "2f4ea0d8",
   "metadata": {},
   "source": [
    "**Selecting more no of unique elements:**"
   ]
  },
  {
   "cell_type": "code",
   "execution_count": 55,
   "id": "a7b40532",
   "metadata": {},
   "outputs": [
    {
     "data": {
      "text/plain": [
       "['J', 'F', 'E']"
      ]
     },
     "execution_count": 55,
     "metadata": {},
     "output_type": "execute_result"
    }
   ],
   "source": [
    "choices = random.sample(mylist, 3) # select 3 unique elements\n",
    "choices"
   ]
  },
  {
   "cell_type": "markdown",
   "id": "6e1eeb54",
   "metadata": {},
   "source": [
    "**Allowing selection of elements in repeated manner.**"
   ]
  },
  {
   "cell_type": "code",
   "execution_count": 74,
   "id": "79eb7aaa",
   "metadata": {},
   "outputs": [
    {
     "data": {
      "text/plain": [
       "['I', 'A', 'A']"
      ]
     },
     "execution_count": 74,
     "metadata": {},
     "output_type": "execute_result"
    }
   ],
   "source": [
    "repeated = random.choices(mylist, k=3)\n",
    "repeated"
   ]
  },
  {
   "cell_type": "markdown",
   "id": "d1b280d2",
   "metadata": {},
   "source": [
    "**Shuffling of Sequence:**\n",
    "- Inplace operation"
   ]
  },
  {
   "cell_type": "code",
   "execution_count": 79,
   "id": "7c5fc7c3",
   "metadata": {},
   "outputs": [
    {
     "name": "stdout",
     "output_type": "stream",
     "text": [
      "['C', 'E', 'G', 'B', 'F', 'J', 'I', 'H', 'D', 'K', 'A', 'L']\n"
     ]
    }
   ],
   "source": [
    "random.shuffle(mylist)\n",
    "print(mylist)"
   ]
  }
 ],
 "metadata": {
  "kernelspec": {
   "display_name": "Python 3",
   "language": "python",
   "name": "python3"
  },
  "language_info": {
   "codemirror_mode": {
    "name": "ipython",
    "version": 3
   },
   "file_extension": ".py",
   "mimetype": "text/x-python",
   "name": "python",
   "nbconvert_exporter": "python",
   "pygments_lexer": "ipython3",
   "version": "3.8.8"
  }
 },
 "nbformat": 4,
 "nbformat_minor": 5
}
