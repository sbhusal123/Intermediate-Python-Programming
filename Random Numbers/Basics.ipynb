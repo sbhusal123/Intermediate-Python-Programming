{
 "cells": [
  {
   "cell_type": "markdown",
   "id": "3d380492",
   "metadata": {},
   "source": [
    "# Random Number Generation"
   ]
  },
  {
   "cell_type": "code",
   "execution_count": 2,
   "id": "1788ae3b",
   "metadata": {},
   "outputs": [],
   "source": [
    "import random"
   ]
  },
  {
   "cell_type": "markdown",
   "id": "b3a4a8ac",
   "metadata": {},
   "source": [
    "- Used to generate **Pseudo Random Numbers**\n",
    "- Are reproducible."
   ]
  },
  {
   "cell_type": "markdown",
   "id": "a993df55",
   "metadata": {},
   "source": [
    "**Random float in between 0 to 1.**"
   ]
  },
  {
   "cell_type": "code",
   "execution_count": 121,
   "id": "c07625de",
   "metadata": {},
   "outputs": [
    {
     "data": {
      "text/plain": [
       "0.40880359535160704"
      ]
     },
     "execution_count": 121,
     "metadata": {},
     "output_type": "execute_result"
    }
   ],
   "source": [
    "a = random.random()\n",
    "a"
   ]
  },
  {
   "cell_type": "markdown",
   "id": "7f5d3fe9",
   "metadata": {},
   "source": [
    "**Random numbers in between the custom range.**\n",
    "- Generates float in the given range.\n",
    "- Excludes the upper bound"
   ]
  },
  {
   "cell_type": "code",
   "execution_count": 159,
   "id": "931da7bf",
   "metadata": {},
   "outputs": [
    {
     "data": {
      "text/plain": [
       "9.05827363211442"
      ]
     },
     "execution_count": 159,
     "metadata": {},
     "output_type": "execute_result"
    }
   ],
   "source": [
    "n = random.uniform(1,10)\n",
    "n"
   ]
  },
  {
   "cell_type": "markdown",
   "id": "fd697e0c",
   "metadata": {},
   "source": [
    "**Random Integer in between the range:**\n",
    "- ``random.randint(upper, lower)``\n",
    "- Includes the upper bound."
   ]
  },
  {
   "cell_type": "code",
   "execution_count": 160,
   "id": "f4edfec6",
   "metadata": {},
   "outputs": [
    {
     "data": {
      "text/plain": [
       "5"
      ]
     },
     "execution_count": 160,
     "metadata": {},
     "output_type": "execute_result"
    }
   ],
   "source": [
    "i = random.randint(1, 10)\n",
    "i"
   ]
  },
  {
   "cell_type": "markdown",
   "id": "02242b76",
   "metadata": {},
   "source": [
    "**Excluding the upper bound: Random Integer**"
   ]
  },
  {
   "cell_type": "code",
   "execution_count": 184,
   "id": "e896937a",
   "metadata": {},
   "outputs": [
    {
     "data": {
      "text/plain": [
       "5"
      ]
     },
     "execution_count": 184,
     "metadata": {},
     "output_type": "execute_result"
    }
   ],
   "source": [
    "n1 = random.randrange(1, 10)\n",
    "n1"
   ]
  },
  {
   "cell_type": "markdown",
   "id": "db6bdf5d",
   "metadata": {},
   "source": [
    "**Random Value From Normal Distribution:**\n",
    "- ``random.normalvariate(mean, std)``"
   ]
  },
  {
   "cell_type": "markdown",
   "id": "30b6bba0",
   "metadata": {},
   "source": [
    "![Normal Distribution for Different Mean(\\mu) and mean(\\sigma)](https://upload.wikimedia.org/wikipedia/commons/thumb/7/74/Normal_Distribution_PDF.svg/1200px-Normal_Distribution_PDF.svg.png)"
   ]
  },
  {
   "cell_type": "code",
   "execution_count": 349,
   "id": "ebebb2a6",
   "metadata": {},
   "outputs": [
    {
     "data": {
      "text/plain": [
       "-3.4925389950572434"
      ]
     },
     "execution_count": 349,
     "metadata": {},
     "output_type": "execute_result"
    }
   ],
   "source": [
    "n2 = random.normalvariate(mu=-2, sigma=0.71)\n",
    "n2"
   ]
  },
  {
   "cell_type": "code",
   "execution_count": null,
   "id": "69d7a228",
   "metadata": {},
   "outputs": [],
   "source": []
  }
 ],
 "metadata": {
  "kernelspec": {
   "display_name": "Python 3",
   "language": "python",
   "name": "python3"
  },
  "language_info": {
   "codemirror_mode": {
    "name": "ipython",
    "version": 3
   },
   "file_extension": ".py",
   "mimetype": "text/x-python",
   "name": "python",
   "nbconvert_exporter": "python",
   "pygments_lexer": "ipython3",
   "version": "3.8.8"
  }
 },
 "nbformat": 4,
 "nbformat_minor": 5
}
