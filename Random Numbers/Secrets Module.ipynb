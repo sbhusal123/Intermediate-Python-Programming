{
 "cells": [
  {
   "cell_type": "markdown",
   "id": "a04797f7",
   "metadata": {},
   "source": [
    "# Secrets\n",
    "- Generates true random numbers.\n",
    "- Used for passwords, security tokens, account authentication\n",
    "- Generating secrets value."
   ]
  },
  {
   "cell_type": "code",
   "execution_count": 2,
   "id": "1cbfb438",
   "metadata": {},
   "outputs": [],
   "source": [
    "import secrets"
   ]
  },
  {
   "cell_type": "code",
   "execution_count": 3,
   "id": "f200648a",
   "metadata": {},
   "outputs": [
    {
     "data": {
      "text/plain": [
       "7"
      ]
     },
     "execution_count": 3,
     "metadata": {},
     "output_type": "execute_result"
    }
   ],
   "source": [
    "a = secrets.randbelow(exclusive_upper_bound=10) # exclusive upper bound\n",
    "a"
   ]
  },
  {
   "cell_type": "markdown",
   "id": "0ce0e1e1",
   "metadata": {},
   "source": [
    "**Random bits:**\n",
    "- In case of 4, max upper bound is 15 (1111).\n",
    "- Upper bound inclusive."
   ]
  },
  {
   "cell_type": "code",
   "execution_count": 4,
   "id": "74c0e001",
   "metadata": {},
   "outputs": [
    {
     "data": {
      "text/plain": [
       "2"
      ]
     },
     "execution_count": 4,
     "metadata": {},
     "output_type": "execute_result"
    }
   ],
   "source": [
    "k = secrets.randbits(4)\n",
    "k"
   ]
  },
  {
   "cell_type": "markdown",
   "id": "ebafecb4",
   "metadata": {},
   "source": [
    "**Random Choices From Collection**"
   ]
  },
  {
   "cell_type": "code",
   "execution_count": 13,
   "id": "623bf406",
   "metadata": {},
   "outputs": [
    {
     "data": {
      "text/plain": [
       "'W'"
      ]
     },
     "execution_count": 13,
     "metadata": {},
     "output_type": "execute_result"
    }
   ],
   "source": [
    "mylist = list(\"ABCDEFGHIJKLMNOPQRSTUVWXYZ\")\n",
    "a = secrets.choice(mylist)\n",
    "a"
   ]
  }
 ],
 "metadata": {
  "kernelspec": {
   "display_name": "Python 3",
   "language": "python",
   "name": "python3"
  },
  "language_info": {
   "codemirror_mode": {
    "name": "ipython",
    "version": 3
   },
   "file_extension": ".py",
   "mimetype": "text/x-python",
   "name": "python",
   "nbconvert_exporter": "python",
   "pygments_lexer": "ipython3",
   "version": "3.8.8"
  }
 },
 "nbformat": 4,
 "nbformat_minor": 5
}
