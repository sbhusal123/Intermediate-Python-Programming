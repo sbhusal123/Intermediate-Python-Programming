{
 "cells": [
  {
   "cell_type": "markdown",
   "id": "3a1e1100",
   "metadata": {},
   "source": [
    "# Numpy Random Number Generation"
   ]
  },
  {
   "cell_type": "code",
   "execution_count": 4,
   "id": "5da1e3a7",
   "metadata": {},
   "outputs": [],
   "source": [
    "import numpy as np"
   ]
  },
  {
   "cell_type": "markdown",
   "id": "949aa4b2",
   "metadata": {},
   "source": [
    "**Arrays With Random Floats**"
   ]
  },
  {
   "cell_type": "code",
   "execution_count": 10,
   "id": "cd706a9a",
   "metadata": {},
   "outputs": [
    {
     "data": {
      "text/plain": [
       "array([0.45255545, 0.45913695, 0.90004096])"
      ]
     },
     "execution_count": 10,
     "metadata": {},
     "output_type": "execute_result"
    }
   ],
   "source": [
    "a = np.random.rand(3) # size = 3\n",
    "a"
   ]
  },
  {
   "cell_type": "markdown",
   "id": "cbdb5412",
   "metadata": {},
   "source": [
    "**Multidimensional Arrays**"
   ]
  },
  {
   "cell_type": "code",
   "execution_count": 13,
   "id": "3c9caf3a",
   "metadata": {},
   "outputs": [
    {
     "data": {
      "text/plain": [
       "array([[0.50778504, 0.80723085, 0.35785236],\n",
       "       [0.8241404 , 0.70455733, 0.14269237],\n",
       "       [0.44301609, 0.91960871, 0.26260861]])"
      ]
     },
     "execution_count": 13,
     "metadata": {},
     "output_type": "execute_result"
    }
   ],
   "source": [
    "a = np.random.rand(3, 3)\n",
    "a"
   ]
  },
  {
   "cell_type": "markdown",
   "id": "462b082e",
   "metadata": {},
   "source": [
    "**Random Integers in a Range:**"
   ]
  },
  {
   "cell_type": "code",
   "execution_count": 97,
   "id": "90ad873b",
   "metadata": {},
   "outputs": [
    {
     "data": {
      "text/plain": [
       "-6"
      ]
     },
     "execution_count": 97,
     "metadata": {},
     "output_type": "execute_result"
    }
   ],
   "source": [
    "n1 = np.random.randint(-10, 10) # 10 is excluded upper bound: [-10, 10)\n",
    "n1"
   ]
  },
  {
   "cell_type": "markdown",
   "id": "5ae4cb60",
   "metadata": {},
   "source": [
    "**Multidim Random Integers in Range**"
   ]
  },
  {
   "cell_type": "code",
   "execution_count": 118,
   "id": "1a337698",
   "metadata": {},
   "outputs": [
    {
     "data": {
      "text/plain": [
       "array([[89, 76, 11, 71, 49],\n",
       "       [92, 19, 97, 47, 55],\n",
       "       [92, 54, 20, 38, 75],\n",
       "       [20, 35, 41, 53, 86],\n",
       "       [50, 81, 42, 66, 16]])"
      ]
     },
     "execution_count": 118,
     "metadata": {},
     "output_type": "execute_result"
    }
   ],
   "source": [
    "n2 = np.random.randint(10, 100, (5, 5)) # range: [10, 100), size = (5, 5)\n",
    "n2"
   ]
  },
  {
   "cell_type": "markdown",
   "id": "e721c863",
   "metadata": {},
   "source": [
    "**Shuffling An Array:**\n",
    "- By defaults shuffles the element in first axis."
   ]
  },
  {
   "cell_type": "code",
   "execution_count": 123,
   "id": "0493f6c8",
   "metadata": {},
   "outputs": [
    {
     "name": "stdout",
     "output_type": "stream",
     "text": [
      "Before Shuffling\n",
      "[[1 2 3]\n",
      " [4 5 6]\n",
      " [7 8 9]]\n",
      "After Shuffling\n",
      "[[1 2 3]\n",
      " [4 5 6]\n",
      " [7 8 9]]\n"
     ]
    }
   ],
   "source": [
    "arr = np.array([[1, 2, 3], [4, 5, 6], [7, 8, 9]])\n",
    "\n",
    "print(\"Before Shuffling\")\n",
    "print(arr)\n",
    "\n",
    "print(\"After Shuffling\")\n",
    "np.random.shuffle(arr)\n",
    "print(arr)"
   ]
  },
  {
   "cell_type": "markdown",
   "id": "2bf5a3b2",
   "metadata": {},
   "source": [
    "**Shuffling accross 2nd axis**"
   ]
  },
  {
   "cell_type": "code",
   "execution_count": 143,
   "id": "4f61d0a4",
   "metadata": {},
   "outputs": [
    {
     "data": {
      "text/plain": [
       "array([[2, 3, 1],\n",
       "       [5, 4, 6],\n",
       "       [8, 9, 7]])"
      ]
     },
     "execution_count": 143,
     "metadata": {},
     "output_type": "execute_result"
    }
   ],
   "source": [
    "list(map(numpy.random.shuffle, arr))\n",
    "arr"
   ]
  }
 ],
 "metadata": {
  "kernelspec": {
   "display_name": "Python 3",
   "language": "python",
   "name": "python3"
  },
  "language_info": {
   "codemirror_mode": {
    "name": "ipython",
    "version": 3
   },
   "file_extension": ".py",
   "mimetype": "text/x-python",
   "name": "python",
   "nbconvert_exporter": "python",
   "pygments_lexer": "ipython3",
   "version": "3.8.8"
  }
 },
 "nbformat": 4,
 "nbformat_minor": 5
}
