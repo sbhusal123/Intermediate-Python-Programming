{
 "cells": [
  {
   "cell_type": "markdown",
   "id": "4fd613e1",
   "metadata": {},
   "source": [
    "# Numpy Random Number Generation"
   ]
  },
  {
   "cell_type": "code",
   "execution_count": 4,
   "id": "5544c191",
   "metadata": {},
   "outputs": [],
   "source": [
    "import numpy as np"
   ]
  },
  {
   "cell_type": "markdown",
   "id": "b1a8a18b",
   "metadata": {},
   "source": [
    "**Arrays With Random Floats**"
   ]
  },
  {
   "cell_type": "code",
   "execution_count": 10,
   "id": "fcb5cd25",
   "metadata": {},
   "outputs": [
    {
     "data": {
      "text/plain": [
       "array([0.45255545, 0.45913695, 0.90004096])"
      ]
     },
     "execution_count": 10,
     "metadata": {},
     "output_type": "execute_result"
    }
   ],
   "source": [
    "a = np.random.rand(3) # size = 3\n",
    "a"
   ]
  },
  {
   "cell_type": "markdown",
   "id": "d2823d50",
   "metadata": {},
   "source": [
    "**Multidimensional Arrays**"
   ]
  },
  {
   "cell_type": "code",
   "execution_count": 13,
   "id": "789b8402",
   "metadata": {},
   "outputs": [
    {
     "data": {
      "text/plain": [
       "array([[0.50778504, 0.80723085, 0.35785236],\n",
       "       [0.8241404 , 0.70455733, 0.14269237],\n",
       "       [0.44301609, 0.91960871, 0.26260861]])"
      ]
     },
     "execution_count": 13,
     "metadata": {},
     "output_type": "execute_result"
    }
   ],
   "source": [
    "a = np.random.rand(3, 3)\n",
    "a"
   ]
  },
  {
   "cell_type": "markdown",
   "id": "a996e499",
   "metadata": {},
   "source": [
    "**Random Integers in a Range:**"
   ]
  },
  {
   "cell_type": "code",
   "execution_count": 97,
   "id": "629a6ec8",
   "metadata": {},
   "outputs": [
    {
     "data": {
      "text/plain": [
       "-6"
      ]
     },
     "execution_count": 97,
     "metadata": {},
     "output_type": "execute_result"
    }
   ],
   "source": [
    "n1 = np.random.randint(-10, 10) # 10 is excluded upper bound: [-10, 10)\n",
    "n1"
   ]
  },
  {
   "cell_type": "markdown",
   "id": "5d328015",
   "metadata": {},
   "source": [
    "**Multidim Random Integers in Range**"
   ]
  },
  {
   "cell_type": "code",
   "execution_count": 118,
   "id": "11ea9d2e",
   "metadata": {},
   "outputs": [
    {
     "data": {
      "text/plain": [
       "array([[89, 76, 11, 71, 49],\n",
       "       [92, 19, 97, 47, 55],\n",
       "       [92, 54, 20, 38, 75],\n",
       "       [20, 35, 41, 53, 86],\n",
       "       [50, 81, 42, 66, 16]])"
      ]
     },
     "execution_count": 118,
     "metadata": {},
     "output_type": "execute_result"
    }
   ],
   "source": [
    "n2 = np.random.randint(10, 100, (5, 5)) # range: [10, 100), size = (5, 5)\n",
    "n2"
   ]
  },
  {
   "cell_type": "markdown",
   "id": "df8ada35",
   "metadata": {},
   "source": [
    "**Shuffling An Array:**\n",
    "- By defaults shuffles the element in first axis."
   ]
  },
  {
   "cell_type": "code",
   "execution_count": 123,
   "id": "c88387b6",
   "metadata": {},
   "outputs": [
    {
     "name": "stdout",
     "output_type": "stream",
     "text": [
      "Before Shuffling\n",
      "[[1 2 3]\n",
      " [4 5 6]\n",
      " [7 8 9]]\n",
      "After Shuffling\n",
      "[[1 2 3]\n",
      " [4 5 6]\n",
      " [7 8 9]]\n"
     ]
    }
   ],
   "source": [
    "arr = np.array([[1, 2, 3], [4, 5, 6], [7, 8, 9]])\n",
    "\n",
    "print(\"Before Shuffling\")\n",
    "print(arr)\n",
    "\n",
    "print(\"After Shuffling\")\n",
    "np.random.shuffle(arr)\n",
    "print(arr)"
   ]
  },
  {
   "cell_type": "markdown",
   "id": "ab8dfe0f",
   "metadata": {},
   "source": [
    "**Shuffling accross 2nd axis**"
   ]
  },
  {
   "cell_type": "code",
   "execution_count": 143,
   "id": "0577f81d",
   "metadata": {},
   "outputs": [
    {
     "data": {
      "text/plain": [
       "array([[2, 3, 1],\n",
       "       [5, 4, 6],\n",
       "       [8, 9, 7]])"
      ]
     },
     "execution_count": 143,
     "metadata": {},
     "output_type": "execute_result"
    }
   ],
   "source": [
    "list(map(numpy.random.shuffle, arr))\n",
    "arr"
   ]
  },
  {
   "cell_type": "markdown",
   "id": "147511ae",
   "metadata": {},
   "source": [
    "**Reproducibility**"
   ]
  },
  {
   "cell_type": "code",
   "execution_count": 158,
   "id": "89fcd6f8",
   "metadata": {},
   "outputs": [
    {
     "data": {
      "text/plain": [
       "array([1, 1])"
      ]
     },
     "execution_count": 158,
     "metadata": {},
     "output_type": "execute_result"
    }
   ],
   "source": [
    "np.random.seed(1)\n",
    "\n",
    "np.random.randint((2,2))"
   ]
  },
  {
   "cell_type": "code",
   "execution_count": 161,
   "id": "51bb3d82",
   "metadata": {},
   "outputs": [
    {
     "data": {
      "text/plain": [
       "array([1, 1])"
      ]
     },
     "execution_count": 161,
     "metadata": {},
     "output_type": "execute_result"
    }
   ],
   "source": [
    "np.random.seed(1)\n",
    "\n",
    "np.random.randint((2,2))"
   ]
  }
 ],
 "metadata": {
  "kernelspec": {
   "display_name": "Python 3",
   "language": "python",
   "name": "python3"
  },
  "language_info": {
   "codemirror_mode": {
    "name": "ipython",
    "version": 3
   },
   "file_extension": ".py",
   "mimetype": "text/x-python",
   "name": "python",
   "nbconvert_exporter": "python",
   "pygments_lexer": "ipython3",
   "version": "3.8.8"
  }
 },
 "nbformat": 4,
 "nbformat_minor": 5
}
