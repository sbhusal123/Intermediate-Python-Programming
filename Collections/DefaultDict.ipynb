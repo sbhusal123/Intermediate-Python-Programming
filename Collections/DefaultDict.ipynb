{
 "cells": [
  {
   "cell_type": "markdown",
   "id": "435a7c62",
   "metadata": {},
   "source": [
    "# defaultdict\n",
    "- dict subclass that calls a factory function to supply missing values\n",
    "- Default value if not key has no been set yet."
   ]
  },
  {
   "cell_type": "code",
   "execution_count": 1,
   "id": "2cbf762c",
   "metadata": {},
   "outputs": [],
   "source": [
    "from collections import defaultdict"
   ]
  },
  {
   "cell_type": "markdown",
   "id": "b516d82e",
   "metadata": {},
   "source": [
    "**Creation / Initialization**\n",
    "- ``<var> = defaultdict(<default_type>)``"
   ]
  },
  {
   "cell_type": "code",
   "execution_count": 5,
   "id": "7615a81c",
   "metadata": {},
   "outputs": [
    {
     "name": "stdout",
     "output_type": "stream",
     "text": [
      "0\n"
     ]
    }
   ],
   "source": [
    "dd = defaultdict(int)\n",
    "\n",
    "# Adding item as a normal dict\n",
    "dd[\"a\"] = 1\n",
    "dd[\"b\"] = 2\n",
    "dd[\"c\"] = 2\n",
    "\n",
    "print(dd[\"missing_key\"]) # gives a default value instead of KeyError"
   ]
  }
 ],
 "metadata": {
  "kernelspec": {
   "display_name": "Python 3",
   "language": "python",
   "name": "python3"
  },
  "language_info": {
   "codemirror_mode": {
    "name": "ipython",
    "version": 3
   },
   "file_extension": ".py",
   "mimetype": "text/x-python",
   "name": "python",
   "nbconvert_exporter": "python",
   "pygments_lexer": "ipython3",
   "version": "3.8.8"
  }
 },
 "nbformat": 4,
 "nbformat_minor": 5
}
