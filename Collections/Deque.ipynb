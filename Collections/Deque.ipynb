{
 "cells": [
  {
   "cell_type": "markdown",
   "id": "01cbec99",
   "metadata": {},
   "source": [
    "# deque\n",
    "- Double ended queue.\n",
    "- Can operate in FIFO as well as LIFO order."
   ]
  },
  {
   "cell_type": "code",
   "execution_count": 1,
   "id": "3fa677f5",
   "metadata": {},
   "outputs": [],
   "source": [
    "from collections import deque"
   ]
  },
  {
   "cell_type": "markdown",
   "id": "7024a99f",
   "metadata": {},
   "source": [
    "**i. Creation / Initialization**\n",
    "- ``d = deque()``"
   ]
  },
  {
   "cell_type": "code",
   "execution_count": 2,
   "id": "53c1c684",
   "metadata": {},
   "outputs": [],
   "source": [
    "d = deque()"
   ]
  },
  {
   "cell_type": "markdown",
   "id": "cf69fbb8",
   "metadata": {},
   "source": [
    "**ii. Insert element, Left/right:**\n",
    "- ``<deque>.append(item)`` appends item to right.\n",
    "- ``<deque>.appendleft(item)`` appends item to left."
   ]
  },
  {
   "cell_type": "code",
   "execution_count": 3,
   "id": "7a8b3f2a",
   "metadata": {},
   "outputs": [
    {
     "name": "stdout",
     "output_type": "stream",
     "text": [
      "Append 4 to right:  deque([1, 2, 3, 4])\n",
      "Append 100 to left:  deque([100, 1, 2, 3, 4])\n"
     ]
    }
   ],
   "source": [
    "d = deque([1, 2, 3])\n",
    "\n",
    "# Append right\n",
    "d.append(4)\n",
    "\n",
    "print(\"Append 4 to right: \",d)\n",
    "\n",
    "# Append left.\n",
    "d.appendleft(100)\n",
    "print(\"Append 100 to left: \",d)"
   ]
  },
  {
   "cell_type": "markdown",
   "id": "a2f85925",
   "metadata": {},
   "source": [
    " **iii. Pop / remove / get item left/right**\n",
    " - ``<deque>.pop()`` pops item from right.\n",
    " - ``<deque>.popleft()`` pops item from left."
   ]
  },
  {
   "cell_type": "code",
   "execution_count": 4,
   "id": "7a94eead",
   "metadata": {},
   "outputs": [
    {
     "name": "stdout",
     "output_type": "stream",
     "text": [
      "3\n",
      "After poping from right: deque([1, 2])\n",
      "1\n",
      "Append poping to left: deque([2])\n"
     ]
    }
   ],
   "source": [
    "d = deque([1, 2, 3])\n",
    "\n",
    "# Pop right\n",
    "print(d.pop())\n",
    "\n",
    "print(\"After poping from right:\", d)\n",
    "\n",
    "# Pop left\n",
    "print(d.popleft())\n",
    "print(\"Append poping to left:\", d)"
   ]
  },
  {
   "cell_type": "markdown",
   "id": "407940fe",
   "metadata": {},
   "source": [
    "**iv. Insert at specific index:**\n",
    "- ``<deque>.insert(index, item)``\n"
   ]
  },
  {
   "cell_type": "code",
   "execution_count": 5,
   "id": "b3518b63",
   "metadata": {},
   "outputs": [
    {
     "name": "stdout",
     "output_type": "stream",
     "text": [
      "After inserting 2 at 5th position:  deque([1, 2, 5, 3])\n"
     ]
    }
   ],
   "source": [
    "x = deque([1, 2, 3])\n",
    "\n",
    "x.insert(2, 5)\n",
    "\n",
    "print(\"After inserting 2 at 5th position: \", x)"
   ]
  },
  {
   "cell_type": "markdown",
   "id": "75310330",
   "metadata": {},
   "source": [
    "**v. Reverse**\n",
    "- ``<deque>.reverse()``"
   ]
  },
  {
   "cell_type": "code",
   "execution_count": 6,
   "id": "fbf4ee76",
   "metadata": {},
   "outputs": [
    {
     "name": "stdout",
     "output_type": "stream",
     "text": [
      "After reversing:  deque([3, 2, 1])\n"
     ]
    }
   ],
   "source": [
    "x = deque([1, 2, 3])\n",
    "\n",
    "x.reverse()\n",
    "\n",
    "print(\"After reversing: \", x)"
   ]
  },
  {
   "cell_type": "markdown",
   "id": "caa01457",
   "metadata": {},
   "source": [
    "**vi. Rotate by steps**\n",
    "- ``<deque>.rotate(step)``"
   ]
  },
  {
   "cell_type": "code",
   "execution_count": 7,
   "id": "5ee30c43",
   "metadata": {},
   "outputs": [
    {
     "name": "stdout",
     "output_type": "stream",
     "text": [
      "After rotating by 2:  deque([3, 4, 1, 2])\n"
     ]
    }
   ],
   "source": [
    "x = deque([1, 2, 3, 4])\n",
    "\n",
    "x.rotate(2)\n",
    "\n",
    "print(\"After rotating by 2: \", x)"
   ]
  }
 ],
 "metadata": {
  "kernelspec": {
   "display_name": "Python 3",
   "language": "python",
   "name": "python3"
  },
  "language_info": {
   "codemirror_mode": {
    "name": "ipython",
    "version": 3
   },
   "file_extension": ".py",
   "mimetype": "text/x-python",
   "name": "python",
   "nbconvert_exporter": "python",
   "pygments_lexer": "ipython3",
   "version": "3.8.8"
  }
 },
 "nbformat": 4,
 "nbformat_minor": 5
}
