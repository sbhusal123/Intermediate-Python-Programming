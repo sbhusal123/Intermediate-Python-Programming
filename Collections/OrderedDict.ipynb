{
 "cells": [
  {
   "cell_type": "markdown",
   "id": "99ba84a6",
   "metadata": {},
   "source": [
    "# OrderedDict\n",
    "- Subclass of a dictionary data type.\n",
    "- Has methods specialized for rearranging dictionary order."
   ]
  },
  {
   "cell_type": "code",
   "execution_count": 1,
   "id": "e2f63fa9",
   "metadata": {},
   "outputs": [],
   "source": [
    "from collections import OrderedDict"
   ]
  },
  {
   "cell_type": "markdown",
   "id": "11249a83",
   "metadata": {},
   "source": [
    "**i. Creation / Initialization**\n",
    "- OrderedDict()\n",
    "- From Keys, value initialized to None: ``OrderedDict.fromkeys(<keys>)``"
   ]
  },
  {
   "cell_type": "code",
   "execution_count": 2,
   "id": "ca9dd411",
   "metadata": {},
   "outputs": [
    {
     "name": "stdout",
     "output_type": "stream",
     "text": [
      "OrderedDict([('b', 25), ('c', 200), ('a', 129)])\n",
      "OrderedDict([('a', None), ('b', None), ('c', None), ('d', None), ('e', None)])\n"
     ]
    }
   ],
   "source": [
    "od1 = OrderedDict()\n",
    "od1[\"b\"] = 25\n",
    "od1[\"c\"] = 200\n",
    "od1[\"a\"] = 129\n",
    "print(od1)\n",
    "\n",
    "# From Keys\n",
    "od2 = OrderedDict.fromkeys('abcde')\n",
    "print(od2)"
   ]
  },
  {
   "cell_type": "markdown",
   "id": "558cbe8d",
   "metadata": {},
   "source": [
    "**ii. Popitem / Get items:**\n",
    "- Returns and removes a (key, value) pair.\n",
    "- Removes in LIFO order: ``<OrderedDict>.popitem(last=True)``\n",
    "- Removes in FIFO order: ``<OrderedDict>.popitem(last=False)``\n",
    "- By Default: ``last=True``"
   ]
  },
  {
   "cell_type": "code",
   "execution_count": 3,
   "id": "872edce5",
   "metadata": {},
   "outputs": [
    {
     "name": "stdout",
     "output_type": "stream",
     "text": [
      "Ordered Dict:  OrderedDict([('a', 25), ('b', 200), ('c', 129), ('d', 383)])\n",
      "Removed Item LIFO Order:  ('d', 383)\n",
      "Removed Item FIFO Order:  ('a', 25)\n",
      "Remaining Items:  OrderedDict([('b', 200)])\n"
     ]
    }
   ],
   "source": [
    "od1 = OrderedDict()\n",
    "od1[\"a\"] = 25\n",
    "od1[\"b\"] = 200\n",
    "od1[\"c\"] = 129\n",
    "od1[\"d\"] = 383\n",
    "\n",
    "print(\"Ordered Dict: \",od1)\n",
    "print(\"Removed Item LIFO Order: \",od1.popitem(last=True))\n",
    "print(\"Removed Item FIFO Order: \",od1.popitem(last=False))\n",
    "od1.popitem()\n",
    "print(\"Remaining Items: \",od1)"
   ]
  },
  {
   "cell_type": "markdown",
   "id": "f934b9d7",
   "metadata": {},
   "source": [
    "**iii. Moving key,val to end**\n",
    "- ``<OrderedDict>.move_to_end(<key>, last=<bool>)``\n",
    "- If ``last=True``, moves key,val to end.\n",
    "- If ``last=False``, moces key,val to first."
   ]
  },
  {
   "cell_type": "code",
   "execution_count": 4,
   "id": "8b767be2",
   "metadata": {},
   "outputs": [
    {
     "name": "stdout",
     "output_type": "stream",
     "text": [
      "After moving key a to end:  OrderedDict([('b', 200), ('c', 129), ('d', 383), ('a', 25)])\n",
      "After moving key c to first:  OrderedDict([('c', 129), ('b', 200), ('d', 383), ('a', 25)])\n"
     ]
    }
   ],
   "source": [
    "od1 = OrderedDict()\n",
    "od1[\"a\"] = 25\n",
    "od1[\"b\"] = 200\n",
    "od1[\"c\"] = 129\n",
    "od1[\"d\"] = 383\n",
    "\n",
    "# Move to end\n",
    "od1.move_to_end('a', last=True)\n",
    "print(\"After moving key a to end: \", od1)\n",
    "\n",
    "# Move to beginning\n",
    "od1.move_to_end('c', last=False)\n",
    "print(\"After moving key c to first: \", od1)"
   ]
  }
 ],
 "metadata": {
  "kernelspec": {
   "display_name": "Python 3",
   "language": "python",
   "name": "python3"
  },
  "language_info": {
   "codemirror_mode": {
    "name": "ipython",
    "version": 3
   },
   "file_extension": ".py",
   "mimetype": "text/x-python",
   "name": "python",
   "nbconvert_exporter": "python",
   "pygments_lexer": "ipython3",
   "version": "3.8.8"
  }
 },
 "nbformat": 4,
 "nbformat_minor": 5
}
