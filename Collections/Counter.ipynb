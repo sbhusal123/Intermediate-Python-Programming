{
 "cells": [
  {
   "cell_type": "markdown",
   "id": "e30a40a0",
   "metadata": {},
   "source": [
    "# Counters\n",
    "- Container DataType\n",
    "- Elements stored as key and their counts as dictionary values.\n",
    "- dict subclass for counting hashable objects\n",
    "- Unordered"
   ]
  },
  {
   "cell_type": "code",
   "execution_count": 1,
   "id": "71fda8a7",
   "metadata": {},
   "outputs": [],
   "source": [
    "from collections import Counter"
   ]
  },
  {
   "cell_type": "markdown",
   "id": "83805239",
   "metadata": {},
   "source": [
    "**i. Creation / Initilization**"
   ]
  },
  {
   "cell_type": "code",
   "execution_count": 2,
   "id": "0a455655",
   "metadata": {},
   "outputs": [
    {
     "name": "stdout",
     "output_type": "stream",
     "text": [
      "Counter({'l': 2, 'H': 1, 'e': 1, 'o': 1})\n",
      "Counter({'c': 5, 'b': 3, 'a': 2})\n",
      "Counter({'c': 5, 'b': 3, 'a': 2})\n"
     ]
    }
   ],
   "source": [
    "c1 = Counter(\"Hello\")\n",
    "c2 = Counter({\"a\": 2, \"b\": 3, \"c\":5})\n",
    "c3 = Counter(a=2, b=3, c=5)\n",
    "\n",
    "print(c1)\n",
    "print(c2)\n",
    "print(c3)"
   ]
  },
  {
   "cell_type": "markdown",
   "id": "b4933127",
   "metadata": {},
   "source": [
    "**return a zero count for missing items instead of raising a KeyError**"
   ]
  },
  {
   "cell_type": "code",
   "execution_count": 3,
   "id": "03b91543",
   "metadata": {},
   "outputs": [
    {
     "data": {
      "text/plain": [
       "0"
      ]
     },
     "execution_count": 3,
     "metadata": {},
     "output_type": "execute_result"
    }
   ],
   "source": [
    "c1[\"akey\"]"
   ]
  },
  {
   "cell_type": "markdown",
   "id": "3b4d680d",
   "metadata": {},
   "source": [
    "**Elements with counts negative is ignored.**"
   ]
  },
  {
   "cell_type": "code",
   "execution_count": 4,
   "id": "c5c33464",
   "metadata": {},
   "outputs": [
    {
     "data": {
      "text/plain": [
       "['y', 'y']"
      ]
     },
     "execution_count": 4,
     "metadata": {},
     "output_type": "execute_result"
    }
   ],
   "source": [
    "c = Counter(x=-5, y=2, z=-2)\n",
    "list(c.elements())"
   ]
  },
  {
   "cell_type": "markdown",
   "id": "3c2323bf",
   "metadata": {},
   "source": [
    "**ii. Elements in Counter**\n",
    "- ``<counter>.elements()`` returns an iterator over elements repeating each times as count.\n",
    "- Each element in counter accessed as: ``next(<counter>)``\n",
    "- Whole elements: ``list(<counter>.elements())``\n",
    "- (elem, cnt) pairs"
   ]
  },
  {
   "cell_type": "code",
   "execution_count": 5,
   "id": "eaf4b0a2",
   "metadata": {},
   "outputs": [
    {
     "name": "stdout",
     "output_type": "stream",
     "text": [
      "b\n",
      "a\n",
      "a\n",
      "c\n",
      "['b', 'a', 'a', 'c']\n"
     ]
    }
   ],
   "source": [
    "c1 = Counter(b=1, a=2, c=1)\n",
    "c1_el = c1.elements()\n",
    "\n",
    "print(next(c1_el))\n",
    "print(next(c1_el))\n",
    "print(next(c1_el))\n",
    "print(next(c1_el))\n",
    "\n",
    "# or \n",
    "items = list(c1.elements())\n",
    "print(items)"
   ]
  },
  {
   "cell_type": "markdown",
   "id": "c2146ddb",
   "metadata": {},
   "source": [
    "**iii. Most Common Elements**\n",
    "- ``<counter>.most_common(n)``\n",
    "- Return a list of the n most common elements and their counts arranged as a tuple.\n",
    "- Elements with equal counts ordered in the order encountered."
   ]
  },
  {
   "cell_type": "code",
   "execution_count": 6,
   "id": "7ce82d5d",
   "metadata": {},
   "outputs": [
    {
     "data": {
      "text/plain": [
       "[('l', 2), ('H', 1)]"
      ]
     },
     "execution_count": 6,
     "metadata": {},
     "output_type": "execute_result"
    }
   ],
   "source": [
    "Counter(\"Hello\").most_common(2)"
   ]
  },
  {
   "cell_type": "markdown",
   "id": "08cbdb12",
   "metadata": {},
   "source": [
    "**iii. Subtraction (Inplace)**\n",
    "- Counts subtracted for each elements in counter.\n",
    "- ``<counter1>.subtract(counter2)`` -> Inplace.\n",
    "- Resulting counter is sorted in descending order.\n",
    "- Elements with negative count is included."
   ]
  },
  {
   "cell_type": "code",
   "execution_count": 7,
   "id": "5a24857b",
   "metadata": {},
   "outputs": [
    {
     "name": "stdout",
     "output_type": "stream",
     "text": [
      "After inplace C1-C2: C1= Counter({'c': 6, 'a': 2, 'b': 2})\n",
      "After inplace C2-C1: C2 Counter({'a': -2, 'b': -2, 'c': -6})\n"
     ]
    }
   ],
   "source": [
    "c1 = Counter(a=4, b=5, c=6)\n",
    "c2 = Counter(a=2, b=3)\n",
    "\n",
    "# Inplace C1-C2\n",
    "c1.subtract(c2)\n",
    "print(\"After inplace C1-C2: C1=\",c1)\n",
    "\n",
    "c1 = Counter(a=4, b=5, c=6)\n",
    "c2 = Counter(a=2, b=3)\n",
    "\n",
    "# Inplace C2-C1\n",
    "c2.subtract(c1)\n",
    "print(\"After inplace C2-C1: C2\",c2)"
   ]
  },
  {
   "cell_type": "markdown",
   "id": "4135b039",
   "metadata": {},
   "source": [
    "**iv. Outplace Subtraction**\n",
    "- Elements with negative counts are discarded."
   ]
  },
  {
   "cell_type": "code",
   "execution_count": 8,
   "id": "8dc885fd",
   "metadata": {},
   "outputs": [
    {
     "name": "stdout",
     "output_type": "stream",
     "text": [
      "After Outplace C1-C2: C1= Counter({'c': 6, 'a': 2, 'b': 2})\n",
      "After Outplace C2-C1: C2 Counter()\n"
     ]
    }
   ],
   "source": [
    "c1 = Counter(a=4, b=5, c=6)\n",
    "c2 = Counter(a=2, b=3)\n",
    "\n",
    "# Outplace C1-C2\n",
    "print(\"After Outplace C1-C2: C1=\",c1-c2)\n",
    "\n",
    "c1 = Counter(a=4, b=5, c=6)\n",
    "c2 = Counter(a=2, b=3)\n",
    "\n",
    "# Outplace C2-C1\n",
    "print(\"After Outplace C2-C1: C2\",c2-c1)"
   ]
  },
  {
   "cell_type": "markdown",
   "id": "e857088b",
   "metadata": {},
   "source": [
    "**v. Intersection**\n",
    "- min(c1[x], c2[x])\n",
    "- ``c1 & c2`` outplace"
   ]
  },
  {
   "cell_type": "code",
   "execution_count": 9,
   "id": "43bd219e",
   "metadata": {},
   "outputs": [
    {
     "data": {
      "text/plain": [
       "Counter({'b': 3, 'c': 5})"
      ]
     },
     "execution_count": 9,
     "metadata": {},
     "output_type": "execute_result"
    }
   ],
   "source": [
    "c1 = Counter(a=2, b=3, c=5)\n",
    "c2 = Counter(b=4, c=8, f=20)\n",
    "\n",
    "c1 & c2"
   ]
  },
  {
   "cell_type": "markdown",
   "id": "6084f296",
   "metadata": {},
   "source": [
    "**vi. Union**\n",
    "- max(c1[x], c2[x])\n",
    "- ``c1 | c2`` outplace"
   ]
  },
  {
   "cell_type": "code",
   "execution_count": 10,
   "id": "e77e12bb",
   "metadata": {},
   "outputs": [
    {
     "data": {
      "text/plain": [
       "Counter({'a': 2, 'b': 4, 'c': 8, 'f': 20})"
      ]
     },
     "execution_count": 10,
     "metadata": {},
     "output_type": "execute_result"
    }
   ],
   "source": [
    "c1 = Counter(a=2, b=3, c=5)\n",
    "c2 = Counter(b=4, c=8, f=20)\n",
    "\n",
    "c1 | c2"
   ]
  }
 ],
 "metadata": {
  "kernelspec": {
   "display_name": "Python 3",
   "language": "python",
   "name": "python3"
  },
  "language_info": {
   "codemirror_mode": {
    "name": "ipython",
    "version": 3
   },
   "file_extension": ".py",
   "mimetype": "text/x-python",
   "name": "python",
   "nbconvert_exporter": "python",
   "pygments_lexer": "ipython3",
   "version": "3.8.8"
  }
 },
 "nbformat": 4,
 "nbformat_minor": 5
}
