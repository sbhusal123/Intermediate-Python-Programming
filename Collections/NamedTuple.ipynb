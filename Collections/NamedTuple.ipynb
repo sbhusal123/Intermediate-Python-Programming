{
 "cells": [
  {
   "cell_type": "markdown",
   "id": "56860492",
   "metadata": {},
   "source": [
    "# Named Tuples\n",
    "- factory function for creating tuple subclasses with named fields\n",
    "- Similar to struct in C.\n",
    "- Easy to create lightweiht object similar datatype with names as a attributes for object."
   ]
  },
  {
   "cell_type": "code",
   "execution_count": 2,
   "id": "e62dbd7e",
   "metadata": {},
   "outputs": [],
   "source": [
    "from collections import namedtuple"
   ]
  },
  {
   "cell_type": "markdown",
   "id": "86d100c8",
   "metadata": {},
   "source": [
    "**i. Creation / Initialization**\n",
    "- ``namedtuple(<class_name>, <fields separated by comma/space>)``"
   ]
  },
  {
   "cell_type": "code",
   "execution_count": 11,
   "id": "a561a103",
   "metadata": {},
   "outputs": [
    {
     "name": "stdout",
     "output_type": "stream",
     "text": [
      "Point(x=1, y=2)\n"
     ]
    }
   ],
   "source": [
    "Point = namedtuple('Point', 'x,y')\n",
    "pt = Point(x=1, y=2) #must be passed while initializing\n",
    "\n",
    "print(pt)"
   ]
  },
  {
   "cell_type": "markdown",
   "id": "8cd89f3f",
   "metadata": {},
   "source": [
    "**ii. Accessing fields/names**"
   ]
  },
  {
   "cell_type": "code",
   "execution_count": 13,
   "id": "1608867c",
   "metadata": {},
   "outputs": [
    {
     "name": "stdout",
     "output_type": "stream",
     "text": [
      "1\n",
      "2\n"
     ]
    }
   ],
   "source": [
    "print(pt.x)\n",
    "print(pt.y)"
   ]
  }
 ],
 "metadata": {
  "kernelspec": {
   "display_name": "Python 3",
   "language": "python",
   "name": "python3"
  },
  "language_info": {
   "codemirror_mode": {
    "name": "ipython",
    "version": 3
   },
   "file_extension": ".py",
   "mimetype": "text/x-python",
   "name": "python",
   "nbconvert_exporter": "python",
   "pygments_lexer": "ipython3",
   "version": "3.8.8"
  }
 },
 "nbformat": 4,
 "nbformat_minor": 5
}
