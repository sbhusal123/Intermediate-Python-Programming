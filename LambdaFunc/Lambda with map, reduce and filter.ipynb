{
 "cells": [
  {
   "cell_type": "markdown",
   "id": "46442f6e",
   "metadata": {},
   "source": [
    "# Lambda Functions\n",
    "- Anonymous function\n",
    "- Takes any number of arguments, have one expression\n",
    "\n",
    "**Syntax:**\n",
    "```python\n",
    "lambda arg: expression\n",
    "```"
   ]
  },
  {
   "cell_type": "code",
   "execution_count": 1,
   "id": "d0ef2b7c",
   "metadata": {},
   "outputs": [
    {
     "data": {
      "text/plain": [
       "15"
      ]
     },
     "execution_count": 1,
     "metadata": {},
     "output_type": "execute_result"
    }
   ],
   "source": [
    "add10 = lambda x: x+10\n",
    "\n",
    "add10(5)"
   ]
  },
  {
   "cell_type": "code",
   "execution_count": 2,
   "id": "8ee4cf44",
   "metadata": {},
   "outputs": [
    {
     "data": {
      "text/plain": [
       "50"
      ]
     },
     "execution_count": 2,
     "metadata": {},
     "output_type": "execute_result"
    }
   ],
   "source": [
    "multiply = lambda x,y: x*y\n",
    "\n",
    "multiply(5, 10)"
   ]
  },
  {
   "cell_type": "markdown",
   "id": "a15a678c",
   "metadata": {},
   "source": [
    "**Usage with inbuilt function**"
   ]
  },
  {
   "cell_type": "code",
   "execution_count": 3,
   "id": "d65ab435",
   "metadata": {},
   "outputs": [
    {
     "data": {
      "text/plain": [
       "[(1, 2), (2, 3), (3, 10)]"
      ]
     },
     "execution_count": 3,
     "metadata": {},
     "output_type": "execute_result"
    }
   ],
   "source": [
    "points_2d = [(1,2), (2, 3), (3, 10)]\n",
    "\n",
    "# points sorted by x index\n",
    "points_sorted = sorted(points_2d, key=lambda x: x[0])\n",
    "points_sorted"
   ]
  },
  {
   "cell_type": "markdown",
   "id": "3c3be510",
   "metadata": {},
   "source": [
    "# 1. Usage with map function:\n",
    "- **``map(<func>, <iteratable>)``**: Takes every item of iteratable and passes it to func.\n",
    "- **Return type:** Map Object. Result needs to be type casted into iteratable."
   ]
  },
  {
   "cell_type": "code",
   "execution_count": 4,
   "id": "09e4f35b",
   "metadata": {},
   "outputs": [
    {
     "data": {
      "text/plain": [
       "<map at 0x7f8b8c4b45e0>"
      ]
     },
     "execution_count": 4,
     "metadata": {},
     "output_type": "execute_result"
    }
   ],
   "source": [
    "nums = [1, 2, 3, 4]\n",
    "\n",
    "squared = map(lambda x: x*x, nums)\n",
    "\n",
    "# returns a map object\n",
    "squared"
   ]
  },
  {
   "cell_type": "code",
   "execution_count": 5,
   "id": "c6c17659",
   "metadata": {},
   "outputs": [
    {
     "data": {
      "text/plain": [
       "[1, 4, 9, 16]"
      ]
     },
     "execution_count": 5,
     "metadata": {},
     "output_type": "execute_result"
    }
   ],
   "source": [
    "list(squared)"
   ]
  },
  {
   "cell_type": "markdown",
   "id": "a025c62f",
   "metadata": {},
   "source": [
    "**Map with multiple iteratables**"
   ]
  },
  {
   "cell_type": "code",
   "execution_count": 6,
   "id": "5e341276",
   "metadata": {},
   "outputs": [
    {
     "data": {
      "text/plain": [
       "[5, 12, 21, 32]"
      ]
     },
     "execution_count": 6,
     "metadata": {},
     "output_type": "execute_result"
    }
   ],
   "source": [
    "a = [1, 2, 3, 4]\n",
    "b = [5, 6, 7, 8]\n",
    "\n",
    "prod = map(lambda x, y: x*y, a, b)\n",
    "\n",
    "list(prod)"
   ]
  },
  {
   "cell_type": "markdown",
   "id": "cbf1db3d",
   "metadata": {},
   "source": [
    "**Above approach using operator**"
   ]
  },
  {
   "cell_type": "code",
   "execution_count": 7,
   "id": "f5810241",
   "metadata": {},
   "outputs": [
    {
     "data": {
      "text/plain": [
       "[5, 12, 21, 32]"
      ]
     },
     "execution_count": 7,
     "metadata": {},
     "output_type": "execute_result"
    }
   ],
   "source": [
    "import operator\n",
    "a = [1, 2, 3, 4]\n",
    "b = [5, 6, 7, 8]\n",
    "\n",
    "prod = map(operator.mul, a, b)\n",
    "\n",
    "list(prod)"
   ]
  },
  {
   "cell_type": "markdown",
   "id": "5b6b0341",
   "metadata": {},
   "source": [
    "# 2. Usage with Filter\n",
    "- Extracts the elements from the iterable(list,tuples) for which function returns **True**.\n",
    "- **Syntax:** ``filter(function, iterable)``\n",
    "- **Return type:** Filter Object. Result needs to be type casted into iteratable."
   ]
  },
  {
   "cell_type": "code",
   "execution_count": 8,
   "id": "68ce0efd",
   "metadata": {},
   "outputs": [
    {
     "data": {
      "text/plain": [
       "[1, 2, 3, 4, 5, 6, 7, 8, 9, 10]"
      ]
     },
     "execution_count": 8,
     "metadata": {},
     "output_type": "execute_result"
    }
   ],
   "source": [
    "x = [i for i in range(1, 11, 1)]\n",
    "x"
   ]
  },
  {
   "cell_type": "code",
   "execution_count": 9,
   "id": "18697d6e",
   "metadata": {},
   "outputs": [
    {
     "data": {
      "text/plain": [
       "<filter at 0x7f8b8c4b4cd0>"
      ]
     },
     "execution_count": 9,
     "metadata": {},
     "output_type": "execute_result"
    }
   ],
   "source": [
    "even = filter(lambda i: i%2==0, x)\n",
    "\n",
    "even"
   ]
  },
  {
   "cell_type": "code",
   "execution_count": 10,
   "id": "17ece298",
   "metadata": {},
   "outputs": [
    {
     "data": {
      "text/plain": [
       "[2, 4, 6, 8, 10]"
      ]
     },
     "execution_count": 10,
     "metadata": {},
     "output_type": "execute_result"
    }
   ],
   "source": [
    "list(even)"
   ]
  },
  {
   "cell_type": "markdown",
   "id": "a165ef69",
   "metadata": {},
   "source": [
    "**Usage with dictionary**"
   ]
  },
  {
   "cell_type": "code",
   "execution_count": 11,
   "id": "97c545ff",
   "metadata": {},
   "outputs": [
    {
     "data": {
      "text/plain": [
       "[{'name': 'b', 'age': 25}, {'name': 'c', 'age': 30}]"
      ]
     },
     "execution_count": 11,
     "metadata": {},
     "output_type": "execute_result"
    }
   ],
   "source": [
    "persons = [\n",
    "    {'name': 'a', 'age': 20},\n",
    "    {'name': 'b', 'age': 25},\n",
    "    {'name': 'c', 'age': 30},\n",
    "    {'name': 'd', 'age': 10},\n",
    "]\n",
    "\n",
    "persons_with_age_gt_20 = filter(lambda x: x['age'] > 20, persons)\n",
    "\n",
    "list(persons_with_age_gt_20)"
   ]
  },
  {
   "cell_type": "markdown",
   "id": "248ecdbb",
   "metadata": {},
   "source": [
    "# 3. Usage with reduce\n",
    "- Reduces an iteratable to the single value.\n",
    "- **Syntax:** ``reduce(<func with two params>, <iteratable>)``\n",
    "- Return type: ``<type>`` of item in iteratable."
   ]
  },
  {
   "cell_type": "code",
   "execution_count": 12,
   "id": "bd6c3adb",
   "metadata": {},
   "outputs": [
    {
     "data": {
      "text/plain": [
       "120"
      ]
     },
     "execution_count": 12,
     "metadata": {},
     "output_type": "execute_result"
    }
   ],
   "source": [
    "from functools import reduce\n",
    "\n",
    "i = [1, 2, 3, 4, 5]\n",
    "\n",
    "sm = reduce(lambda x,y: x*y, i)\n",
    "\n",
    "sm"
   ]
  }
 ],
 "metadata": {
  "kernelspec": {
   "display_name": "Python 3",
   "language": "python",
   "name": "python3"
  },
  "language_info": {
   "codemirror_mode": {
    "name": "ipython",
    "version": 3
   },
   "file_extension": ".py",
   "mimetype": "text/x-python",
   "name": "python",
   "nbconvert_exporter": "python",
   "pygments_lexer": "ipython3",
   "version": "3.8.8"
  }
 },
 "nbformat": 4,
 "nbformat_minor": 5
}
