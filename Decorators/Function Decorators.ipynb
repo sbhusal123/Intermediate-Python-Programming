{
 "cells": [
  {
   "cell_type": "markdown",
   "id": "c5813847",
   "metadata": {},
   "source": [
    "# Decorators\n",
    "- A function that modifies the behaviour of function without explicitly modifying it.\n",
    "- May have an argument."
   ]
  },
  {
   "cell_type": "markdown",
   "id": "84afe8fa",
   "metadata": {},
   "source": [
    "**Simple Decorator without Any Argument**"
   ]
  },
  {
   "cell_type": "code",
   "execution_count": 1,
   "id": "e393ea58",
   "metadata": {},
   "outputs": [],
   "source": [
    "def start_end_decorator(func):\n",
    "    \"\"\"\n",
    "        name of decorator: say_hi\n",
    "        takes a callable as an argument: decorated function\n",
    "    \"\"\"\n",
    "    def wrapper():\n",
    "        print(\"Start\")\n",
    "        func()\n",
    "        print(\"End\")\n",
    "    return wrapper"
   ]
  },
  {
   "cell_type": "markdown",
   "id": "9e78f018",
   "metadata": {},
   "source": [
    "**Usagae:**"
   ]
  },
  {
   "cell_type": "code",
   "execution_count": 2,
   "id": "d0272138",
   "metadata": {},
   "outputs": [
    {
     "name": "stdout",
     "output_type": "stream",
     "text": [
      "Start\n",
      "Surya\n",
      "End\n"
     ]
    }
   ],
   "source": [
    "@start_end_decorator\n",
    "def print_name():\n",
    "    print(\"Surya\")\n",
    "\n",
    "print_name()"
   ]
  },
  {
   "cell_type": "markdown",
   "id": "8961353e",
   "metadata": {},
   "source": [
    "**Decorating a Function Taking An Argument**"
   ]
  },
  {
   "cell_type": "code",
   "execution_count": 3,
   "id": "7bd332b7",
   "metadata": {},
   "outputs": [],
   "source": [
    "def argumented_function_decorator(func):\n",
    "    def wraps(*args, **kwargs): # argument and keyword args needs to be passed to wrapper\n",
    "        print(\"Start\")\n",
    "        res = func(*args, **kwargs)\n",
    "        print(\"End\")\n",
    "        return res\n",
    "    return wraps\n"
   ]
  },
  {
   "cell_type": "code",
   "execution_count": 4,
   "id": "91bda4dc",
   "metadata": {},
   "outputs": [
    {
     "name": "stdout",
     "output_type": "stream",
     "text": [
      "Start\n",
      "25\n",
      "End\n"
     ]
    },
    {
     "data": {
      "text/plain": [
       "25"
      ]
     },
     "execution_count": 4,
     "metadata": {},
     "output_type": "execute_result"
    }
   ],
   "source": [
    "@argumented_function_decorator\n",
    "def add_10(x):\n",
    "    print(x+10)\n",
    "    return x + 10\n",
    "\n",
    "res = add_10(15)\n",
    "res"
   ]
  },
  {
   "cell_type": "markdown",
   "id": "c7fd27b6",
   "metadata": {},
   "source": [
    "**Identity of Decorated Function**"
   ]
  },
  {
   "cell_type": "code",
   "execution_count": 5,
   "id": "7ad4cd55",
   "metadata": {},
   "outputs": [
    {
     "name": "stdout",
     "output_type": "stream",
     "text": [
      "Help on function wraps in module __main__:\n",
      "\n",
      "wraps(*args, **kwargs)\n",
      "\n"
     ]
    }
   ],
   "source": [
    "help(add_10)"
   ]
  },
  {
   "cell_type": "markdown",
   "id": "a51d4eb4",
   "metadata": {},
   "source": [
    "It shows that the name of the function `add_10` is wraps(*args, * *kwargs)."
   ]
  },
  {
   "cell_type": "markdown",
   "id": "09b8d30f",
   "metadata": {},
   "source": [
    "**Fixing Identity Issue:**"
   ]
  },
  {
   "cell_type": "code",
   "execution_count": 6,
   "id": "c9a5d7d1",
   "metadata": {},
   "outputs": [
    {
     "name": "stdout",
     "output_type": "stream",
     "text": [
      "Help on function add_10 in module __main__:\n",
      "\n",
      "add_10(x)\n",
      "\n"
     ]
    }
   ],
   "source": [
    "import functools\n",
    "\n",
    "def argumented_function_decorator(func):\n",
    "    @functools.wraps(func) # functools wrapper for decorator\n",
    "    def wraps(*args, **kwargs): \n",
    "        print(\"Start\")\n",
    "        res = func(*args, **kwargs)\n",
    "        print(\"End\")\n",
    "        return res\n",
    "    return wraps\n",
    "\n",
    "@argumented_function_decorator\n",
    "def add_10(x):\n",
    "    print(x+10)\n",
    "    return x + 10\n",
    "\n",
    "help(add_10)"
   ]
  },
  {
   "cell_type": "markdown",
   "id": "9087b7e3",
   "metadata": {},
   "source": [
    "**Template**"
   ]
  },
  {
   "cell_type": "code",
   "execution_count": 7,
   "id": "d2a85afe",
   "metadata": {},
   "outputs": [],
   "source": [
    "import functools\n",
    "\n",
    "def my_decorator(func):\n",
    "    @functools.wraps(func) \n",
    "    def wraps(*args, **kwargs): \n",
    "        # todo logic before function execution\n",
    "        res = func(*args, **kwargs)\n",
    "        # todo logic after function execution\n",
    "        return res\n",
    "    return wraps\n",
    "\n",
    "@my_decorator\n",
    "def foo(x):\n",
    "    # logic here\n",
    "    pass"
   ]
  }
 ],
 "metadata": {
  "kernelspec": {
   "display_name": "Python 3",
   "language": "python",
   "name": "python3"
  },
  "language_info": {
   "codemirror_mode": {
    "name": "ipython",
    "version": 3
   },
   "file_extension": ".py",
   "mimetype": "text/x-python",
   "name": "python",
   "nbconvert_exporter": "python",
   "pygments_lexer": "ipython3",
   "version": "3.8.8"
  }
 },
 "nbformat": 4,
 "nbformat_minor": 5
}
