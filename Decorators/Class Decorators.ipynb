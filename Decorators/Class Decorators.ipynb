{
 "cells": [
  {
   "cell_type": "markdown",
   "id": "57e897f6",
   "metadata": {},
   "source": [
    "# Class Decorators:\n",
    "- Defining a decorator as a class"
   ]
  },
  {
   "cell_type": "code",
   "execution_count": 8,
   "id": "5f85ac6d",
   "metadata": {},
   "outputs": [],
   "source": [
    "import functools\n",
    "\n",
    "def mydecorator(func):\n",
    "    \n",
    "    @functools.wraps(func)\n",
    "    def wrapper(*args, **kwargs):\n",
    "        print(\"Before\")\n",
    "        x = func(*args, **kwrags)\n",
    "        print(\"After\")\n",
    "        return x\n",
    "\n",
    "    return wrapper\n",
    "\n",
    "class ClassBasedDecorator:\n",
    "    \n",
    "    def __init__(self, func):\n",
    "        \"\"\"By defaul when decorating, reference to the function is passed\"\"\"\n",
    "        self.func = func\n",
    "    \n",
    "    def __call__(self, *args, **kwrags):\n",
    "        \"\"\"As a wrapper function for function based decorated\n",
    "           In python, classes are also callable\n",
    "        \"\"\"\n",
    "        print(\"Before\")\n",
    "        x = self.func(*args, **kwrags)\n",
    "        print(f\"Result = {x}\")\n",
    "        print(\"After\")\n",
    "        return x"
   ]
  },
  {
   "cell_type": "code",
   "execution_count": 12,
   "id": "d27ca9cd",
   "metadata": {},
   "outputs": [
    {
     "name": "stdout",
     "output_type": "stream",
     "text": [
      "Before\n",
      "Result = 30\n",
      "After\n",
      "\n",
      "\n",
      "Result= 30\n"
     ]
    }
   ],
   "source": [
    "@ClassBasedDecorator\n",
    "def add_10(x):\n",
    "    return x + 10\n",
    "\n",
    "res = add_10(20)\n",
    "print(f\"\\n\\nResult= {res}\")"
   ]
  }
 ],
 "metadata": {
  "kernelspec": {
   "display_name": "Python 3",
   "language": "python",
   "name": "python3"
  },
  "language_info": {
   "codemirror_mode": {
    "name": "ipython",
    "version": 3
   },
   "file_extension": ".py",
   "mimetype": "text/x-python",
   "name": "python",
   "nbconvert_exporter": "python",
   "pygments_lexer": "ipython3",
   "version": "3.8.8"
  }
 },
 "nbformat": 4,
 "nbformat_minor": 5
}
